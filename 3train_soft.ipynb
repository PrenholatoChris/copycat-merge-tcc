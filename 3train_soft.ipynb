{
 "cells": [
  {
   "cell_type": "code",
   "execution_count": 1,
   "id": "73a41bfb-e36e-4689-9922-25461dc1239d",
   "metadata": {},
   "outputs": [],
   "source": [
    "import numpy as np\n",
    "import matplotlib.pyplot as plt\n",
    "import datetime\n",
    "import time\n",
    "import copy\n",
    "import scipy\n",
    "\n",
    "import torch\n",
    "import torch.nn as nn\n",
    "import torch.optim as optim\n",
    "from torch.utils.data import DataLoader, ConcatDataset, Dataset\n",
    "\n",
    "\n",
    "import torchvision\n",
    "import torchvision.transforms as transforms\n",
    "import torchvision.models as models\n",
    "import torchvision.datasets as datasets\n",
    "from torchvision.transforms import ToTensor\n",
    "\n",
    "from image_list import ImageList\n",
    "\n",
    "import utils"
   ]
  },
  {
   "cell_type": "markdown",
   "id": "2585f1ca-dcc7-4493-bd9d-52f9dd880958",
   "metadata": {},
   "source": [
    "# 10 outfeatures"
   ]
  },
  {
   "cell_type": "code",
   "execution_count": null,
   "id": "bff24977-1fa3-468d-b35e-d95a0d0b7541",
   "metadata": {},
   "outputs": [],
   "source": [
    "fake_dataset_mnist = ImageList(\n",
    "    filename=\"pths/0_9/extracted_soft_mnist.txt\",\n",
    "    root=\".\",\n",
    "    color=True,\n",
    "    transform = transforms.Compose([transforms.Resize((32, 32)),\n",
    "                                    ToTensor(),\n",
    "                                    transforms.Normalize((0.5, 0.5, 0.5), (0.5, 0.5, 0.5))\n",
    "                                   ]),\n",
    "    return_filename=False\n",
    ")\n",
    "fake_dataset_svhn = ImageList(\n",
    "    filename=\"pths/0_9/extracted_soft_svhn.txt\",\n",
    "    root=\".\",\n",
    "    color=True,\n",
    "    transform = transforms.Compose([transforms.Resize((32, 32)),\n",
    "                                    ToTensor(),\n",
    "                                    transforms.Normalize((0.5, 0.5, 0.5), (0.5, 0.5, 0.5))\n",
    "                                   ]),\n",
    "    return_filename=False\n",
    ")\n",
    "\n",
    "## Creating a Concatened Dataset\n",
    "fake_dataset_combined = ConcatDataset([fake_dataset_mnist,fake_dataset_svhn])\n",
    "\n",
    "\n",
    "fake_dataloader_mnist = DataLoader(fake_dataset_mnist, batch_size=64, shuffle=False)\n",
    "fake_dataloader_svhn = DataLoader(fake_dataset_svhn, batch_size=64, shuffle=False)\n",
    "fake_dataloader_ms = DataLoader(fake_dataset_combined, batch_size=64, shuffle=True)"
   ]
  },
  {
   "cell_type": "code",
   "execution_count": 5,
   "id": "a8590357-5162-43a3-9184-f50b7ddc0635",
   "metadata": {},
   "outputs": [],
   "source": [
    "fake_dataset_combined = ImageList(\n",
    "    filename=\"pths/0_9/extracted_soft_combined.txt\",\n",
    "    root=\".\",\n",
    "    color=True,\n",
    "    transform = transforms.Compose([transforms.Resize((32, 32)),\n",
    "                                    ToTensor(),\n",
    "                                    transforms.Normalize((0.5, 0.5, 0.5), (0.5, 0.5, 0.5))\n",
    "                                   ]),\n",
    "    return_filename=False\n",
    ")\n",
    "fake_dataloader_combined = DataLoader(fake_dataset_combined, batch_size=64, shuffle=False)"
   ]
  },
  {
   "cell_type": "code",
   "execution_count": 4,
   "id": "bdb71db4-7e5c-4908-91b5-18ed0bae8f91",
   "metadata": {
    "scrolled": true
   },
   "outputs": [
    {
     "name": "stdout",
     "output_type": "stream",
     "text": [
      "Epoch 1/10, Loss: 0.0009\n",
      "Epoch 2/10, Loss: 0.0006\n",
      "Epoch 3/10, Loss: 0.0004\n",
      "Epoch 4/10, Loss: 0.0003\n",
      "Epoch 5/10, Loss: 0.0003\n",
      "Epoch 6/10, Loss: 0.0002\n",
      "Epoch 7/10, Loss: 0.0002\n",
      "Epoch 8/10, Loss: 0.0002\n",
      "Epoch 9/10, Loss: 0.0002\n",
      "Epoch 10/10, Loss: 0.0002\n"
     ]
    },
    {
     "data": {
      "text/plain": [
       "ResNet(\n",
       "  (conv1): Conv2d(3, 64, kernel_size=(7, 7), stride=(2, 2), padding=(3, 3), bias=False)\n",
       "  (bn1): BatchNorm2d(64, eps=1e-05, momentum=0.1, affine=True, track_running_stats=True)\n",
       "  (relu): ReLU(inplace=True)\n",
       "  (maxpool): MaxPool2d(kernel_size=3, stride=2, padding=1, dilation=1, ceil_mode=False)\n",
       "  (layer1): Sequential(\n",
       "    (0): BasicBlock(\n",
       "      (conv1): Conv2d(64, 64, kernel_size=(3, 3), stride=(1, 1), padding=(1, 1), bias=False)\n",
       "      (bn1): BatchNorm2d(64, eps=1e-05, momentum=0.1, affine=True, track_running_stats=True)\n",
       "      (relu): ReLU(inplace=True)\n",
       "      (conv2): Conv2d(64, 64, kernel_size=(3, 3), stride=(1, 1), padding=(1, 1), bias=False)\n",
       "      (bn2): BatchNorm2d(64, eps=1e-05, momentum=0.1, affine=True, track_running_stats=True)\n",
       "    )\n",
       "    (1): BasicBlock(\n",
       "      (conv1): Conv2d(64, 64, kernel_size=(3, 3), stride=(1, 1), padding=(1, 1), bias=False)\n",
       "      (bn1): BatchNorm2d(64, eps=1e-05, momentum=0.1, affine=True, track_running_stats=True)\n",
       "      (relu): ReLU(inplace=True)\n",
       "      (conv2): Conv2d(64, 64, kernel_size=(3, 3), stride=(1, 1), padding=(1, 1), bias=False)\n",
       "      (bn2): BatchNorm2d(64, eps=1e-05, momentum=0.1, affine=True, track_running_stats=True)\n",
       "    )\n",
       "  )\n",
       "  (layer2): Sequential(\n",
       "    (0): BasicBlock(\n",
       "      (conv1): Conv2d(64, 128, kernel_size=(3, 3), stride=(2, 2), padding=(1, 1), bias=False)\n",
       "      (bn1): BatchNorm2d(128, eps=1e-05, momentum=0.1, affine=True, track_running_stats=True)\n",
       "      (relu): ReLU(inplace=True)\n",
       "      (conv2): Conv2d(128, 128, kernel_size=(3, 3), stride=(1, 1), padding=(1, 1), bias=False)\n",
       "      (bn2): BatchNorm2d(128, eps=1e-05, momentum=0.1, affine=True, track_running_stats=True)\n",
       "      (downsample): Sequential(\n",
       "        (0): Conv2d(64, 128, kernel_size=(1, 1), stride=(2, 2), bias=False)\n",
       "        (1): BatchNorm2d(128, eps=1e-05, momentum=0.1, affine=True, track_running_stats=True)\n",
       "      )\n",
       "    )\n",
       "    (1): BasicBlock(\n",
       "      (conv1): Conv2d(128, 128, kernel_size=(3, 3), stride=(1, 1), padding=(1, 1), bias=False)\n",
       "      (bn1): BatchNorm2d(128, eps=1e-05, momentum=0.1, affine=True, track_running_stats=True)\n",
       "      (relu): ReLU(inplace=True)\n",
       "      (conv2): Conv2d(128, 128, kernel_size=(3, 3), stride=(1, 1), padding=(1, 1), bias=False)\n",
       "      (bn2): BatchNorm2d(128, eps=1e-05, momentum=0.1, affine=True, track_running_stats=True)\n",
       "    )\n",
       "  )\n",
       "  (layer3): Sequential(\n",
       "    (0): BasicBlock(\n",
       "      (conv1): Conv2d(128, 256, kernel_size=(3, 3), stride=(2, 2), padding=(1, 1), bias=False)\n",
       "      (bn1): BatchNorm2d(256, eps=1e-05, momentum=0.1, affine=True, track_running_stats=True)\n",
       "      (relu): ReLU(inplace=True)\n",
       "      (conv2): Conv2d(256, 256, kernel_size=(3, 3), stride=(1, 1), padding=(1, 1), bias=False)\n",
       "      (bn2): BatchNorm2d(256, eps=1e-05, momentum=0.1, affine=True, track_running_stats=True)\n",
       "      (downsample): Sequential(\n",
       "        (0): Conv2d(128, 256, kernel_size=(1, 1), stride=(2, 2), bias=False)\n",
       "        (1): BatchNorm2d(256, eps=1e-05, momentum=0.1, affine=True, track_running_stats=True)\n",
       "      )\n",
       "    )\n",
       "    (1): BasicBlock(\n",
       "      (conv1): Conv2d(256, 256, kernel_size=(3, 3), stride=(1, 1), padding=(1, 1), bias=False)\n",
       "      (bn1): BatchNorm2d(256, eps=1e-05, momentum=0.1, affine=True, track_running_stats=True)\n",
       "      (relu): ReLU(inplace=True)\n",
       "      (conv2): Conv2d(256, 256, kernel_size=(3, 3), stride=(1, 1), padding=(1, 1), bias=False)\n",
       "      (bn2): BatchNorm2d(256, eps=1e-05, momentum=0.1, affine=True, track_running_stats=True)\n",
       "    )\n",
       "  )\n",
       "  (layer4): Sequential(\n",
       "    (0): BasicBlock(\n",
       "      (conv1): Conv2d(256, 512, kernel_size=(3, 3), stride=(2, 2), padding=(1, 1), bias=False)\n",
       "      (bn1): BatchNorm2d(512, eps=1e-05, momentum=0.1, affine=True, track_running_stats=True)\n",
       "      (relu): ReLU(inplace=True)\n",
       "      (conv2): Conv2d(512, 512, kernel_size=(3, 3), stride=(1, 1), padding=(1, 1), bias=False)\n",
       "      (bn2): BatchNorm2d(512, eps=1e-05, momentum=0.1, affine=True, track_running_stats=True)\n",
       "      (downsample): Sequential(\n",
       "        (0): Conv2d(256, 512, kernel_size=(1, 1), stride=(2, 2), bias=False)\n",
       "        (1): BatchNorm2d(512, eps=1e-05, momentum=0.1, affine=True, track_running_stats=True)\n",
       "      )\n",
       "    )\n",
       "    (1): BasicBlock(\n",
       "      (conv1): Conv2d(512, 512, kernel_size=(3, 3), stride=(1, 1), padding=(1, 1), bias=False)\n",
       "      (bn1): BatchNorm2d(512, eps=1e-05, momentum=0.1, affine=True, track_running_stats=True)\n",
       "      (relu): ReLU(inplace=True)\n",
       "      (conv2): Conv2d(512, 512, kernel_size=(3, 3), stride=(1, 1), padding=(1, 1), bias=False)\n",
       "      (bn2): BatchNorm2d(512, eps=1e-05, momentum=0.1, affine=True, track_running_stats=True)\n",
       "    )\n",
       "  )\n",
       "  (avgpool): AdaptiveAvgPool2d(output_size=(1, 1))\n",
       "  (fc): Linear(in_features=512, out_features=10, bias=True)\n",
       ")"
      ]
     },
     "execution_count": 4,
     "metadata": {},
     "output_type": "execute_result"
    }
   ],
   "source": [
    "model_copycat = utils.create_resnet_model()\n",
    "model_copycat = utils.train_soft(model_copycat, fake_dataloader_mnist, epochs=10, lr=0.001, outputname='pths/0_9/copycat_m')\n",
    "# torch.save(model_copycat.state_dict(), './pths/copycat_m10_soft.pth')"
   ]
  },
  {
   "cell_type": "code",
   "execution_count": 5,
   "id": "e09bcdc1-f341-40bf-ae82-96a7ef3d57b3",
   "metadata": {},
   "outputs": [
    {
     "name": "stdout",
     "output_type": "stream",
     "text": [
      "Epoch 1/10, Loss: 0.0012\n",
      "Epoch 2/10, Loss: 0.0012\n",
      "Epoch 3/10, Loss: 0.0011\n",
      "Epoch 4/10, Loss: 0.0011\n",
      "Epoch 5/10, Loss: 0.0011\n",
      "Epoch 6/10, Loss: 0.0010\n",
      "Epoch 7/10, Loss: 0.0010\n",
      "Epoch 8/10, Loss: 0.0010\n",
      "Epoch 9/10, Loss: 0.0010\n",
      "Epoch 10/10, Loss: 0.0010\n"
     ]
    }
   ],
   "source": [
    "model_copycat = utils.create_resnet_model('./pths/copycat_m8_s2_soft.pth')\n",
    "model_copycat = utils.train_soft(model_copycat, fake_dataloader_svhn, epochs=10, lr=0.001, outputname='pths/0_9/copycat_soft_m8_s')\n",
    "# torch.save(model_copycat.state_dict(), './pths/copycat_m10_soft.pth')"
   ]
  },
  {
   "cell_type": "code",
   "execution_count": 8,
   "id": "42e45f45-e449-4c60-8826-d3bd24d77b05",
   "metadata": {},
   "outputs": [
    {
     "name": "stdout",
     "output_type": "stream",
     "text": [
      "Epoch 1/10, Loss: 0.0023\n",
      "Epoch 2/10, Loss: 0.0021\n",
      "Epoch 3/10, Loss: 0.0020\n",
      "Epoch 4/10, Loss: 0.0020\n",
      "Epoch 5/10, Loss: 0.0020\n",
      "Epoch 6/10, Loss: 0.0020\n",
      "Epoch 7/10, Loss: 0.0019\n",
      "Epoch 8/10, Loss: 0.0019\n",
      "Epoch 9/10, Loss: 0.0019\n",
      "Epoch 10/10, Loss: 0.0019\n"
     ]
    }
   ],
   "source": [
    "model_copycat = utils.create_resnet_model()\n",
    "model_copycat = utils.train_soft(model_copycat, fake_dataloader_ms, epochs=10, lr=0.001)\n",
    "# torch.save(model_copycat.state_dict(), './pths/copycat_m10_soft.pth')"
   ]
  },
  {
   "cell_type": "code",
   "execution_count": null,
   "id": "2a735535-8ec2-4cb9-ad89-f7b5fdcd7760",
   "metadata": {},
   "outputs": [
    {
     "name": "stdout",
     "output_type": "stream",
     "text": [
      "Epoch 1/10, Loss: 0.0024\n"
     ]
    }
   ],
   "source": [
    "model_copycat = utils.create_resnet_model()\n",
    "model_copycat = utils.train_soft(model_copycat, fake_dataloader_combined, epochs=10, lr=0.001)"
   ]
  },
  {
   "cell_type": "code",
   "execution_count": null,
   "id": "d13868e0-debe-4290-9cc3-107e41f56f6f",
   "metadata": {
    "scrolled": true
   },
   "outputs": [],
   "source": [
    "'''model_copycat = utils.create_resnet_model()\n",
    "utils.train_soft(model_copycat, fake_dataloader_combined, epochs=10, lr=0.001)\n",
    "torch.save(model_copycat.state_dict(), './my_weights/copycat_c10_soft.pth')'''\n",
    "\n",
    "print(\"teste\")"
   ]
  },
  {
   "cell_type": "code",
   "execution_count": null,
   "id": "f58d5d4c-2563-4420-96f0-d86be04c66f5",
   "metadata": {},
   "outputs": [],
   "source": [
    "model_copycat = utils.create_resnet_model()\n",
    "acc1 = 0\n",
    "acc2 = 1\n",
    "count = 0\n",
    "model_copycat2 = copy.deepcopy(model_copycat)\n",
    "\n",
    "while acc2 > acc1:\n",
    "    count +=1\n",
    "    model_copycat = copy.deepcopy(model_copycat2)\n",
    "    _, acc1= utils.evaluate(model_copycat, test_dataloader_combined)\n",
    "    utils.train(model_copycat2, fake_dataloader_combined, epochs=1, lr=0.001)\n",
    "    _, acc2 = utils.evaluate(model_copycat2, test_dataloader_combined)\n",
    "    print(f'new acc={acc2}% | old acc{acc1}')\n",
    "    \n",
    "\n",
    "torch.save(model_copycat.state_dict(), f'./pths/copycat32_{count}c.pth')"
   ]
  },
  {
   "cell_type": "markdown",
   "id": "9c60c7f6-ec7c-4bb0-8250-9107719d0bf8",
   "metadata": {},
   "source": [
    "# 20 outfeatures"
   ]
  },
  {
   "cell_type": "code",
   "execution_count": 7,
   "id": "1c4e8930-7d6e-4757-9375-6423397647fc",
   "metadata": {},
   "outputs": [],
   "source": [
    "fake_dataset_mnist = ImageList(\n",
    "    filename=\"pths/0_19/extracted_soft_mnist0_9.txt\",\n",
    "    root=\".\",\n",
    "    color=True,\n",
    "    transform = transforms.Compose([transforms.Resize((32, 32)),\n",
    "                                    ToTensor(),\n",
    "                                    transforms.Normalize((0.5, 0.5, 0.5), (0.5, 0.5, 0.5))\n",
    "                                   ]),\n",
    "    return_filename=False\n",
    ")\n",
    "fake_dataset_svhn = ImageList(\n",
    "    filename=\"pths/0_19/extracted_soft_svhn10_19.txt\",\n",
    "    root=\".\",\n",
    "    color=True,\n",
    "    transform = transforms.Compose([transforms.Resize((32, 32)),\n",
    "                                    ToTensor(),\n",
    "                                    transforms.Normalize((0.5, 0.5, 0.5), (0.5, 0.5, 0.5))\n",
    "                                   ]),\n",
    "    return_filename=False\n",
    ")\n",
    "\n",
    "\n",
    "\n",
    "\n",
    "fake_dataloader_mnist = DataLoader(fake_dataset_mnist, batch_size=64, shuffle=False)\n",
    "fake_dataloader_svhn = DataLoader(fake_dataset_svhn, batch_size=64, shuffle=False)\n",
    "\n",
    "\n",
    "## Creating a Concatened Dataset\n",
    "fake_dataset_ms = ConcatDataset([fake_dataset_mnist,fake_dataset_svhn])\n",
    "fake_dataloader_ms = DataLoader(fake_dataset_ms, batch_size=64, shuffle=True)"
   ]
  },
  {
   "cell_type": "code",
   "execution_count": 3,
   "id": "3c72beb9-db1d-4b82-990a-67e7a2bacda7",
   "metadata": {},
   "outputs": [],
   "source": [
    "# it = iter(fake_dataloader_ms)\n",
    "# next(it)"
   ]
  },
  {
   "cell_type": "code",
   "execution_count": 4,
   "id": "a455c52b-2e7e-49da-98be-7bacdd038e37",
   "metadata": {},
   "outputs": [
    {
     "name": "stdout",
     "output_type": "stream",
     "text": [
      "Epoch 1/10, Loss: 0.0014\n",
      "Epoch 2/10, Loss: 0.0013\n",
      "Epoch 3/10, Loss: 0.0013\n",
      "Epoch 4/10, Loss: 0.0013\n",
      "Epoch 5/10, Loss: 0.0013\n",
      "Epoch 6/10, Loss: 0.0012\n",
      "Epoch 7/10, Loss: 0.0012\n",
      "Epoch 8/10, Loss: 0.0012\n",
      "Epoch 9/10, Loss: 0.0012\n",
      "Epoch 10/10, Loss: 0.0012\n"
     ]
    }
   ],
   "source": [
    "model_copycat = utils.create_resnet_model(None, 20)\n",
    "model_copycat = utils.train_soft(model_copycat, fake_dataloader_ms, outputname='./pths/0_19/copycat_soft_ms')\n",
    "# torch.save(model_copycat.state_dict(), './pths/0_19/copycat_soft_ms10.pth')"
   ]
  },
  {
   "cell_type": "code",
   "execution_count": null,
   "id": "0b44f22c-5af7-46e7-ace2-eafdc57de4a8",
   "metadata": {},
   "outputs": [
    {
     "name": "stdout",
     "output_type": "stream",
     "text": [
      "Epoch 1/10, Loss: 0.0005\n"
     ]
    }
   ],
   "source": [
    "model_copycat = utils.create_resnet_model(None, 20)\n",
    "model_copycat = utils.train_soft(model_copycat, fake_dataloader_mnist, outputname='./pths/0_19/copycat_soft_m')"
   ]
  },
  {
   "cell_type": "code",
   "execution_count": null,
   "id": "3f6df1c3-f6b7-409f-beb3-0866130fa19b",
   "metadata": {},
   "outputs": [],
   "source": []
  }
 ],
 "metadata": {
  "kernelspec": {
   "display_name": "Python 3 (ipykernel)",
   "language": "python",
   "name": "python3"
  },
  "language_info": {
   "codemirror_mode": {
    "name": "ipython",
    "version": 3
   },
   "file_extension": ".py",
   "mimetype": "text/x-python",
   "name": "python",
   "nbconvert_exporter": "python",
   "pygments_lexer": "ipython3",
   "version": "3.12.3"
  }
 },
 "nbformat": 4,
 "nbformat_minor": 5
}
