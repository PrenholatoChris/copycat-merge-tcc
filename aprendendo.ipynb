{
 "cells": [
  {
   "cell_type": "markdown",
   "id": "e25c3147-5e90-45a3-b884-be27f10dd6a3",
   "metadata": {},
   "source": [
    "# Import torch, torchvision, numpy..."
   ]
  },
  {
   "cell_type": "code",
   "execution_count": 1,
   "id": "41bb4c51-8332-4fba-ba85-0c4517dcfd29",
   "metadata": {
    "scrolled": true
   },
   "outputs": [],
   "source": [
    "import numpy as np\n",
    "import matplotlib.pyplot as plt\n",
    "import datetime\n",
    "import time\n",
    "import scipy\n",
    "\n",
    "import torch\n",
    "import torch.nn as nn\n",
    "import torch.optim as optim\n",
    "from torch.utils.data import DataLoader, ConcatDataset, Dataset\n",
    "\n",
    "\n",
    "import torchvision\n",
    "import torchvision.transforms as transforms\n",
    "import torchvision.models as models\n",
    "import torchvision.datasets as datasets\n",
    "from torchvision.transforms import ToTensor\n",
    "\n",
    "import utils"
   ]
  },
  {
   "cell_type": "markdown",
   "id": "363e35fb-330b-4b3a-8a8b-f3f8a2e56f57",
   "metadata": {},
   "source": [
    "# Datasets"
   ]
  },
  {
   "cell_type": "markdown",
   "id": "faa89a5b-6e5c-4532-81fd-1e604dbfa42a",
   "metadata": {},
   "source": [
    "## Download (MNIST, SVHN, COMBINED )"
   ]
  },
  {
   "cell_type": "code",
   "execution_count": 3,
   "id": "9b026a76-1e87-4207-a04a-ee6ba299b8c0",
   "metadata": {},
   "outputs": [],
   "source": [
    "#Mean: tensor([0 1309, 0.1309, 0.1309])\n",
    "#Standard Deviation: tensor([0.2893, 0.2893, 0.2893])\n",
    "train_dataset_mnist = datasets.MNIST(\n",
    "    root = 'data',\n",
    "    train = True,                         \n",
    "    transform = transforms.Compose([transforms.Grayscale(3),\n",
    "                                    transforms.Resize((32, 32)),\n",
    "                                    transforms.ToTensor(),\n",
    "                                    transforms.Normalize((0.5, 0.5, 0.5), (0.5, 0.5, 0.5))\n",
    "                                   ]),\n",
    "    download = True,            \n",
    ")\n",
    "test_dataset_mnist = datasets.MNIST(\n",
    "    root = 'data', \n",
    "    train = False, \n",
    "    transform = transforms.Compose([transforms.Grayscale(3),\n",
    "                                    transforms.Resize((32, 32)),\n",
    "                                    transforms.ToTensor(),\n",
    "                                    transforms.Normalize((0.5, 0.5, 0.5), (0.5, 0.5, 0.5))\n",
    "                                   ]),\n",
    ")\n",
    "\n",
    "\n",
    "#Mean: tensor([0.4377, 0.4438, 0.4728])\n",
    "#Standard Deviation: tensor([0.1980, 0.2010, 0.1970])\n",
    "train_dataset_svhn = datasets.SVHN(\n",
    "    root = 'data/SVHN',\n",
    "    split = 'train',\n",
    "    transform = transforms.Compose([ToTensor(),\n",
    "                                   transforms.Normalize((0.5, 0.5, 0.5), (0.5, 0.5, 0.5))\n",
    "                                   ]),\n",
    "    download = True,            \n",
    ")\n",
    "test_dataset_svhn = datasets.SVHN(\n",
    "    root = 'data/SVHN', \n",
    "    split = 'test', \n",
    "    transform = transforms.Compose([ToTensor(),\n",
    "                                   transforms.Normalize((0.5, 0.5, 0.5), (0.5, 0.5, 0.5))\n",
    "                                   ]),\n",
    "    download = True,\n",
    ")\n",
    "\n",
    "## Creating a Concatened Dataset\n",
    "train_dataset_combined = ConcatDataset([train_dataset_mnist,train_dataset_svhn])\n",
    "test_dataset_combined = ConcatDataset([test_dataset_mnist,test_dataset_svhn])\n",
    "\n",
    "\n",
    "\n",
    "# dataloaders\n",
    "train_dataloader_mnist = torch.utils.data.DataLoader(train_dataset_mnist,batch_size=64, shuffle=False)\n",
    "test_dataloader_mnist = torch.utils.data.DataLoader(test_dataset_mnist,batch_size=64, shuffle=False)\n",
    "\n",
    "train_dataloader_svhn = torch.utils.data.DataLoader(train_dataset_svhn,batch_size=64, shuffle=False)\n",
    "test_dataloader_svhn = torch.utils.data.DataLoader(test_dataset_svhn,batch_size=64, shuffle=False)\n",
    "\n",
    "train_dataloader_combined = DataLoader(train_dataset_combined, batch_size=64, shuffle=False)\n",
    "test_dataloader_combined = DataLoader(test_dataset_combined, batch_size=64, shuffle=False)\n",
    "\n",
    "device = torch.device('cuda' if torch.cuda.is_available() else 'cpu')\n",
    "\n",
    "classes_20 = [\"0-mnist\", \"1-mnist\", \"2-mnist\", \"3-mnist\", \"4-mnist\", \"5-mnist\", \"6-mnist\", \"7-mnist\", \"8-mnist\", \"9-mnist\",\n",
    "           \"0-svhn\", \"1-svhn\", \"2-svhn\", \"3-svhn\", \"4-svhn\", \"5-svhn\", \"6-svhn\", \"7-svhn\", \"8-svhn\", \"9-svhn\"]"
   ]
  },
  {
   "cell_type": "code",
   "execution_count": null,
   "id": "e7e3120b-f560-4b87-bbbd-cc1f5c5f1211",
   "metadata": {},
   "outputs": [],
   "source": [
    "# Calculate mean and std\n",
    "#mean, std = get_mean_and_std(test_loader)\n",
    "#print(f'Mean: {mean}')\n",
    "#print(f'Standard Deviation: {std}')"
   ]
  },
  {
   "cell_type": "markdown",
   "id": "3014d1f0-bbfd-44a4-bfed-b270e728d767",
   "metadata": {},
   "source": [
    "## Print Datasets\n"
   ]
  },
  {
   "cell_type": "markdown",
   "id": "4e94d3df-0ae3-4619-b954-13b059a57376",
   "metadata": {
    "jp-MarkdownHeadingCollapsed": true
   },
   "source": [
    "### MNIST"
   ]
  },
  {
   "cell_type": "code",
   "execution_count": 69,
   "id": "e14c2b6f-5fe5-4981-bbaa-c17dc95cb698",
   "metadata": {
    "scrolled": true
   },
   "outputs": [
    {
     "name": "stdout",
     "output_type": "stream",
     "text": [
      "torch.Size([28, 28])\n"
     ]
    },
    {
     "data": {
      "image/png": "[encoded data removed]",
      "text/plain": [
       "<Figure size 640x480 with 1 Axes>"
      ]
     },
     "metadata": {},
     "output_type": "display_data"
    },
    {
     "name": "stdout",
     "output_type": "stream",
     "text": [
      "torch.Size([3, 32, 32])\n"
     ]
    },
    {
     "data": {
      "image/png": "[encoded data removed]",
      "text/plain": [
       "<Figure size 640x480 with 1 Axes>"
      ]
     },
     "metadata": {},
     "output_type": "display_data"
    }
   ],
   "source": [
    "print(train_dataset_mnist.data[0].shape)\n",
    "plt.imshow(train_dataset_mnist.data[0], cmap='gray')\n",
    "\n",
    "# print(train_data[0][0][0].shape)\n",
    "# plt.imshow(train_data[0][0][0], cmap='gray')\n",
    "\n",
    "plt.title('%i' % train_dataset_mnist.targets[0])\n",
    "plt.show()\n",
    "\n",
    "plt.figure()\n",
    "print(train_dataset_mnist[0][0].shape)\n",
    "\n",
    "plt.title('%i' % train_dataset_mnist.targets[2])\n",
    "imshow(train_dataset_mnist[2][0])\n",
    "plt.show()"
   ]
  },
  {
   "cell_type": "code",
   "execution_count": null,
   "id": "ad9e0dea-44cc-4739-933e-102f4888ee81",
   "metadata": {},
   "outputs": [],
   "source": [
    "figure = plt.figure(figsize=(10, 8))\n",
    "cols, rows = 5, 5\n",
    "for i in range(1, cols * rows + 1):\n",
    "    sample_idx = torch.randint(len(train_dataset_mnist), size=(1,)).item()\n",
    "    img = train_dataset_mnist.data[sample_idx]\n",
    "    label = train_dataset_mnist.targets[sample_idx].item()\n",
    "    figure.add_subplot(rows, cols, i)\n",
    "    plt.title(label)\n",
    "    plt.axis(\"off\")\n",
    "    plt.imshow(img, cmap=\"gray\")\n",
    "plt.show()"
   ]
  },
  {
   "cell_type": "markdown",
   "id": "a293ddd8-069a-4238-9582-4277a8ba3890",
   "metadata": {
    "jp-MarkdownHeadingCollapsed": true
   },
   "source": [
    "### SVHN"
   ]
  },
  {
   "cell_type": "code",
   "execution_count": 68,
   "id": "4c14fcfd-9f9d-4025-b276-e362dec7e3d9",
   "metadata": {},
   "outputs": [
    {
     "name": "stdout",
     "output_type": "stream",
     "text": [
      "torch.Size([3, 32, 32])\n"
     ]
    },
    {
     "data": {
      "image/png": "[encoded data removed]",
      "text/plain": [
       "<Figure size 640x480 with 1 Axes>"
      ]
     },
     "metadata": {},
     "output_type": "display_data"
    }
   ],
   "source": [
    "plt.figure()\n",
    "print(train_dataset_svhn[0][0].shape)\n",
    "imshow(train_dataset_svhn[9][0])"
   ]
  },
  {
   "cell_type": "code",
   "execution_count": null,
   "id": "94d78f30-75e6-45fb-9055-26913be03e24",
   "metadata": {},
   "outputs": [],
   "source": [
    "figure = plt.figure(figsize=(10, 8))\n",
    "cols, rows = 5, 5\n",
    "for i in range(1, cols * rows + 1):\n",
    "    sample_idx = torch.randint(len(train_dataset_svhn), size=(1,)).item()\n",
    "    img, label = train_dataset_svhn[sample_idx]\n",
    "    img = img / 2 + 0.5     # unnormalize\n",
    "    npimg = img.numpy()\n",
    "    figure.add_subplot(rows, cols, i)\n",
    "    plt.title(label)\n",
    "    plt.axis(\"off\")\n",
    "    # plt.imshow(np.transpose(npimg, (1, 2, 0)))\n",
    "    plt.imshow(np.transpose(npimg, (1, 2, 0)))\n",
    "plt.show()"
   ]
  },
  {
   "cell_type": "markdown",
   "id": "eb7efa11-0b82-4b28-9f8d-92a90ede0f1d",
   "metadata": {
    "jp-MarkdownHeadingCollapsed": true
   },
   "source": [
    "### Concatened"
   ]
  },
  {
   "cell_type": "code",
   "execution_count": 70,
   "id": "c1e58489-f1ae-4270-96a3-121ebba184cd",
   "metadata": {
    "scrolled": true
   },
   "outputs": [
    {
     "name": "stdout",
     "output_type": "stream",
     "text": [
      "6\n"
     ]
    },
    {
     "data": {
      "image/png": "[encoded data removed]",
      "text/plain": [
       "<Figure size 640x480 with 1 Axes>"
      ]
     },
     "metadata": {},
     "output_type": "display_data"
    },
    {
     "name": "stdout",
     "output_type": "stream",
     "text": [
      "6\n"
     ]
    },
    {
     "data": {
      "image/png": "[encoded data removed]",
      "text/plain": [
       "<Figure size 640x480 with 1 Axes>"
      ]
     },
     "metadata": {},
     "output_type": "display_data"
    },
    {
     "name": "stdout",
     "output_type": "stream",
     "text": [
      "5\n"
     ]
    },
    {
     "data": {
      "image/png": "[encoded data removed]",
      "text/plain": [
       "<Figure size 640x480 with 1 Axes>"
      ]
     },
     "metadata": {},
     "output_type": "display_data"
    },
    {
     "name": "stdout",
     "output_type": "stream",
     "text": [
      "7\n"
     ]
    },
    {
     "data": {
      "image/png": "[encoded data removed]",
      "text/plain": [
       "<Figure size 640x480 with 1 Axes>"
      ]
     },
     "metadata": {},
     "output_type": "display_data"
    }
   ],
   "source": [
    "# Inicio\n",
    "print(test_dataset_combined[100][1])\n",
    "imshow(test_dataset_combined[100][0])\n",
    "#mnist 0 - 9999\n",
    "print(test_dataset_combined[9999][1])\n",
    "imshow(test_dataset_combined[9999][0])\n",
    "# Fim\n",
    "\n",
    "\n",
    "# svhn 10000 - 36031\n",
    "print(test_dataset_combined[10000][1])\n",
    "imshow(test_dataset_combined[10000][0])\n",
    "print(test_dataset_combined[36031][1])\n",
    "imshow(test_dataset_combined[36031][0])\n",
    "# Fim\n"
   ]
  },
  {
   "cell_type": "markdown",
   "id": "6a7ac199-be52-4813-a09f-2497bbbfe51e",
   "metadata": {},
   "source": [
    "# Models"
   ]
  },
  {
   "cell_type": "markdown",
   "id": "a0285d7e-f4ec-433d-9150-0a546c673e60",
   "metadata": {},
   "source": [
    "## Create or Load"
   ]
  },
  {
   "cell_type": "code",
   "execution_count": 4,
   "id": "398d611f-2dfa-469e-934d-d737b889a885",
   "metadata": {},
   "outputs": [],
   "source": [
    "model_mnist = utils.create_resnet_model()\n",
    "model_svhn = utils.create_resnet_model()\n",
    "model_combined = utils.create_resnet_model()"
   ]
  },
  {
   "cell_type": "code",
   "execution_count": 5,
   "id": "01c2bc09-7370-4b3d-bb3c-a1e51294cd92",
   "metadata": {},
   "outputs": [],
   "source": [
    "model_mnist = utils.create_resnet_model('./my_weights/mnist.pth')\n",
    "model_svhn = utils.create_resnet_model('./my_weights/svhn.pth')\n",
    "model_combined = utils.create_resnet_model('./my_weights/combined.pth')"
   ]
  },
  {
   "cell_type": "markdown",
   "id": "3c31fa25-2feb-4f90-bffd-d5dfb05d6d72",
   "metadata": {},
   "source": [
    "## Train and Save"
   ]
  },
  {
   "cell_type": "code",
   "execution_count": 6,
   "id": "9fd9ff78-d996-4b1c-b4c5-87c402711149",
   "metadata": {},
   "outputs": [],
   "source": [
    "\n",
    "# train(model_mnist, train_dataloader_mnist, device, epochs=10, lr=0.001)\n",
    "# torch.save(model_mnist.state_dict(), './my_weights/mnist.pth')\n",
    "\n",
    "\n",
    "# train(model_svhn, train_dataloader_svhn, device, epochs=10, lr=0.001)\n",
    "# torch.save(model_svhn.state_dict(), './my_weights/svhn.pth')\n",
    "\n",
    "\n",
    "# train(model_combined, train_dataloader_combined, device, epochs=10, lr=0.001)\n",
    "# torch.save(model_combined.state_dict(), './my_weights/combined.pth')"
   ]
  },
  {
   "cell_type": "markdown",
   "id": "58221a00-34ac-4e78-bdf1-f72d5a282889",
   "metadata": {},
   "source": [
    "## Evaluate"
   ]
  },
  {
   "cell_type": "code",
   "execution_count": 7,
   "id": "bbb35ab3-8af2-4f25-bb4d-15eed080bced",
   "metadata": {},
   "outputs": [
    {
     "name": "stdout",
     "output_type": "stream",
     "text": [
      "model_mnist - Test Loss: 0.0295, Accuracy: 99.29\n",
      "model_svhn - Test Loss: 0.2867, Accuracy: 93.10\n",
      "model_combined - Test Loss: 0.2748, Accuracy: 93.42\n"
     ]
    }
   ],
   "source": [
    "# Test each model in itself dataset\n",
    "test_loss, accuracy = utils.evaluate(model_mnist, test_dataloader_mnist)\n",
    "print(f\"model_mnist - Test Loss: {test_loss:.4f}, Accuracy: {accuracy:.2f}\")\n",
    "\n",
    "test_loss, accuracy = utils.evaluate(model_svhn, test_dataloader_svhn)\n",
    "print(f\"model_svhn - Test Loss: {test_loss:.4f}, Accuracy: {accuracy:.2f}\")\n",
    "\n",
    "test_loss, accuracy = utils.evaluate(model_combined, test_dataloader_combined)\n",
    "print(f\"model_combined - Test Loss: {test_loss:.4f}, Accuracy: {accuracy:.2f}\")"
   ]
  },
  {
   "cell_type": "code",
   "execution_count": 11,
   "id": "4b5e8327-bd98-4872-9be2-030c72fb1699",
   "metadata": {},
   "outputs": [
    {
     "name": "stdout",
     "output_type": "stream",
     "text": [
      "model_mnist - Test Loss: 4.0137, Accuracy: 43.71\n",
      "model_svhn - Test Loss: 0.6263, Accuracy: 85.31\n",
      "model_combined - Test Loss: 0.2748, Accuracy: 93.42\n"
     ]
    }
   ],
   "source": [
    "# Test each model in combined dataset\n",
    "test_loss, accuracy = utils.evaluate(model_mnist, test_dataloader_combined)\n",
    "print(f\"model_mnist - Test Loss: {test_loss:.4f}, Accuracy: {accuracy:.2f}\")\n",
    "\n",
    "test_loss, accuracy = utils.evaluate(model_svhn, test_dataloader_combined)\n",
    "print(f\"model_svhn - Test Loss: {test_loss:.4f}, Accuracy: {accuracy:.2f}\")\n",
    "\n",
    "test_loss, accuracy = utils.evaluate(model_combined, test_dataloader_combined)\n",
    "print(f\"model_combined - Test Loss: {test_loss:.4f}, Accuracy: {accuracy:.2f}\")"
   ]
  },
  {
   "cell_type": "markdown",
   "id": "aafc5149-7473-4618-8fb9-8169597b09c5",
   "metadata": {},
   "source": [
    "# Test copycat_framework"
   ]
  },
  {
   "cell_type": "code",
   "execution_count": 292,
   "id": "d4b2d14d-3590-439a-9438-ea2550d07e53",
   "metadata": {},
   "outputs": [
    {
     "name": "stdout",
     "output_type": "stream",
     "text": [
      "./my_weights/mnist.pth - Test Loss: 0.0295, Accuracy: 99.29%\n",
      "./weights_primeiro/mnist.pth - Test Loss: 2.5911, Accuracy: 11.68%\n"
     ]
    }
   ],
   "source": [
    "#mnist\n",
    "compare_models_in_dataloader('./my_weights/mnist.pth', './weights_primeiro/mnist.pth', test_dataloader_mnist)"
   ]
  },
  {
   "cell_type": "code",
   "execution_count": 293,
   "id": "7e0f6153-8c37-4cb5-8cfa-fb5f8b8d6b3b",
   "metadata": {},
   "outputs": [
    {
     "name": "stdout",
     "output_type": "stream",
     "text": [
      "./my_weights/svhn.pth - Test Loss: 0.2867, Accuracy: 93.10%\n",
      "./weights_primeiro/svhn.pth - Test Loss: 2.3238, Accuracy: 14.39%\n"
     ]
    }
   ],
   "source": [
    "#svhn\n",
    "compare_models_in_dataloader('./my_weights/svhn.pth', './weights_primeiro/svhn.pth', test_dataloader_svhn)"
   ]
  },
  {
   "cell_type": "code",
   "execution_count": 294,
   "id": "b61cb047-7bb7-426e-b1d7-a261faf08505",
   "metadata": {},
   "outputs": [
    {
     "name": "stdout",
     "output_type": "stream",
     "text": [
      "./my_weights/combined.pth - Test Loss: 0.2748, Accuracy: 93.42%\n",
      "./weights_primeiro/copycat_mnist.pth - Test Loss: 5.5453, Accuracy: 11.13%\n"
     ]
    }
   ],
   "source": [
    "#combined (mnist+svhn)\n",
    "compare_models_in_dataloader('./my_weights/combined.pth', './weights_primeiro/copycat_mnist.pth', test_dataloader_combined)"
   ]
  },
  {
   "cell_type": "markdown",
   "id": "18c1acb8-8201-48f4-bcfa-5f7bef60a42d",
   "metadata": {},
   "source": [
    "# Copycat"
   ]
  },
  {
   "cell_type": "code",
   "execution_count": null,
   "id": "795fc1e4-0783-485f-b9d4-2d09e27220e9",
   "metadata": {},
   "outputs": [],
   "source": []
  }
 ],
 "metadata": {
  "kernelspec": {
   "display_name": "Python 3 (ipykernel)",
   "language": "python",
   "name": "python3"
  },
  "language_info": {
   "codemirror_mode": {
    "name": "ipython",
    "version": 3
   },
   "file_extension": ".py",
   "mimetype": "text/x-python",
   "name": "python",
   "nbconvert_exporter": "python",
   "pygments_lexer": "ipython3",
   "version": "3.11.2"
  }
 },
 "nbformat": 4,
 "nbformat_minor": 5
}
