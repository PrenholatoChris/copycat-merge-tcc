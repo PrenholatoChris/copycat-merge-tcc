{
 "cells": [
  {
   "cell_type": "code",
   "execution_count": 24,
   "id": "caa0db9c-c665-4a2c-a484-7e549937d5ef",
   "metadata": {},
   "outputs": [],
   "source": [
    "import numpy as np\n",
    "import matplotlib.pyplot as plt\n",
    "import datetime\n",
    "import time\n",
    "import copy\n",
    "import scipy\n",
    "\n",
    "import torch\n",
    "import torch.nn as nn\n",
    "import torch.optim as optim\n",
    "from torch.utils.data import DataLoader, ConcatDataset, Dataset\n",
    "\n",
    "\n",
    "import torchvision\n",
    "import torchvision.transforms as transforms\n",
    "import torchvision.models as models\n",
    "import torchvision.datasets as datasets\n",
    "from torchvision.transforms import ToTensor\n",
    "\n",
    "from image_list import ImageList\n",
    "\n",
    "\n",
    "import utils"
   ]
  },
  {
   "cell_type": "code",
   "execution_count": 43,
   "id": "a956ddd0-3b2a-4260-960d-7beed2e0d2bc",
   "metadata": {},
   "outputs": [],
   "source": [
    "device = torch.device('cuda' if torch.cuda.is_available() else 'cpu')\n",
    "\n",
    "def test_model_10l_all_datasets(model):\n",
    "    #Mean: tensor([0 1309, 0.1309, 0.1309])\n",
    "    #Standard Deviation: tensor([0.2893, 0.2893, 0.2893])\n",
    "    test_dataset_mnist = datasets.MNIST(\n",
    "        root = 'data', \n",
    "        train = False, \n",
    "        transform = transforms.Compose([transforms.Grayscale(3),\n",
    "                                        transforms.Resize((32, 32)),\n",
    "                                        transforms.ToTensor(),\n",
    "                                        transforms.Normalize((0.5, 0.5, 0.5), (0.5, 0.5, 0.5))\n",
    "                                       ]),\n",
    "    )\n",
    "    \n",
    "    #Mean: tensor([0.4377, 0.4438, 0.4728])\n",
    "    #Standard Deviation: tensor([0.1980, 0.2010, 0.1970])\n",
    "    test_dataset_svhn = datasets.SVHN(\n",
    "        root = 'data/SVHN', \n",
    "        split = 'test', \n",
    "        transform = transforms.Compose([transforms.Resize((32, 32)),\n",
    "                                        ToTensor(),\n",
    "                                        transforms.Normalize((0.5, 0.5, 0.5), (0.5, 0.5, 0.5))\n",
    "                                       ]),\n",
    "        download = True,\n",
    "    )\n",
    "    \n",
    "    ## Creating a Concatened Dataset\n",
    "    test_dataset_combined = ConcatDataset([test_dataset_mnist,test_dataset_svhn])\n",
    "\n",
    "    # dataloaders\n",
    "    test_dataloader_mnist = torch.utils.data.DataLoader(test_dataset_mnist,batch_size=64, shuffle=False)\n",
    "    test_dataloader_svhn = torch.utils.data.DataLoader(test_dataset_svhn,batch_size=64, shuffle=False)\n",
    "    # test_dataloader_combined = DataLoader(test_dataset_combined, batch_size=64, shuffle=False)\n",
    "    \n",
    "    test_loss, accuracy = utils.evaluate(model, test_dataloader_mnist)\n",
    "    print(f\"model_copycat in mnist dataset- Test Loss: {test_loss:.4f}, Accuracy: {accuracy:.2f}\")\n",
    "    combined_accuracy = accuracy * 10000\n",
    "    combined_test_loss = test_loss * 10000\n",
    "    test_loss, accuracy = utils.evaluate(model, test_dataloader_svhn)\n",
    "    print(f\"model_copycat in svhn dataset- Test Loss: {test_loss:.4f}, Accuracy: {accuracy:.2f}\")\n",
    "    combined_accuracy+= accuracy * 26032\n",
    "    combined_test_loss+= test_loss * 26032\n",
    "    \n",
    "    combined_accuracy = combined_accuracy/(10000 + 26032)\n",
    "    combined_test_loss = combined_test_loss/(10000 + 26032)\n",
    "    # test_loss, accuracy = utils.evaluate(model, test_dataloader_combined)\n",
    "    print(f\"model_copycat in combined dataset- Test Loss: {combined_test_loss:.4f}, Accuracy: {combined_accuracy:.2f}\")\n"
   ]
  },
  {
   "cell_type": "markdown",
   "id": "cd37c527-dfd5-437a-91d8-7d8a782dafa0",
   "metadata": {},
   "source": [
    "# 10 outputs"
   ]
  },
  {
   "cell_type": "markdown",
   "id": "08d4edda-d144-48f8-a478-67e59416cf46",
   "metadata": {},
   "source": [
    "## Original Models"
   ]
  },
  {
   "cell_type": "code",
   "execution_count": 7,
   "id": "4d81458b-c3ad-408b-a785-003381ef7e3f",
   "metadata": {},
   "outputs": [
    {
     "name": "stdout",
     "output_type": "stream",
     "text": [
      "model_copycat in mnist dataset- Test Loss: 0.0295, Accuracy: 99.29\n",
      "model_copycat in svhn dataset- Test Loss: 5.5442, Accuracy: 22.36\n",
      "model_copycat in combined dataset- Test Loss: 4.0137, Accuracy: 43.71\n"
     ]
    }
   ],
   "source": [
    "test_model_10l_all_datasets(utils.create_resnet_model('./pths/0_9/original/mnist_32.pth'))"
   ]
  },
  {
   "cell_type": "code",
   "execution_count": 8,
   "id": "32151360-6e30-4296-82fd-a44aaa6d8088",
   "metadata": {},
   "outputs": [
    {
     "name": "stdout",
     "output_type": "stream",
     "text": [
      "model_copycat in mnist dataset- Test Loss: 1.5104, Accuracy: 65.01\n",
      "model_copycat in svhn dataset- Test Loss: 0.2867, Accuracy: 93.10\n",
      "model_copycat in combined dataset- Test Loss: 0.6263, Accuracy: 85.31\n"
     ]
    }
   ],
   "source": [
    "test_model_10l_all_datasets(utils.create_resnet_model('./pths/0_9/original/svhn_32.pth'))"
   ]
  },
  {
   "cell_type": "code",
   "execution_count": 9,
   "id": "3a5161f8-f7bc-4daa-996c-402c3972520c",
   "metadata": {},
   "outputs": [
    {
     "name": "stdout",
     "output_type": "stream",
     "text": [
      "model_copycat in mnist dataset- Test Loss: 0.1971, Accuracy: 94.56\n",
      "model_copycat in svhn dataset- Test Loss: 0.3046, Accuracy: 92.98\n",
      "model_copycat in combined dataset- Test Loss: 0.2748, Accuracy: 93.42\n"
     ]
    }
   ],
   "source": [
    "test_model_10l_all_datasets(utils.create_resnet_model('./pths/0_9/original/combined_32.pth'))"
   ]
  },
  {
   "cell_type": "markdown",
   "id": "54b18e62-843d-4e0e-b64f-aeccc3e7c543",
   "metadata": {},
   "source": [
    "## Hard Learning "
   ]
  },
  {
   "cell_type": "code",
   "execution_count": 12,
   "id": "56cf5cf4-ee4a-407a-9978-1b866b93bff2",
   "metadata": {},
   "outputs": [
    {
     "name": "stdout",
     "output_type": "stream",
     "text": [
      "model_copycat in mnist dataset- Test Loss: 0.0295, Accuracy: 99.29\n",
      "model_copycat in svhn dataset- Test Loss: 5.5442, Accuracy: 22.36\n",
      "model_copycat in combined dataset- Test Loss: 4.0137, Accuracy: 43.71\n"
     ]
    }
   ],
   "source": [
    "## Mnist\n",
    "test_model_10l_all_datasets(utils.create_resnet_model('./pths/0_9/hard/copycat_m10.pth'))"
   ]
  },
  {
   "cell_type": "code",
   "execution_count": 13,
   "id": "86fe5986-32d8-4fb0-86db-77854ac3f1ae",
   "metadata": {},
   "outputs": [
    {
     "name": "stdout",
     "output_type": "stream",
     "text": [
      "model_copycat in mnist dataset- Test Loss: 13.7482, Accuracy: 49.55\n",
      "model_copycat in svhn dataset- Test Loss: 21.0525, Accuracy: 71.77\n",
      "model_copycat in combined dataset- Test Loss: 19.0253, Accuracy: 65.60\n"
     ]
    }
   ],
   "source": [
    "# Hard Learning ms\n",
    "test_model_10l_all_datasets(utils.create_resnet_model('./pths/0_9/hard/copycat_m10_s10.pth'))"
   ]
  },
  {
   "cell_type": "code",
   "execution_count": 14,
   "id": "6f477c38-4c0f-4b5b-85e8-c91becb630bb",
   "metadata": {},
   "outputs": [
    {
     "name": "stdout",
     "output_type": "stream",
     "text": [
      "model_copycat in mnist dataset- Test Loss: 1.3398, Accuracy: 83.05\n",
      "model_copycat in svhn dataset- Test Loss: 2.2311, Accuracy: 78.73\n",
      "model_copycat in combined dataset- Test Loss: 1.9838, Accuracy: 79.93\n"
     ]
    }
   ],
   "source": [
    "# Hard Learning combined\n",
    "test_model_10l_all_datasets(utils.create_resnet_model('./pths/0_9/hard/copycat_c10.pth'))"
   ]
  },
  {
   "cell_type": "markdown",
   "id": "84a50200-1542-4862-a17f-f6c507695dca",
   "metadata": {},
   "source": [
    "## Soft Learning"
   ]
  },
  {
   "cell_type": "markdown",
   "id": "582cbfb3-33b2-449b-807e-46799fa27790",
   "metadata": {},
   "source": [
    "### Mnist"
   ]
  },
  {
   "cell_type": "code",
   "execution_count": 6,
   "id": "27b3bb6b-0bd0-4ce7-b610-fb2a9916e842",
   "metadata": {},
   "outputs": [
    {
     "name": "stdout",
     "output_type": "stream",
     "text": [
      "model_copycat in mnist dataset- Test Loss: 1.5161, Accuracy: 76.31\n",
      "model_copycat in svhn dataset- Test Loss: 2.2311, Accuracy: 22.04\n",
      "model_copycat in combined dataset- Test Loss: 2.0327, Accuracy: 37.10\n"
     ]
    }
   ],
   "source": [
    "test_model_10l_all_datasets(utils.create_resnet_model('./pths/0_9/soft/copycat_m1_soft.pth'))"
   ]
  },
  {
   "cell_type": "code",
   "execution_count": 16,
   "id": "836dd8d1-dab4-4d4c-867c-c7fb0f4817ee",
   "metadata": {},
   "outputs": [
    {
     "name": "stdout",
     "output_type": "stream",
     "text": [
      "model_copycat in mnist dataset- Test Loss: 1.5251, Accuracy: 84.08\n",
      "model_copycat in svhn dataset- Test Loss: 2.2289, Accuracy: 22.15\n",
      "model_copycat in combined dataset- Test Loss: 2.0336, Accuracy: 39.33\n"
     ]
    }
   ],
   "source": [
    "test_model_10l_all_datasets(utils.create_resnet_model('./pths/0_9/soft/copycat_m2_soft.pth'))"
   ]
  },
  {
   "cell_type": "code",
   "execution_count": 17,
   "id": "f04afd2a-70cc-450b-9e13-b4e5e00197db",
   "metadata": {},
   "outputs": [
    {
     "name": "stdout",
     "output_type": "stream",
     "text": [
      "model_copycat in mnist dataset- Test Loss: 1.4312, Accuracy: 89.79\n",
      "model_copycat in svhn dataset- Test Loss: 2.2285, Accuracy: 22.40\n",
      "model_copycat in combined dataset- Test Loss: 2.0072, Accuracy: 41.10\n"
     ]
    }
   ],
   "source": [
    "test_model_10l_all_datasets(utils.create_resnet_model('./pths/0_9/soft/copycat_m3_soft.pth'))"
   ]
  },
  {
   "cell_type": "code",
   "execution_count": 18,
   "id": "8164ea60-130d-4ac0-abe8-99352712821a",
   "metadata": {},
   "outputs": [
    {
     "name": "stdout",
     "output_type": "stream",
     "text": [
      "model_copycat in mnist dataset- Test Loss: 1.4559, Accuracy: 90.39\n",
      "model_copycat in svhn dataset- Test Loss: 2.2292, Accuracy: 22.40\n",
      "model_copycat in combined dataset- Test Loss: 2.0146, Accuracy: 41.27\n"
     ]
    }
   ],
   "source": [
    "test_model_10l_all_datasets(utils.create_resnet_model('./pths/0_9/soft/copycat_m4_soft.pth'))"
   ]
  },
  {
   "cell_type": "code",
   "execution_count": 11,
   "id": "e92010cb-68f1-4123-8d9f-05e76b2243ab",
   "metadata": {},
   "outputs": [
    {
     "name": "stdout",
     "output_type": "stream",
     "text": [
      "model_copycat in mnist dataset- Test Loss: 1.4180, Accuracy: 97.52\n"
     ]
    }
   ],
   "source": [
    "model_copycat = utils.create_resnet_model('./pths/copycat_m5_soft.pth')\n",
    "test_loss, accuracy = utils.evaluate(model_copycat, test_dataloader_mnist)\n",
    "print(f\"model_copycat in mnist dataset- Test Loss: {test_loss:.4f}, Accuracy: {accuracy:.2f}\")"
   ]
  },
  {
   "cell_type": "code",
   "execution_count": 14,
   "id": "c4f75f1d-3835-467d-8b17-d001de0417eb",
   "metadata": {},
   "outputs": [
    {
     "name": "stdout",
     "output_type": "stream",
     "text": [
      "model_copycat in mnist dataset- Test Loss: 1.3735, Accuracy: 96.39\n"
     ]
    }
   ],
   "source": [
    "model_copycat = utils.create_resnet_model('./pths/copycat_m6_soft.pth')\n",
    "test_loss, accuracy = utils.evaluate(model_copycat, test_dataloader_mnist)\n",
    "print(f\"model_copycat in mnist dataset- Test Loss: {test_loss:.4f}, Accuracy: {accuracy:.2f}\")"
   ]
  },
  {
   "cell_type": "code",
   "execution_count": 15,
   "id": "be833fc9-f127-4c70-ad9a-0c8a336fecf3",
   "metadata": {},
   "outputs": [
    {
     "name": "stdout",
     "output_type": "stream",
     "text": [
      "model_copycat in mnist dataset- Test Loss: 1.3784, Accuracy: 98.65\n"
     ]
    }
   ],
   "source": [
    "model_copycat = utils.create_resnet_model('./pths/copycat_m7_soft.pth')\n",
    "test_loss, accuracy = utils.evaluate(model_copycat, test_dataloader_mnist)\n",
    "print(f\"model_copycat in mnist dataset- Test Loss: {test_loss:.4f}, Accuracy: {accuracy:.2f}\")"
   ]
  },
  {
   "cell_type": "code",
   "execution_count": 16,
   "id": "f7604a24-6d94-482d-8ee8-62fd6ea20f3b",
   "metadata": {},
   "outputs": [
    {
     "name": "stdout",
     "output_type": "stream",
     "text": [
      "model_copycat in mnist dataset- Test Loss: 1.3347, Accuracy: 98.76\n"
     ]
    }
   ],
   "source": [
    "model_copycat = utils.create_resnet_model('./pths/copycat_m8_soft.pth')\n",
    "test_loss, accuracy = utils.evaluate(model_copycat, test_dataloader_mnist)\n",
    "print(f\"model_copycat in mnist dataset- Test Loss: {test_loss:.4f}, Accuracy: {accuracy:.2f}\")"
   ]
  },
  {
   "cell_type": "code",
   "execution_count": 17,
   "id": "6fb87cc7-d366-47a3-9ec7-d1578b668aaa",
   "metadata": {},
   "outputs": [
    {
     "name": "stdout",
     "output_type": "stream",
     "text": [
      "model_copycat in mnist dataset- Test Loss: 1.2842, Accuracy: 98.75\n"
     ]
    }
   ],
   "source": [
    "model_copycat = utils.create_resnet_model('./pths/copycat_m9_soft.pth')\n",
    "test_loss, accuracy = utils.evaluate(model_copycat, test_dataloader_mnist)\n",
    "print(f\"model_copycat in mnist dataset- Test Loss: {test_loss:.4f}, Accuracy: {accuracy:.2f}\")"
   ]
  },
  {
   "cell_type": "code",
   "execution_count": 18,
   "id": "0cf706d5-fb62-4074-b776-cf240bfe62d8",
   "metadata": {},
   "outputs": [
    {
     "name": "stdout",
     "output_type": "stream",
     "text": [
      "model_copycat in mnist dataset- Test Loss: 1.3474, Accuracy: 98.72\n"
     ]
    }
   ],
   "source": [
    "model_copycat = utils.create_resnet_model('./pths/copycat_m10_soft.pth')\n",
    "test_loss, accuracy = utils.evaluate(model_copycat, test_dataloader_mnist)\n",
    "print(f\"model_copycat in mnist dataset- Test Loss: {test_loss:.4f}, Accuracy: {accuracy:.2f}\")"
   ]
  },
  {
   "cell_type": "markdown",
   "id": "9f165e94-de91-4db0-9d44-0d2d7e20b0dd",
   "metadata": {},
   "source": [
    "### MNIST -> SVHN"
   ]
  },
  {
   "cell_type": "code",
   "execution_count": 11,
   "id": "785047e8-fdb4-4162-834f-d440303daed3",
   "metadata": {},
   "outputs": [
    {
     "name": "stdout",
     "output_type": "stream",
     "text": [
      "model_copycat in mnist dataset- Test Loss: 1.8077, Accuracy: 71.08\n",
      "model_copycat in svhn dataset- Test Loss: 1.6717, Accuracy: 88.58\n",
      "model_copycat in combined dataset- Test Loss: 1.7095, Accuracy: 83.72\n"
     ]
    }
   ],
   "source": [
    "test_model_10l_all_datasets(utils.create_resnet_model('./pths/copycat_m8_s1_soft.pth'))"
   ]
  },
  {
   "cell_type": "code",
   "execution_count": 12,
   "id": "56f759a9-5d5f-48e7-a99a-65934d40a113",
   "metadata": {},
   "outputs": [
    {
     "name": "stdout",
     "output_type": "stream",
     "text": [
      "model_copycat in mnist dataset- Test Loss: 1.8162, Accuracy: 71.01\n",
      "model_copycat in svhn dataset- Test Loss: 1.6560, Accuracy: 89.80\n",
      "model_copycat in combined dataset- Test Loss: 1.7004, Accuracy: 84.59\n"
     ]
    }
   ],
   "source": [
    "test_model_10l_all_datasets(utils.create_resnet_model('./pths/copycat_m8_s2_soft.pth'))"
   ]
  },
  {
   "cell_type": "code",
   "execution_count": 13,
   "id": "451e752b-89c0-460e-b9eb-9ad13c22b4bb",
   "metadata": {},
   "outputs": [
    {
     "name": "stdout",
     "output_type": "stream",
     "text": [
      "model_copycat in mnist dataset- Test Loss: 1.8277, Accuracy: 69.57\n",
      "model_copycat in svhn dataset- Test Loss: 1.6481, Accuracy: 90.04\n",
      "model_copycat in combined dataset- Test Loss: 1.6979, Accuracy: 84.36\n"
     ]
    }
   ],
   "source": [
    "test_model_10l_all_datasets(utils.create_resnet_model('./pths/copycat_m8_s3_soft.pth'))"
   ]
  },
  {
   "cell_type": "code",
   "execution_count": 14,
   "id": "c0109397-dacc-40df-8fcf-46ceb7f8813c",
   "metadata": {},
   "outputs": [
    {
     "name": "stdout",
     "output_type": "stream",
     "text": [
      "model_copycat in mnist dataset- Test Loss: 1.8359, Accuracy: 68.48\n",
      "model_copycat in svhn dataset- Test Loss: 1.6463, Accuracy: 90.56\n",
      "model_copycat in combined dataset- Test Loss: 1.6989, Accuracy: 84.43\n"
     ]
    }
   ],
   "source": [
    "test_model_10l_all_datasets(utils.create_resnet_model('./pths/copycat_m8_s4_soft.pth'))"
   ]
  },
  {
   "cell_type": "code",
   "execution_count": 15,
   "id": "9bc58821-2393-4256-8432-cfa4273e84ab",
   "metadata": {},
   "outputs": [
    {
     "name": "stdout",
     "output_type": "stream",
     "text": [
      "model_copycat in mnist dataset- Test Loss: 1.8381, Accuracy: 66.79\n",
      "model_copycat in svhn dataset- Test Loss: 1.6282, Accuracy: 90.50\n",
      "model_copycat in combined dataset- Test Loss: 1.6865, Accuracy: 83.92\n"
     ]
    }
   ],
   "source": [
    "test_model_10l_all_datasets(utils.create_resnet_model('./pths/copycat_m8_s5_soft.pth'))"
   ]
  },
  {
   "cell_type": "code",
   "execution_count": 17,
   "id": "4a6d5408-8273-4b4c-8e27-8ad6348f1d8e",
   "metadata": {},
   "outputs": [
    {
     "name": "stdout",
     "output_type": "stream",
     "text": [
      "model_copycat in mnist dataset- Test Loss: 1.8362, Accuracy: 66.21\n",
      "model_copycat in svhn dataset- Test Loss: 1.6200, Accuracy: 90.44\n",
      "model_copycat in combined dataset- Test Loss: 1.6800, Accuracy: 83.72\n"
     ]
    }
   ],
   "source": [
    "test_model_10l_all_datasets(utils.create_resnet_model('./pths/copycat_m8_s6_soft.pth'))"
   ]
  },
  {
   "cell_type": "code",
   "execution_count": 18,
   "id": "6e7ddc54-f03d-458a-9e47-292d014561e6",
   "metadata": {},
   "outputs": [
    {
     "name": "stdout",
     "output_type": "stream",
     "text": [
      "model_copycat in mnist dataset- Test Loss: 1.8365, Accuracy: 66.47\n",
      "model_copycat in svhn dataset- Test Loss: 1.6218, Accuracy: 90.65\n",
      "model_copycat in combined dataset- Test Loss: 1.6814, Accuracy: 83.94\n"
     ]
    }
   ],
   "source": [
    "test_model_10l_all_datasets(utils.create_resnet_model('./pths/copycat_m8_s7_soft.pth'))"
   ]
  },
  {
   "cell_type": "code",
   "execution_count": 19,
   "id": "14aead33-e8f4-4ddb-909e-1be44fc787e9",
   "metadata": {},
   "outputs": [
    {
     "name": "stdout",
     "output_type": "stream",
     "text": [
      "model_copycat in mnist dataset- Test Loss: 1.8278, Accuracy: 67.75\n",
      "model_copycat in svhn dataset- Test Loss: 1.6254, Accuracy: 90.80\n",
      "model_copycat in combined dataset- Test Loss: 1.6815, Accuracy: 84.41\n"
     ]
    }
   ],
   "source": [
    "test_model_10l_all_datasets(utils.create_resnet_model('./pths/copycat_m8_s8_soft.pth'))"
   ]
  },
  {
   "cell_type": "code",
   "execution_count": 23,
   "id": "d13103ea-89d0-4743-b639-3276064ad067",
   "metadata": {},
   "outputs": [
    {
     "name": "stdout",
     "output_type": "stream",
     "text": [
      "model_copycat in mnist dataset- Test Loss: 1.8307, Accuracy: 65.96\n",
      "model_copycat in svhn dataset- Test Loss: 1.6177, Accuracy: 90.62\n",
      "model_copycat in combined dataset- Test Loss: 1.6768, Accuracy: 83.78\n"
     ]
    }
   ],
   "source": [
    "test_model_10l_all_datasets(utils.create_resnet_model('./pths/copycat_m8_s9_soft.pth'))"
   ]
  },
  {
   "cell_type": "code",
   "execution_count": 24,
   "id": "ddfe3497-daaa-4bd7-aea6-f351814254b9",
   "metadata": {},
   "outputs": [
    {
     "name": "stdout",
     "output_type": "stream",
     "text": [
      "model_copycat in mnist dataset- Test Loss: 1.8321, Accuracy: 67.15\n",
      "model_copycat in svhn dataset- Test Loss: 1.6211, Accuracy: 90.76\n",
      "model_copycat in combined dataset- Test Loss: 1.6797, Accuracy: 84.21\n"
     ]
    }
   ],
   "source": [
    "test_model_10l_all_datasets(utils.create_resnet_model('./pths/copycat_m8_s10_soft.pth'))"
   ]
  },
  {
   "cell_type": "code",
   "execution_count": 25,
   "id": "a5be08f6-36a4-4130-ac21-c66e06c88070",
   "metadata": {},
   "outputs": [
    {
     "name": "stdout",
     "output_type": "stream",
     "text": [
      "model_copycat in mnist dataset- Test Loss: 1.8270, Accuracy: 67.83\n",
      "model_copycat in svhn dataset- Test Loss: 1.6221, Accuracy: 90.87\n",
      "model_copycat in combined dataset- Test Loss: 1.6790, Accuracy: 84.47\n"
     ]
    }
   ],
   "source": [
    "test_model_10l_all_datasets(utils.create_resnet_model('./pths/copycat_m8_s11_soft.pth'))"
   ]
  },
  {
   "cell_type": "code",
   "execution_count": 32,
   "id": "69627f4e-4abb-44e4-adf7-b51a7b5cc123",
   "metadata": {},
   "outputs": [
    {
     "name": "stdout",
     "output_type": "stream",
     "text": [
      "model_copycat in mnist dataset- Test Loss: 1.8242, Accuracy: 67.01\n",
      "model_copycat in svhn dataset- Test Loss: 1.6116, Accuracy: 90.87\n",
      "model_copycat in combined dataset- Test Loss: 1.6706, Accuracy: 84.25\n"
     ]
    }
   ],
   "source": [
    "test_model_10l_all_datasets(utils.create_resnet_model('./pths/0_9/soft/copycat_m8_s12_soft.pth'))"
   ]
  },
  {
   "cell_type": "markdown",
   "id": "04bba6df-5e41-4ffd-a92b-ca337d089b71",
   "metadata": {},
   "source": [
    "### MNIST+SVHN"
   ]
  },
  {
   "cell_type": "code",
   "execution_count": 4,
   "id": "5a2d5966-6eda-4799-9b83-8b81b6310e36",
   "metadata": {},
   "outputs": [
    {
     "name": "stdout",
     "output_type": "stream",
     "text": [
      "model_copycat in mnist dataset- Test Loss: 1.6713, Accuracy: 86.78\n",
      "model_copycat in svhn dataset- Test Loss: 1.9707, Accuracy: 44.95\n",
      "model_copycat in combined dataset- Test Loss: 1.8876, Accuracy: 56.56\n"
     ]
    }
   ],
   "source": [
    "test_model_10l_all_datasets(utils.create_resnet_model('./pths/copycat_ms1_soft.pth'))"
   ]
  },
  {
   "cell_type": "code",
   "execution_count": 5,
   "id": "1d136ec0-7e5c-4221-a04a-7c5cabe180fe",
   "metadata": {},
   "outputs": [
    {
     "name": "stdout",
     "output_type": "stream",
     "text": [
      "model_copycat in mnist dataset- Test Loss: 1.6662, Accuracy: 89.68\n",
      "model_copycat in svhn dataset- Test Loss: 1.9090, Accuracy: 54.28\n",
      "model_copycat in combined dataset- Test Loss: 1.8416, Accuracy: 64.10\n"
     ]
    }
   ],
   "source": [
    "test_model_10l_all_datasets(utils.create_resnet_model('./pths/copycat_ms2_soft.pth'))"
   ]
  },
  {
   "cell_type": "code",
   "execution_count": 6,
   "id": "61c31f52-5fed-4a55-acec-9226400c1cdb",
   "metadata": {},
   "outputs": [
    {
     "name": "stdout",
     "output_type": "stream",
     "text": [
      "model_copycat in mnist dataset- Test Loss: 1.6384, Accuracy: 89.82\n",
      "model_copycat in svhn dataset- Test Loss: 1.8737, Accuracy: 53.39\n",
      "model_copycat in combined dataset- Test Loss: 1.8084, Accuracy: 63.50\n"
     ]
    }
   ],
   "source": [
    "test_model_10l_all_datasets(utils.create_resnet_model('./pths/copycat_ms3_soft.pth'))"
   ]
  },
  {
   "cell_type": "code",
   "execution_count": 9,
   "id": "59a43e01-f299-4365-a40e-df8ddca2cea4",
   "metadata": {},
   "outputs": [
    {
     "name": "stdout",
     "output_type": "stream",
     "text": [
      "model_copycat in mnist dataset- Test Loss: 1.5787, Accuracy: 92.34\n",
      "model_copycat in svhn dataset- Test Loss: 1.8681, Accuracy: 60.40\n",
      "model_copycat in combined dataset- Test Loss: 1.7878, Accuracy: 69.27\n"
     ]
    }
   ],
   "source": [
    "test_model_10l_all_datasets(utils.create_resnet_model('./pths/copycat_ms4_soft.pth'))"
   ]
  },
  {
   "cell_type": "code",
   "execution_count": 10,
   "id": "af6eb4cb-28e9-465a-8dbe-250e8f325c80",
   "metadata": {},
   "outputs": [
    {
     "name": "stdout",
     "output_type": "stream",
     "text": [
      "model_copycat in mnist dataset- Test Loss: 1.5796, Accuracy: 89.82\n",
      "model_copycat in svhn dataset- Test Loss: 1.8472, Accuracy: 67.18\n",
      "model_copycat in combined dataset- Test Loss: 1.7730, Accuracy: 73.46\n"
     ]
    }
   ],
   "source": [
    "test_model_10l_all_datasets(utils.create_resnet_model('./pths/copycat_ms5_soft.pth'))"
   ]
  },
  {
   "cell_type": "code",
   "execution_count": 11,
   "id": "b77b82e4-e2c9-4533-b527-a4c70c08d418",
   "metadata": {},
   "outputs": [
    {
     "name": "stdout",
     "output_type": "stream",
     "text": [
      "model_copycat in mnist dataset- Test Loss: 1.6140, Accuracy: 90.22\n",
      "model_copycat in svhn dataset- Test Loss: 1.8791, Accuracy: 39.50\n",
      "model_copycat in combined dataset- Test Loss: 1.8055, Accuracy: 53.57\n"
     ]
    }
   ],
   "source": [
    "test_model_10l_all_datasets(utils.create_resnet_model('./pths/copycat_ms6_soft.pth'))"
   ]
  },
  {
   "cell_type": "code",
   "execution_count": 12,
   "id": "1b0eb6e1-6809-409a-b2e1-92480e4feae4",
   "metadata": {},
   "outputs": [
    {
     "name": "stdout",
     "output_type": "stream",
     "text": [
      "model_copycat in mnist dataset- Test Loss: 1.6101, Accuracy: 88.06\n",
      "model_copycat in svhn dataset- Test Loss: 1.8401, Accuracy: 66.88\n",
      "model_copycat in combined dataset- Test Loss: 1.7763, Accuracy: 72.75\n"
     ]
    }
   ],
   "source": [
    "test_model_10l_all_datasets(utils.create_resnet_model('./pths/copycat_ms7_soft.pth'))"
   ]
  },
  {
   "cell_type": "code",
   "execution_count": 13,
   "id": "a3891aed-6bd3-4c57-8d35-a37fab3bab72",
   "metadata": {},
   "outputs": [
    {
     "name": "stdout",
     "output_type": "stream",
     "text": [
      "model_copycat in mnist dataset- Test Loss: 1.6110, Accuracy: 92.11\n",
      "model_copycat in svhn dataset- Test Loss: 1.8598, Accuracy: 56.08\n",
      "model_copycat in combined dataset- Test Loss: 1.7907, Accuracy: 66.08\n"
     ]
    }
   ],
   "source": [
    "test_model_10l_all_datasets(utils.create_resnet_model('./pths/copycat_ms8_soft.pth'))"
   ]
  },
  {
   "cell_type": "code",
   "execution_count": 14,
   "id": "395ecce5-9e12-4217-83df-06f33f7b86d9",
   "metadata": {},
   "outputs": [
    {
     "name": "stdout",
     "output_type": "stream",
     "text": [
      "model_copycat in mnist dataset- Test Loss: 1.6265, Accuracy: 91.48\n",
      "model_copycat in svhn dataset- Test Loss: 1.8705, Accuracy: 59.60\n",
      "model_copycat in combined dataset- Test Loss: 1.8028, Accuracy: 68.44\n"
     ]
    }
   ],
   "source": [
    "test_model_10l_all_datasets(utils.create_resnet_model('./pths/copycat_ms9_soft.pth'))"
   ]
  },
  {
   "cell_type": "code",
   "execution_count": 40,
   "id": "7980b262-922e-44b3-bb74-eb69d2ff9f4f",
   "metadata": {
    "scrolled": true
   },
   "outputs": [
    {
     "ename": "RuntimeError",
     "evalue": "CUDA error: device-side assert triggered\nCUDA kernel errors might be asynchronously reported at some other API call, so the stacktrace below might be incorrect.\nFor debugging consider passing CUDA_LAUNCH_BLOCKING=1\nCompile with `TORCH_USE_CUDA_DSA` to enable device-side assertions.\n",
     "output_type": "error",
     "traceback": [
      "\u001b[31m---------------------------------------------------------------------------\u001b[39m",
      "\u001b[31mRuntimeError\u001b[39m                              Traceback (most recent call last)",
      "\u001b[36mCell\u001b[39m\u001b[36m \u001b[39m\u001b[32mIn[40]\u001b[39m\u001b[32m, line 1\u001b[39m\n\u001b[32m----> \u001b[39m\u001b[32m1\u001b[39m test_model_10l_all_datasets(\u001b[43mutils\u001b[49m\u001b[43m.\u001b[49m\u001b[43mcreate_resnet_model\u001b[49m\u001b[43m(\u001b[49m\u001b[33;43m'\u001b[39;49m\u001b[33;43m./pths/0_9/soft/copycat_ms10_soft.pth\u001b[39;49m\u001b[33;43m'\u001b[39;49m\u001b[43m)\u001b[49m)\n",
      "\u001b[36mFile \u001b[39m\u001b[32m~/copycat-merge-tcc/utils.py:41\u001b[39m, in \u001b[36mcreate_resnet_model\u001b[39m\u001b[34m(path, out_features, device)\u001b[39m\n\u001b[32m     39\u001b[39m model.fc = torch.nn.Linear(in_features=in_features, out_features=out_features, bias=\u001b[38;5;28;01mTrue\u001b[39;00m)\n\u001b[32m     40\u001b[39m \u001b[38;5;28;01mif\u001b[39;00m(path \u001b[38;5;129;01mis\u001b[39;00m \u001b[38;5;129;01mnot\u001b[39;00m \u001b[38;5;28;01mNone\u001b[39;00m):\n\u001b[32m---> \u001b[39m\u001b[32m41\u001b[39m     model.load_state_dict(\u001b[43mtorch\u001b[49m\u001b[43m.\u001b[49m\u001b[43mload\u001b[49m\u001b[43m(\u001b[49m\u001b[43mpath\u001b[49m\u001b[43m)\u001b[49m)\n\u001b[32m     42\u001b[39m model = model.to(device)\n\u001b[32m     43\u001b[39m \u001b[38;5;28;01mreturn\u001b[39;00m model\n",
      "\u001b[36mFile \u001b[39m\u001b[32m~/copycat-merge-tcc/venv/lib/python3.12/site-packages/torch/serialization.py:1462\u001b[39m, in \u001b[36mload\u001b[39m\u001b[34m(f, map_location, pickle_module, weights_only, mmap, **pickle_load_args)\u001b[39m\n\u001b[32m   1460\u001b[39m \u001b[38;5;28;01mif\u001b[39;00m weights_only:\n\u001b[32m   1461\u001b[39m     \u001b[38;5;28;01mtry\u001b[39;00m:\n\u001b[32m-> \u001b[39m\u001b[32m1462\u001b[39m         \u001b[38;5;28;01mreturn\u001b[39;00m \u001b[43m_load\u001b[49m\u001b[43m(\u001b[49m\n\u001b[32m   1463\u001b[39m \u001b[43m            \u001b[49m\u001b[43mopened_zipfile\u001b[49m\u001b[43m,\u001b[49m\n\u001b[32m   1464\u001b[39m \u001b[43m            \u001b[49m\u001b[43mmap_location\u001b[49m\u001b[43m,\u001b[49m\n\u001b[32m   1465\u001b[39m \u001b[43m            \u001b[49m\u001b[43m_weights_only_unpickler\u001b[49m\u001b[43m,\u001b[49m\n\u001b[32m   1466\u001b[39m \u001b[43m            \u001b[49m\u001b[43moverall_storage\u001b[49m\u001b[43m=\u001b[49m\u001b[43moverall_storage\u001b[49m\u001b[43m,\u001b[49m\n\u001b[32m   1467\u001b[39m \u001b[43m            \u001b[49m\u001b[43m*\u001b[49m\u001b[43m*\u001b[49m\u001b[43mpickle_load_args\u001b[49m\u001b[43m,\u001b[49m\n\u001b[32m   1468\u001b[39m \u001b[43m        \u001b[49m\u001b[43m)\u001b[49m\n\u001b[32m   1469\u001b[39m     \u001b[38;5;28;01mexcept\u001b[39;00m pickle.UnpicklingError \u001b[38;5;28;01mas\u001b[39;00m e:\n\u001b[32m   1470\u001b[39m         \u001b[38;5;28;01mraise\u001b[39;00m pickle.UnpicklingError(_get_wo_message(\u001b[38;5;28mstr\u001b[39m(e))) \u001b[38;5;28;01mfrom\u001b[39;00m\u001b[38;5;250m \u001b[39m\u001b[38;5;28;01mNone\u001b[39;00m\n",
      "\u001b[36mFile \u001b[39m\u001b[32m~/copycat-merge-tcc/venv/lib/python3.12/site-packages/torch/serialization.py:1964\u001b[39m, in \u001b[36m_load\u001b[39m\u001b[34m(zip_file, map_location, pickle_module, pickle_file, overall_storage, **pickle_load_args)\u001b[39m\n\u001b[32m   1962\u001b[39m \u001b[38;5;28;01mglobal\u001b[39;00m _serialization_tls\n\u001b[32m   1963\u001b[39m _serialization_tls.map_location = map_location\n\u001b[32m-> \u001b[39m\u001b[32m1964\u001b[39m result = \u001b[43munpickler\u001b[49m\u001b[43m.\u001b[49m\u001b[43mload\u001b[49m\u001b[43m(\u001b[49m\u001b[43m)\u001b[49m\n\u001b[32m   1965\u001b[39m _serialization_tls.map_location = \u001b[38;5;28;01mNone\u001b[39;00m\n\u001b[32m   1967\u001b[39m torch._utils._validate_loaded_sparse_tensors()\n",
      "\u001b[36mFile \u001b[39m\u001b[32m~/copycat-merge-tcc/venv/lib/python3.12/site-packages/torch/_weights_only_unpickler.py:512\u001b[39m, in \u001b[36mUnpickler.load\u001b[39m\u001b[34m(self)\u001b[39m\n\u001b[32m    504\u001b[39m     \u001b[38;5;28;01mif\u001b[39;00m (\n\u001b[32m    505\u001b[39m         \u001b[38;5;28mtype\u001b[39m(pid) \u001b[38;5;129;01mis\u001b[39;00m \u001b[38;5;28mtuple\u001b[39m\n\u001b[32m    506\u001b[39m         \u001b[38;5;129;01mand\u001b[39;00m \u001b[38;5;28mlen\u001b[39m(pid) > \u001b[32m0\u001b[39m\n\u001b[32m    507\u001b[39m         \u001b[38;5;129;01mand\u001b[39;00m torch.serialization._maybe_decode_ascii(pid[\u001b[32m0\u001b[39m]) != \u001b[33m\"\u001b[39m\u001b[33mstorage\u001b[39m\u001b[33m\"\u001b[39m\n\u001b[32m    508\u001b[39m     ):\n\u001b[32m    509\u001b[39m         \u001b[38;5;28;01mraise\u001b[39;00m UnpicklingError(\n\u001b[32m    510\u001b[39m             \u001b[33mf\u001b[39m\u001b[33m\"\u001b[39m\u001b[33mOnly persistent_load of storage is allowed, but got \u001b[39m\u001b[38;5;132;01m{\u001b[39;00mpid[\u001b[32m0\u001b[39m]\u001b[38;5;132;01m}\u001b[39;00m\u001b[33m\"\u001b[39m\n\u001b[32m    511\u001b[39m         )\n\u001b[32m--> \u001b[39m\u001b[32m512\u001b[39m     \u001b[38;5;28mself\u001b[39m.append(\u001b[38;5;28;43mself\u001b[39;49m\u001b[43m.\u001b[49m\u001b[43mpersistent_load\u001b[49m\u001b[43m(\u001b[49m\u001b[43mpid\u001b[49m\u001b[43m)\u001b[49m)\n\u001b[32m    513\u001b[39m \u001b[38;5;28;01melif\u001b[39;00m key[\u001b[32m0\u001b[39m] \u001b[38;5;129;01min\u001b[39;00m [BINGET[\u001b[32m0\u001b[39m], LONG_BINGET[\u001b[32m0\u001b[39m]]:\n\u001b[32m    514\u001b[39m     idx = (read(\u001b[32m1\u001b[39m) \u001b[38;5;28;01mif\u001b[39;00m key[\u001b[32m0\u001b[39m] == BINGET[\u001b[32m0\u001b[39m] \u001b[38;5;28;01melse\u001b[39;00m unpack(\u001b[33m\"\u001b[39m\u001b[33m<I\u001b[39m\u001b[33m\"\u001b[39m, read(\u001b[32m4\u001b[39m)))[\u001b[32m0\u001b[39m]\n",
      "\u001b[36mFile \u001b[39m\u001b[32m~/copycat-merge-tcc/venv/lib/python3.12/site-packages/torch/serialization.py:1928\u001b[39m, in \u001b[36m_load.<locals>.persistent_load\u001b[39m\u001b[34m(saved_id)\u001b[39m\n\u001b[32m   1926\u001b[39m \u001b[38;5;28;01melse\u001b[39;00m:\n\u001b[32m   1927\u001b[39m     nbytes = numel * torch._utils._element_size(dtype)\n\u001b[32m-> \u001b[39m\u001b[32m1928\u001b[39m     typed_storage = \u001b[43mload_tensor\u001b[49m\u001b[43m(\u001b[49m\n\u001b[32m   1929\u001b[39m \u001b[43m        \u001b[49m\u001b[43mdtype\u001b[49m\u001b[43m,\u001b[49m\u001b[43m \u001b[49m\u001b[43mnbytes\u001b[49m\u001b[43m,\u001b[49m\u001b[43m \u001b[49m\u001b[43mkey\u001b[49m\u001b[43m,\u001b[49m\u001b[43m \u001b[49m\u001b[43m_maybe_decode_ascii\u001b[49m\u001b[43m(\u001b[49m\u001b[43mlocation\u001b[49m\u001b[43m)\u001b[49m\n\u001b[32m   1930\u001b[39m \u001b[43m    \u001b[49m\u001b[43m)\u001b[49m\n\u001b[32m   1932\u001b[39m \u001b[38;5;28;01mreturn\u001b[39;00m typed_storage\n",
      "\u001b[36mFile \u001b[39m\u001b[32m~/copycat-merge-tcc/venv/lib/python3.12/site-packages/torch/serialization.py:1900\u001b[39m, in \u001b[36m_load.<locals>.load_tensor\u001b[39m\u001b[34m(dtype, numel, key, location)\u001b[39m\n\u001b[32m   1895\u001b[39m         storage.byteswap(dtype)\n\u001b[32m   1897\u001b[39m \u001b[38;5;66;03m# TODO: Once we decide to break serialization FC, we can\u001b[39;00m\n\u001b[32m   1898\u001b[39m \u001b[38;5;66;03m# stop wrapping with TypedStorage\u001b[39;00m\n\u001b[32m   1899\u001b[39m typed_storage = torch.storage.TypedStorage(\n\u001b[32m-> \u001b[39m\u001b[32m1900\u001b[39m     wrap_storage=\u001b[43mrestore_location\u001b[49m\u001b[43m(\u001b[49m\u001b[43mstorage\u001b[49m\u001b[43m,\u001b[49m\u001b[43m \u001b[49m\u001b[43mlocation\u001b[49m\u001b[43m)\u001b[49m,\n\u001b[32m   1901\u001b[39m     dtype=dtype,\n\u001b[32m   1902\u001b[39m     _internal=\u001b[38;5;28;01mTrue\u001b[39;00m,\n\u001b[32m   1903\u001b[39m )\n\u001b[32m   1905\u001b[39m \u001b[38;5;28;01mif\u001b[39;00m typed_storage._data_ptr() != \u001b[32m0\u001b[39m:\n\u001b[32m   1906\u001b[39m     loaded_storages[key] = typed_storage\n",
      "\u001b[36mFile \u001b[39m\u001b[32m~/copycat-merge-tcc/venv/lib/python3.12/site-packages/torch/serialization.py:693\u001b[39m, in \u001b[36mdefault_restore_location\u001b[39m\u001b[34m(storage, location)\u001b[39m\n\u001b[32m    673\u001b[39m \u001b[38;5;250m\u001b[39m\u001b[33;03m\"\"\"\u001b[39;00m\n\u001b[32m    674\u001b[39m \u001b[33;03mRestores `storage` using a deserializer function registered for the `location`.\u001b[39;00m\n\u001b[32m    675\u001b[39m \n\u001b[32m   (...)\u001b[39m\u001b[32m    690\u001b[39m \u001b[33;03m       all matching ones return `None`.\u001b[39;00m\n\u001b[32m    691\u001b[39m \u001b[33;03m\"\"\"\u001b[39;00m\n\u001b[32m    692\u001b[39m \u001b[38;5;28;01mfor\u001b[39;00m _, _, fn \u001b[38;5;129;01min\u001b[39;00m _package_registry:\n\u001b[32m--> \u001b[39m\u001b[32m693\u001b[39m     result = \u001b[43mfn\u001b[49m\u001b[43m(\u001b[49m\u001b[43mstorage\u001b[49m\u001b[43m,\u001b[49m\u001b[43m \u001b[49m\u001b[43mlocation\u001b[49m\u001b[43m)\u001b[49m\n\u001b[32m    694\u001b[39m     \u001b[38;5;28;01mif\u001b[39;00m result \u001b[38;5;129;01mis\u001b[39;00m \u001b[38;5;129;01mnot\u001b[39;00m \u001b[38;5;28;01mNone\u001b[39;00m:\n\u001b[32m    695\u001b[39m         \u001b[38;5;28;01mreturn\u001b[39;00m result\n",
      "\u001b[36mFile \u001b[39m\u001b[32m~/copycat-merge-tcc/venv/lib/python3.12/site-packages/torch/serialization.py:632\u001b[39m, in \u001b[36m_deserialize\u001b[39m\u001b[34m(backend_name, obj, location)\u001b[39m\n\u001b[32m    630\u001b[39m \u001b[38;5;28;01mif\u001b[39;00m location.startswith(backend_name):\n\u001b[32m    631\u001b[39m     device = _validate_device(location, backend_name)\n\u001b[32m--> \u001b[39m\u001b[32m632\u001b[39m     \u001b[38;5;28;01mreturn\u001b[39;00m \u001b[43mobj\u001b[49m\u001b[43m.\u001b[49m\u001b[43mto\u001b[49m\u001b[43m(\u001b[49m\u001b[43mdevice\u001b[49m\u001b[43m=\u001b[49m\u001b[43mdevice\u001b[49m\u001b[43m)\u001b[49m\n",
      "\u001b[36mFile \u001b[39m\u001b[32m~/copycat-merge-tcc/venv/lib/python3.12/site-packages/torch/storage.py:292\u001b[39m, in \u001b[36m_StorageBase.to\u001b[39m\u001b[34m(self, device, non_blocking)\u001b[39m\n\u001b[32m    290\u001b[39m \u001b[38;5;28;01mif\u001b[39;00m \u001b[38;5;129;01mnot\u001b[39;00m \u001b[38;5;28misinstance\u001b[39m(device, torch.device):\n\u001b[32m    291\u001b[39m     device = torch.device(device)\n\u001b[32m--> \u001b[39m\u001b[32m292\u001b[39m \u001b[38;5;28;01mreturn\u001b[39;00m \u001b[43m_to\u001b[49m\u001b[43m(\u001b[49m\u001b[38;5;28;43mself\u001b[39;49m\u001b[43m,\u001b[49m\u001b[43m \u001b[49m\u001b[43mdevice\u001b[49m\u001b[43m,\u001b[49m\u001b[43m \u001b[49m\u001b[43mnon_blocking\u001b[49m\u001b[43m)\u001b[49m\n",
      "\u001b[36mFile \u001b[39m\u001b[32m~/copycat-merge-tcc/venv/lib/python3.12/site-packages/torch/_utils.py:100\u001b[39m, in \u001b[36m_to\u001b[39m\u001b[34m(self, device, non_blocking)\u001b[39m\n\u001b[32m     96\u001b[39m \u001b[38;5;28;01massert\u001b[39;00m (\n\u001b[32m     97\u001b[39m     \u001b[38;5;129;01mnot\u001b[39;00m \u001b[38;5;28mself\u001b[39m.is_sparse\n\u001b[32m     98\u001b[39m ), \u001b[33mf\u001b[39m\u001b[33m\"\u001b[39m\u001b[33msparse storage is not supported for \u001b[39m\u001b[38;5;132;01m{\u001b[39;00mdevice.type.upper()\u001b[38;5;132;01m}\u001b[39;00m\u001b[33m tensors\u001b[39m\u001b[33m\"\u001b[39m\n\u001b[32m     99\u001b[39m untyped_storage = torch.UntypedStorage(\u001b[38;5;28mself\u001b[39m.size(), device=device)\n\u001b[32m--> \u001b[39m\u001b[32m100\u001b[39m \u001b[43muntyped_storage\u001b[49m\u001b[43m.\u001b[49m\u001b[43mcopy_\u001b[49m\u001b[43m(\u001b[49m\u001b[38;5;28;43mself\u001b[39;49m\u001b[43m,\u001b[49m\u001b[43m \u001b[49m\u001b[43mnon_blocking\u001b[49m\u001b[43m)\u001b[49m\n\u001b[32m    101\u001b[39m \u001b[38;5;28;01mreturn\u001b[39;00m untyped_storage\n",
      "\u001b[31mRuntimeError\u001b[39m: CUDA error: device-side assert triggered\nCUDA kernel errors might be asynchronously reported at some other API call, so the stacktrace below might be incorrect.\nFor debugging consider passing CUDA_LAUNCH_BLOCKING=1\nCompile with `TORCH_USE_CUDA_DSA` to enable device-side assertions.\n"
     ]
    }
   ],
   "source": [
    "test_model_10l_all_datasets(utils.create_resnet_model('./pths/0_9/soft/copycat_ms10_soft.pth'))"
   ]
  },
  {
   "cell_type": "markdown",
   "id": "81da4896-bc7c-433c-a6d6-a6c5f0fe7871",
   "metadata": {},
   "source": [
    "### Extracted from Combined Model"
   ]
  },
  {
   "cell_type": "markdown",
   "id": "f067e8b3-820f-48ee-be45-0d8b77ed484c",
   "metadata": {},
   "source": [
    "# 20 outputs"
   ]
  },
  {
   "cell_type": "code",
   "execution_count": 44,
   "id": "56f0811c-5a75-4ac1-b3a6-27e09eb5781e",
   "metadata": {},
   "outputs": [],
   "source": [
    "device = torch.device('cuda' if torch.cuda.is_available() else 'cpu')\n",
    "\n",
    "def test_model_20l_all_datasets(model):\n",
    "    test_dataset_mnist = datasets.MNIST(\n",
    "        root = 'data', \n",
    "        train = False, \n",
    "        transform = transforms.Compose([transforms.Grayscale(3),\n",
    "                                        transforms.Resize((32, 32)),\n",
    "                                        transforms.ToTensor(),\n",
    "                                        transforms.Normalize((0.5, 0.5, 0.5), (0.5, 0.5, 0.5))\n",
    "                                       ]),\n",
    "    )\n",
    "    \n",
    "    add_ten = lambda y: y + 10\n",
    "    test_dataset_svhn = datasets.SVHN(\n",
    "        root = 'data/SVHN', \n",
    "        split = 'test', \n",
    "        transform = transforms.Compose([transforms.Resize((32, 32)),\n",
    "                                        ToTensor(),\n",
    "                                        transforms.Normalize((0.5, 0.5, 0.5), (0.5, 0.5, 0.5))\n",
    "                                       ]),\n",
    "        target_transform =add_ten,\n",
    "        download = True,\n",
    "    )\n",
    "    \n",
    "    ## Creating a Concatened Dataset\n",
    "    test_dataset_combined = ConcatDataset([test_dataset_mnist,test_dataset_svhn])\n",
    "\n",
    "    # dataloaders\n",
    "    test_dataloader_mnist = torch.utils.data.DataLoader(test_dataset_mnist,batch_size=64, shuffle=False)\n",
    "    test_dataloader_svhn = torch.utils.data.DataLoader(test_dataset_svhn,batch_size=64, shuffle=False)\n",
    "    # test_dataloader_combined = DataLoader(test_dataset_combined, batch_size=64, shuffle=False)\n",
    "    \n",
    "    test_loss, accuracy = utils.evaluate(model, test_dataloader_mnist)\n",
    "    print(f\"model_copycat in mnist dataset- Test Loss: {test_loss:.4f}, Accuracy: {accuracy:.2f}\")\n",
    "    combined_accuracy = accuracy * 10000\n",
    "    combined_test_loss = test_loss * 10000\n",
    "    test_loss, accuracy = utils.evaluate(model, test_dataloader_svhn)\n",
    "    print(f\"model_copycat in svhn dataset- Test Loss: {test_loss:.4f}, Accuracy: {accuracy:.2f}\")\n",
    "    combined_accuracy+= accuracy * 26032\n",
    "    combined_test_loss+= test_loss * 26032\n",
    "    \n",
    "    combined_accuracy = combined_accuracy/(10000 + 26032)\n",
    "    combined_test_loss = combined_test_loss/(10000 + 26032)\n",
    "    # test_loss, accuracy = utils.evaluate(model, test_dataloader_combined)\n",
    "    print(f\"model_copycat in combined dataset- Test Loss: {combined_test_loss:.4f}, Accuracy: {combined_accuracy:.2f}\")"
   ]
  },
  {
   "cell_type": "markdown",
   "id": "4b9f3108-ad83-42a3-8e64-e53e36843b5e",
   "metadata": {},
   "source": [
    "## Hard train"
   ]
  },
  {
   "cell_type": "code",
   "execution_count": 41,
   "id": "ccafb285-c412-45a4-af16-28d73f62021c",
   "metadata": {},
   "outputs": [
    {
     "name": "stdout",
     "output_type": "stream",
     "text": [
      "model_copycat in mnist dataset- Test Loss: 5.9112, Accuracy: 10.63\n",
      "model_copycat in svhn dataset- Test Loss: 2.2501, Accuracy: 24.72\n",
      "model_copycat in combined dataset- Test Loss: 2.2501, Accuracy: 20.81\n"
     ]
    }
   ],
   "source": [
    "test_model_20l_all_datasets(utils.create_resnet_model('./pths/0_19/copycat_ms1.pth', out_features=20))"
   ]
  },
  {
   "cell_type": "code",
   "execution_count": 27,
   "id": "fd64e16a-f151-4892-88fc-88f4d6d546d5",
   "metadata": {},
   "outputs": [
    {
     "name": "stdout",
     "output_type": "stream",
     "text": [
      "model_copycat in mnist dataset- Test Loss: 5.9112, Accuracy: 10.63\n",
      "model_copycat in svhn dataset- Test Loss: 2.2501, Accuracy: 24.72\n",
      "model_copycat in combined dataset- Test Loss: 3.2662, Accuracy: 20.81\n"
     ]
    }
   ],
   "source": [
    "test_model_20l_all_datasets(utils.create_resnet_model('./pths/0_19/copycat_ms1.pth', out_features=20))"
   ]
  },
  {
   "cell_type": "code",
   "execution_count": 28,
   "id": "5ec8e616-1203-430d-8181-1fc7a5006678",
   "metadata": {},
   "outputs": [
    {
     "name": "stdout",
     "output_type": "stream",
     "text": [
      "model_copycat in mnist dataset- Test Loss: 5.9112, Accuracy: 10.63\n",
      "model_copycat in svhn dataset- Test Loss: 16.9432, Accuracy: 14.01\n",
      "model_copycat in combined dataset- Test Loss: 13.8815, Accuracy: 13.07\n"
     ]
    }
   ],
   "source": [
    "test_model_10l_all_datasets(utils.create_resnet_model('./pths/0_19/copycat_ms1.pth', out_features=20))"
   ]
  },
  {
   "cell_type": "code",
   "execution_count": 21,
   "id": "b9d0994d-1235-4f8b-b89f-9e6a31664fff",
   "metadata": {},
   "outputs": [
    {
     "name": "stdout",
     "output_type": "stream",
     "text": [
      "model_copycat in mnist dataset- Test Loss: 5.0643, Accuracy: 27.16\n",
      "model_copycat in svhn dataset- Test Loss: 2.0463, Accuracy: 12.27\n",
      "model_copycat in combined dataset- Test Loss: 2.8839, Accuracy: 16.40\n"
     ]
    }
   ],
   "source": [
    "test_model_20l_all_datasets(utils.create_resnet_model('./pths/0_19/copycat_ms6.pth', out_features=20))"
   ]
  },
  {
   "cell_type": "code",
   "execution_count": 23,
   "id": "ed8398aa-95e6-42f4-81b6-8a17c8e2310d",
   "metadata": {},
   "outputs": [
    {
     "name": "stdout",
     "output_type": "stream",
     "text": [
      "model_copycat in mnist dataset- Test Loss: 5.1644, Accuracy: 31.22\n",
      "model_copycat in svhn dataset- Test Loss: 1.1947, Accuracy: 30.28\n",
      "model_copycat in combined dataset- Test Loss: 2.2964, Accuracy: 30.54\n"
     ]
    }
   ],
   "source": [
    "test_model_20l_all_datasets(utils.create_resnet_model('./pths/0_19/copycat_ms7.pth', out_features=20))"
   ]
  },
  {
   "cell_type": "code",
   "execution_count": 24,
   "id": "fe046553-8f61-4eb9-877d-ced3276b33c8",
   "metadata": {},
   "outputs": [
    {
     "name": "stdout",
     "output_type": "stream",
     "text": [
      "model_copycat in mnist dataset- Test Loss: 5.0973, Accuracy: 27.22\n",
      "model_copycat in svhn dataset- Test Loss: 1.2072, Accuracy: 47.80\n",
      "model_copycat in combined dataset- Test Loss: 2.2869, Accuracy: 42.09\n"
     ]
    }
   ],
   "source": [
    "test_model_20l_all_datasets(utils.create_resnet_model('./pths/0_19/copycat_ms8.pth', out_features=20))"
   ]
  },
  {
   "cell_type": "code",
   "execution_count": 25,
   "id": "84d2e7c2-5cdb-41ec-bc13-989e8d166060",
   "metadata": {},
   "outputs": [
    {
     "name": "stdout",
     "output_type": "stream",
     "text": [
      "model_copycat in mnist dataset- Test Loss: 5.2173, Accuracy: 24.60\n",
      "model_copycat in svhn dataset- Test Loss: 1.1454, Accuracy: 42.37\n",
      "model_copycat in combined dataset- Test Loss: 2.2755, Accuracy: 37.44\n"
     ]
    }
   ],
   "source": [
    "test_model_20l_all_datasets(utils.create_resnet_model('./pths/0_19/copycat_ms9.pth', out_features=20))"
   ]
  },
  {
   "cell_type": "code",
   "execution_count": 29,
   "id": "6a161315-5044-4ea0-9b0b-8b7d507aba31",
   "metadata": {},
   "outputs": [
    {
     "name": "stdout",
     "output_type": "stream",
     "text": [
      "model_copycat in mnist dataset- Test Loss: 5.5759, Accuracy: 32.38\n",
      "model_copycat in svhn dataset- Test Loss: 22.0764, Accuracy: 19.51\n",
      "model_copycat in combined dataset- Test Loss: 17.4970, Accuracy: 23.08\n"
     ]
    }
   ],
   "source": [
    "test_model_10l_all_datasets(utils.create_resnet_model('./pths/0_19/copycat_ms10.pth', out_features=20))"
   ]
  },
  {
   "cell_type": "code",
   "execution_count": 30,
   "id": "3faa04a1-db90-427d-bf1e-2c0816db06a9",
   "metadata": {},
   "outputs": [
    {
     "name": "stdout",
     "output_type": "stream",
     "text": [
      "model_copycat in mnist dataset- Test Loss: 5.5759, Accuracy: 32.38\n",
      "model_copycat in svhn dataset- Test Loss: 1.3212, Accuracy: 3.03\n",
      "model_copycat in combined dataset- Test Loss: 2.5020, Accuracy: 11.18\n"
     ]
    }
   ],
   "source": [
    "test_model_20l_all_datasets(utils.create_resnet_model('./pths/0_19/copycat_ms10.pth', out_features=20))"
   ]
  },
  {
   "cell_type": "markdown",
   "id": "0a2f0c6c-084d-42e3-95a1-5dfae1b7c17c",
   "metadata": {},
   "source": [
    "## Soft train"
   ]
  },
  {
   "cell_type": "code",
   "execution_count": 38,
   "id": "5a8a0335-8277-4f69-bcfc-3cd9bef5f2ef",
   "metadata": {},
   "outputs": [
    {
     "data": {
      "text/plain": [
       "Dataset MNIST\n",
       "    Number of datapoints: 10000\n",
       "    Root location: data\n",
       "    Split: Test\n",
       "    StandardTransform\n",
       "Transform: Compose(\n",
       "               Grayscale(num_output_channels=3)\n",
       "               Resize(size=(32, 32), interpolation=bilinear, max_size=None, antialias=True)\n",
       "               ToTensor()\n",
       "               Normalize(mean=(0.5, 0.5, 0.5), std=(0.5, 0.5, 0.5))\n",
       "           )"
      ]
     },
     "execution_count": 38,
     "metadata": {},
     "output_type": "execute_result"
    }
   ],
   "source": [
    "test_dataset_mnist"
   ]
  },
  {
   "cell_type": "code",
   "execution_count": 39,
   "id": "90c9911b-f44a-4879-b169-76cfe61ca8a9",
   "metadata": {},
   "outputs": [
    {
     "data": {
      "text/plain": [
       "Dataset SVHN\n",
       "    Number of datapoints: 26032\n",
       "    Root location: data/SVHN\n",
       "    Split: test\n",
       "    StandardTransform\n",
       "Transform: Compose(\n",
       "               Resize(size=(32, 32), interpolation=bilinear, max_size=None, antialias=True)\n",
       "               ToTensor()\n",
       "               Normalize(mean=(0.5, 0.5, 0.5), std=(0.5, 0.5, 0.5))\n",
       "           )\n",
       "Target transform: <function <lambda> at 0x7fd2e295b240>"
      ]
     },
     "execution_count": 39,
     "metadata": {},
     "output_type": "execute_result"
    }
   ],
   "source": [
    "test_dataset_svhn"
   ]
  },
  {
   "cell_type": "markdown",
   "id": "c55013d1-4bd4-488d-bb4c-69a5e5bff4ee",
   "metadata": {},
   "source": [
    "### MNIST"
   ]
  },
  {
   "cell_type": "code",
   "execution_count": 33,
   "id": "b6d61f57-ac92-479b-a369-386b5de90898",
   "metadata": {},
   "outputs": [
    {
     "name": "stdout",
     "output_type": "stream",
     "text": [
      "model_copycat in mnist dataset- Test Loss: 2.1606, Accuracy: 72.72\n",
      "model_copycat in svhn dataset- Test Loss: 3.0745, Accuracy: 0.00\n",
      "model_copycat in combined dataset- Test Loss: 2.8209, Accuracy: 20.18\n"
     ]
    }
   ],
   "source": [
    "test_model_20l_all_datasets(utils.create_resnet_model('./pths/0_19/copycat_soft_m1_soft.pth', out_features=20))"
   ]
  },
  {
   "cell_type": "code",
   "execution_count": 34,
   "id": "9022700a-1202-4d81-a746-1c7ca67e6311",
   "metadata": {},
   "outputs": [
    {
     "name": "stdout",
     "output_type": "stream",
     "text": [
      "model_copycat in mnist dataset- Test Loss: 2.0432, Accuracy: 82.69\n",
      "model_copycat in svhn dataset- Test Loss: 4.1728, Accuracy: 0.00\n",
      "model_copycat in combined dataset- Test Loss: 3.5818, Accuracy: 22.95\n"
     ]
    }
   ],
   "source": [
    "test_model_20l_all_datasets(utils.create_resnet_model('./pths/0_19/copycat_soft_m2_soft.pth', out_features=20))"
   ]
  },
  {
   "cell_type": "code",
   "execution_count": 45,
   "id": "cc26adbb-d842-4150-997b-7dea3c4a0a75",
   "metadata": {},
   "outputs": [
    {
     "name": "stdout",
     "output_type": "stream",
     "text": [
      "model_copycat in mnist dataset- Test Loss: 1.9573, Accuracy: 93.29\n",
      "model_copycat in svhn dataset- Test Loss: 3.1257, Accuracy: 0.00\n",
      "model_copycat in combined dataset- Test Loss: 2.8014, Accuracy: 25.89\n"
     ]
    }
   ],
   "source": [
    "test_model_20l_all_datasets(utils.create_resnet_model('./pths/0_19/copycat_soft_m3_soft.pth', out_features=20))"
   ]
  },
  {
   "cell_type": "code",
   "execution_count": 46,
   "id": "c9ff376f-c17a-4d8f-bf30-b309f49724a5",
   "metadata": {},
   "outputs": [
    {
     "name": "stdout",
     "output_type": "stream",
     "text": [
      "model_copycat in mnist dataset- Test Loss: 1.9511, Accuracy: 96.10\n",
      "model_copycat in svhn dataset- Test Loss: 3.0848, Accuracy: 0.00\n",
      "model_copycat in combined dataset- Test Loss: 2.7702, Accuracy: 26.67\n"
     ]
    }
   ],
   "source": [
    "test_model_20l_all_datasets(utils.create_resnet_model('./pths/0_19/copycat_soft_m4_soft.pth', out_features=20))"
   ]
  },
  {
   "cell_type": "code",
   "execution_count": 48,
   "id": "ad45bfa4-964a-4600-a236-ee56bbcd0839",
   "metadata": {},
   "outputs": [
    {
     "name": "stdout",
     "output_type": "stream",
     "text": [
      "model_copycat in mnist dataset- Test Loss: 1.9041, Accuracy: 98.01\n",
      "model_copycat in svhn dataset- Test Loss: 3.0741, Accuracy: 0.00\n",
      "model_copycat in combined dataset- Test Loss: 2.7494, Accuracy: 27.20\n"
     ]
    }
   ],
   "source": [
    "test_model_20l_all_datasets(utils.create_resnet_model('./pths/0_19/copycat_soft_m5_soft.pth', out_features=20))"
   ]
  },
  {
   "cell_type": "markdown",
   "id": "1629aad0-707a-4bc3-a30e-f592d95435b2",
   "metadata": {},
   "source": [
    "### MNIST+SVHN"
   ]
  },
  {
   "cell_type": "code",
   "execution_count": 13,
   "id": "ff52ff92-9b2b-44a1-9231-c1e013b16823",
   "metadata": {},
   "outputs": [
    {
     "name": "stdout",
     "output_type": "stream",
     "text": [
      "model_copycat in mnist dataset- Test Loss: 2.6205, Accuracy: 53.57\n",
      "model_copycat in svhn dataset- Test Loss: 2.7473, Accuracy: 24.49\n",
      "model_copycat in combined dataset- Test Loss: 2.7121, Accuracy: 32.56\n"
     ]
    }
   ],
   "source": [
    "test_model_20l_all_datasets(utils.create_resnet_model('./pths/0_19/copycat_soft_ms1.pth', out_features=20))"
   ]
  },
  {
   "cell_type": "code",
   "execution_count": 14,
   "id": "6ba8392f-6347-4bc6-be56-6f16730cbc5c",
   "metadata": {},
   "outputs": [
    {
     "name": "stdout",
     "output_type": "stream",
     "text": [
      "model_copycat in mnist dataset- Test Loss: 2.5890, Accuracy: 62.98\n",
      "model_copycat in svhn dataset- Test Loss: 2.6641, Accuracy: 32.85\n",
      "model_copycat in combined dataset- Test Loss: 2.6433, Accuracy: 41.21\n"
     ]
    }
   ],
   "source": [
    "test_model_20l_all_datasets(utils.create_resnet_model('./pths/0_19/copycat_soft_ms2.pth', out_features=20))"
   ]
  },
  {
   "cell_type": "code",
   "execution_count": 15,
   "id": "d6db80d4-d075-4695-82f8-8c4526dabe6b",
   "metadata": {},
   "outputs": [
    {
     "name": "stdout",
     "output_type": "stream",
     "text": [
      "model_copycat in mnist dataset- Test Loss: 2.8147, Accuracy: 38.93\n",
      "model_copycat in svhn dataset- Test Loss: 2.6621, Accuracy: 23.47\n",
      "model_copycat in combined dataset- Test Loss: 2.7045, Accuracy: 27.76\n"
     ]
    }
   ],
   "source": [
    "test_model_20l_all_datasets(utils.create_resnet_model('./pths/0_19/copycat_soft_ms3.pth', out_features=20))"
   ]
  },
  {
   "cell_type": "code",
   "execution_count": 16,
   "id": "38796498-5f3c-4255-89ce-8d49afad994b",
   "metadata": {},
   "outputs": [
    {
     "name": "stdout",
     "output_type": "stream",
     "text": [
      "model_copycat in mnist dataset- Test Loss: 2.5436, Accuracy: 66.51\n",
      "model_copycat in svhn dataset- Test Loss: 2.7687, Accuracy: 45.37\n",
      "model_copycat in combined dataset- Test Loss: 2.7062, Accuracy: 51.24\n"
     ]
    }
   ],
   "source": [
    "test_model_20l_all_datasets(utils.create_resnet_model('./pths/0_19/copycat_soft_ms4.pth', out_features=20))"
   ]
  },
  {
   "cell_type": "code",
   "execution_count": 17,
   "id": "d05e4d24-7a86-4bf0-98b2-1ece826aef69",
   "metadata": {},
   "outputs": [
    {
     "name": "stdout",
     "output_type": "stream",
     "text": [
      "model_copycat in mnist dataset- Test Loss: 2.5348, Accuracy: 63.58\n",
      "model_copycat in svhn dataset- Test Loss: 2.5862, Accuracy: 45.71\n",
      "model_copycat in combined dataset- Test Loss: 2.5719, Accuracy: 50.67\n"
     ]
    }
   ],
   "source": [
    "test_model_20l_all_datasets(utils.create_resnet_model('./pths/0_19/copycat_soft_ms5.pth', out_features=20))"
   ]
  },
  {
   "cell_type": "code",
   "execution_count": 18,
   "id": "f5d2bc54-662c-4dac-90c5-35a6ca1573ec",
   "metadata": {},
   "outputs": [
    {
     "name": "stdout",
     "output_type": "stream",
     "text": [
      "model_copycat in mnist dataset- Test Loss: 2.4897, Accuracy: 75.61\n",
      "model_copycat in svhn dataset- Test Loss: 2.6038, Accuracy: 42.34\n",
      "model_copycat in combined dataset- Test Loss: 2.5722, Accuracy: 51.57\n"
     ]
    }
   ],
   "source": [
    "test_model_20l_all_datasets(utils.create_resnet_model('./pths/0_19/copycat_soft_ms6.pth', out_features=20))"
   ]
  },
  {
   "cell_type": "code",
   "execution_count": 19,
   "id": "05ed2aa5-57cc-4f69-b2d0-a2852edbc49d",
   "metadata": {},
   "outputs": [
    {
     "name": "stdout",
     "output_type": "stream",
     "text": [
      "model_copycat in mnist dataset- Test Loss: 2.4061, Accuracy: 71.47\n",
      "model_copycat in svhn dataset- Test Loss: 2.5958, Accuracy: 52.29\n",
      "model_copycat in combined dataset- Test Loss: 2.5431, Accuracy: 57.61\n"
     ]
    }
   ],
   "source": [
    "test_model_20l_all_datasets(utils.create_resnet_model('./pths/0_19/copycat_soft_ms7.pth', out_features=20))"
   ]
  },
  {
   "cell_type": "code",
   "execution_count": 12,
   "id": "54bbbf09-a6b3-4213-83ae-8ad623d4783e",
   "metadata": {},
   "outputs": [
    {
     "name": "stdout",
     "output_type": "stream",
     "text": [
      "model_copycat in mnist dataset- Test Loss: 2.4160, Accuracy: 74.78\n",
      "model_copycat in svhn dataset- Test Loss: 2.6780, Accuracy: 36.02\n",
      "model_copycat in combined dataset- Test Loss: 2.6053, Accuracy: 46.78\n"
     ]
    }
   ],
   "source": [
    "test_model_20l_all_datasets(utils.create_resnet_model('./pths/0_19/copycat_soft_ms8.pth', out_features=20))"
   ]
  },
  {
   "cell_type": "code",
   "execution_count": 20,
   "id": "a1f62b32-27f7-4277-989a-d775b99a340e",
   "metadata": {},
   "outputs": [
    {
     "name": "stdout",
     "output_type": "stream",
     "text": [
      "model_copycat in mnist dataset- Test Loss: 2.5405, Accuracy: 69.53\n",
      "model_copycat in svhn dataset- Test Loss: 2.5922, Accuracy: 54.59\n",
      "model_copycat in combined dataset- Test Loss: 2.5779, Accuracy: 58.73\n"
     ]
    }
   ],
   "source": [
    "test_model_20l_all_datasets(utils.create_resnet_model('./pths/0_19/copycat_soft_ms9.pth', out_features=20))"
   ]
  },
  {
   "cell_type": "code",
   "execution_count": 22,
   "id": "99bc8000-490e-4a19-98c6-eb26a5498b97",
   "metadata": {},
   "outputs": [
    {
     "name": "stdout",
     "output_type": "stream",
     "text": [
      "model_copycat in mnist dataset- Test Loss: 2.5102, Accuracy: 73.85\n",
      "model_copycat in svhn dataset- Test Loss: 2.5954, Accuracy: 46.11\n",
      "model_copycat in combined dataset- Test Loss: 2.5718, Accuracy: 53.81\n"
     ]
    }
   ],
   "source": [
    "test_model_20l_all_datasets(utils.create_resnet_model('./pths/0_19/copycat_soft_ms10.pth', out_features=20))"
   ]
  },
  {
   "cell_type": "code",
   "execution_count": null,
   "id": "901b9946-095e-4a46-8dfe-63e93f31838f",
   "metadata": {},
   "outputs": [],
   "source": []
  }
 ],
 "metadata": {
  "kernelspec": {
   "display_name": "Python 3 (ipykernel)",
   "language": "python",
   "name": "python3"
  },
  "language_info": {
   "codemirror_mode": {
    "name": "ipython",
    "version": 3
   },
   "file_extension": ".py",
   "mimetype": "text/x-python",
   "name": "python",
   "nbconvert_exporter": "python",
   "pygments_lexer": "ipython3",
   "version": "3.12.3"
  }
 },
 "nbformat": 4,
 "nbformat_minor": 5
}
