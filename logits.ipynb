{
 "cells": [
  {
   "cell_type": "markdown",
   "id": "16ef8895-e630-4925-8d52-03e1e46bab9e",
   "metadata": {},
   "source": [
    "# Logits e argmax\n",
    "Para cada um dos datasets:\n",
    "Passar o dataset pelos 2 modelos e concatenar seus logits em uma lista e depois aplicar a softmax"
   ]
  },
  {
   "cell_type": "code",
   "execution_count": 87,
   "id": "71468789-7c09-4e3f-8f02-2c23173f35a9",
   "metadata": {},
   "outputs": [],
   "source": [
    "def get_logits(models, dataloader, device):\n",
    "    # for model in models:\n",
    "    model1 = models[0].to(device)\n",
    "    model2 = models[1].to(device)\n",
    "    model3 = models[2].to(device)\n",
    "    \n",
    "    model1.eval()\n",
    "    model2.eval()\n",
    "    model3.eval()\n",
    "    logits = []\n",
    "\n",
    "    with torch.no_grad():\n",
    "        for inputs, labels in dataloader:\n",
    "            inputs, labels = inputs.to(device), labels.to(device)\n",
    "            outputs1 = model1(inputs).detach().cpu().numpy()\n",
    "            outputs2 = model2(inputs).detach().cpu().numpy()\n",
    "            outputs3 = model3(inputs).detach().cpu().numpy()\n",
    "            \n",
    "            # Concatenate the outputs along the correct dimension\n",
    "            combined_outputs = np.concatenate((outputs1, outputs2, outputs3), axis=1)\n",
    "            \n",
    "            logits.append(combined_outputs)\n",
    "    \n",
    "    return np.concatenate(logits, axis=0)"
   ]
  },
  {
   "cell_type": "code",
   "execution_count": 175,
   "id": "59a6da33-eb78-45a5-af48-5423b35042dd",
   "metadata": {},
   "outputs": [
    {
     "data": {
      "text/plain": [
       "(36032, 30)"
      ]
     },
     "execution_count": 175,
     "metadata": {},
     "output_type": "execute_result"
    }
   ],
   "source": [
    "models = [model_mnist , model_svhn, model_combined]\n",
    "combined_logits = get_logits((models), test_combined_dataloader, device)\n",
    "combined_logits.shape"
   ]
  },
  {
   "cell_type": "code",
   "execution_count": 93,
   "id": "a64106cb-d68f-44d9-afc7-04226e08a9ec",
   "metadata": {},
   "outputs": [
    {
     "data": {
      "image/png": "[encoded data removed]",
      "text/plain": [
       "<Figure size 640x480 with 1 Axes>"
      ]
     },
     "metadata": {},
     "output_type": "display_data"
    },
    {
     "name": "stdout",
     "output_type": "stream",
     "text": [
      "\n",
      "fazendo argmax do mnist\n",
      "[ -6.5635552  -1.8201514  -3.5198343  -1.6971519   3.942061   -5.0733905\n",
      " -12.52026    26.673439   -6.007456    2.3884196] 7\n",
      "\n",
      "fazendo argmax do svhn\n",
      "[-2.8570375  -0.56708866 -5.8099236   2.0956542  -2.0594065  -3.9255009\n",
      " -2.8114336  17.056015   -6.564337    8.311277  ] 7\n",
      "\n",
      "fazendo argmax do combined\n",
      "[-11.225965   -0.3550372 -14.293932   -6.979712   -4.2555094 -15.430385\n",
      " -19.447308   20.09267   -14.364584    2.294392 ] 7\n",
      "\n",
      "logits combinados\n",
      "[ -6.56396     -1.8190225   -3.520609    -1.6979444    3.943133\n",
      "  -5.073531   -12.519203    26.672615    -6.008079     2.3886979\n",
      "  -2.856429    -0.56715304  -5.80794      2.0949895   -2.0595999\n",
      "  -3.927878    -2.8107533   17.056273    -6.5645094    8.310839\n",
      " -11.22424     -0.3547328  -14.293362    -6.9770966   -4.2523475\n",
      " -15.428565   -19.446152    20.089876   -14.362683     2.2944524 ]\n"
     ]
    }
   ],
   "source": [
    "inputs, labels = test_dataset_combined[0]\n",
    "inputs = inputs.to(device)\n",
    "imshow(inputs.cpu())\n",
    "argmax_mnist = model_mnist(inputs.unsqueeze(0)).detach().cpu().numpy().squeeze(0)\n",
    "argmax_svhn = model_svhn(inputs.unsqueeze(0)).detach().cpu().numpy().squeeze(0)\n",
    "argmax_combined = model_combined(inputs.unsqueeze(0)).detach().cpu().numpy().squeeze(0)\n",
    "\n",
    "print(\"\\nfazendo argmax do mnist\")\n",
    "print(argmax_mnist, argmax_mnist.argmax())\n",
    "\n",
    "print(\"\\nfazendo argmax do svhn\")\n",
    "print(argmax_svhn, argmax_svhn.argmax())\n",
    "\n",
    "print(\"\\nfazendo argmax do combined\")\n",
    "print(argmax_combined, argmax_combined.argmax())\n",
    "\n",
    "print(\"\\nlogits combinados\")\n",
    "print(combined_logits[0])"
   ]
  },
  {
   "cell_type": "code",
   "execution_count": 94,
   "id": "32091f82-9e7f-4646-9a02-c332f734211e",
   "metadata": {
    "scrolled": true
   },
   "outputs": [
    {
     "name": "stdout",
     "output_type": "stream",
     "text": [
      "Overall Accuracy: 32557/36032 = 90.36%\n",
      "MNIST Accuracy: 7087, MNIST Attempt: 7117 \n",
      "SVHN Accuracy: 25470, SVHN Attempt: 28915\n",
      "Combined Accuracy: 0, SVHN Attempt: 0\n"
     ]
    }
   ],
   "source": [
    "def test_logits(combined_logits, test_dataset_combined):\n",
    "    acertos = 0\n",
    "    acertos_mnist = 0\n",
    "    attempt_mnist = 0\n",
    "    acertos_svhn = 0\n",
    "    attempt_svhn = 0\n",
    "\n",
    "    total = len(combined_logits)\n",
    "    # total = 60000 # len of train_dataset_mnist\n",
    "    # total = 60000 + 73257\n",
    "    \n",
    "    # Aqui pelo que entendi\n",
    "    # Vejo qual modelo esta mais confiante para fazer a previsao, \n",
    "    # Entao contabilizo uma tentativa para o modelo e verifico se a previsao foi correta\n",
    "    for i, (inputs, targets) in enumerate(test_dataset_combined):#100): \n",
    "        argmax = np.argmax(combined_logits[i])\n",
    "        answered = 'mnist'\n",
    "        if argmax >= 10:\n",
    "            attempt_svhn += 1\n",
    "            argmax -= 10\n",
    "            answered = 'svhn'\n",
    "        else:\n",
    "            attempt_mnist += 1\n",
    "\n",
    "        if argmax == targets:\n",
    "            acertos += 1\n",
    "            if answered == 'svhn':\n",
    "                acertos_svhn += 1\n",
    "            else:\n",
    "                acertos_mnist += 1\n",
    "        \n",
    "    print(f'Overall Accuracy: {acertos}/{total} = {100 * (acertos / total):.2f}%')\n",
    "    print(f'MNIST Accuracy: {acertos_mnist}, MNIST Attempt: {attempt_mnist} ')\n",
    "    print(f'SVHN Accuracy: {acertos_svhn}, SVHN Attempt: {attempt_svhn}')\n",
    "    print(f'Combined Accuracy: {acertos_combined}, SVHN Attempt: {attempt_combined}')\n",
    "\n",
    "test_logits(combined_logits, test_dataset_combined)"
   ]
  }
 ],
 "metadata": {
  "kernelspec": {
   "display_name": "Python 3 (ipykernel)",
   "language": "python",
   "name": "python3"
  },
  "language_info": {
   "codemirror_mode": {
    "name": "ipython",
    "version": 3
   },
   "file_extension": ".py",
   "mimetype": "text/x-python",
   "name": "python",
   "nbconvert_exporter": "python",
   "pygments_lexer": "ipython3",
   "version": "3.11.2"
  }
 },
 "nbformat": 4,
 "nbformat_minor": 5
}
