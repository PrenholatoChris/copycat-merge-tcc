{
 "cells": [
  {
   "cell_type": "code",
   "execution_count": 7,
   "id": "73a41bfb-e36e-4689-9922-25461dc1239d",
   "metadata": {},
   "outputs": [],
   "source": [
    "import numpy as np\n",
    "import matplotlib.pyplot as plt\n",
    "import datetime\n",
    "import time\n",
    "import copy\n",
    "import scipy\n",
    "\n",
    "import torch\n",
    "import torch.nn as nn\n",
    "import torch.optim as optim\n",
    "from torch.utils.data import DataLoader, ConcatDataset, Dataset\n",
    "\n",
    "\n",
    "import torchvision\n",
    "import torchvision.transforms as transforms\n",
    "import torchvision.models as models\n",
    "import torchvision.datasets as datasets\n",
    "from torchvision.transforms import ToTensor\n",
    "\n",
    "from image_list import ImageList\n",
    "\n",
    "import utils"
   ]
  },
  {
   "cell_type": "markdown",
   "id": "0e84ffac-9f93-4570-895c-921f075c46d2",
   "metadata": {},
   "source": [
    "# Hard Labels"
   ]
  },
  {
   "cell_type": "code",
   "execution_count": 3,
   "id": "d1d22da6-4346-4e09-a604-8967872c359e",
   "metadata": {},
   "outputs": [],
   "source": [
    "fake_dataset_mnist = ImageList(\n",
    "    filename=\"txt_files/extracted_mnist_500k.txt\",\n",
    "    root=\".\",\n",
    "    color=True,\n",
    "    transform = transforms.Compose([transforms.Resize((32, 32)),\n",
    "                                    ToTensor(),\n",
    "                                    transforms.Normalize((0.5, 0.5, 0.5), (0.5, 0.5, 0.5))\n",
    "                                   ]),\n",
    "    return_filename=False\n",
    ")\n",
    "fake_dataset_svhn = ImageList(\n",
    "    filename=\"txt_files/extracted_svhn_500k.txt\",\n",
    "    root=\".\",\n",
    "    color=True,\n",
    "    transform = transforms.Compose([transforms.Resize((32, 32)),\n",
    "                                    ToTensor(),\n",
    "                                    transforms.Normalize((0.5, 0.5, 0.5), (0.5, 0.5, 0.5))\n",
    "                                   ]),\n",
    "    return_filename=False\n",
    ")\n",
    "\n",
    "\n",
    "\n",
    "\n",
    "fake_dataloader_mnist = DataLoader(fake_dataset_mnist, batch_size=64, shuffle=False)\n",
    "fake_dataloader_svhn = DataLoader(fake_dataset_svhn, batch_size=64, shuffle=False)\n",
    "\n",
    "\n",
    "## Creating a Concatened Dataset\n",
    "fake_dataset_ms = ConcatDataset([fake_dataset_mnist,fake_dataset_svhn])\n",
    "fake_dataloader_ms = DataLoader(fake_dataset_ms, batch_size=64, shuffle=True)"
   ]
  },
  {
   "cell_type": "code",
   "execution_count": 5,
   "id": "d7d5c212-66dd-443e-ad01-c08f4eeb60bf",
   "metadata": {},
   "outputs": [],
   "source": [
    "# fake_dataset_combined = ImageList(\n",
    "#     filename=\"txt_files/extracted_combined.txt\",\n",
    "\n",
    "#     root=\".\",\n",
    "#     color=True,\n",
    "#     transform = transforms.Compose([transforms.Resize((32, 32)),\n",
    "#                                     ToTensor(),\n",
    "#                                     transforms.Normalize((0.5, 0.5, 0.5), (0.5, 0.5, 0.5))\n",
    "#                                    ]),\n",
    "#     return_filename=False\n",
    "# )\n",
    "# fake_dataloader_combined = DataLoader(fake_dataset_combined, batch_size=64, shuffle=False)"
   ]
  },
  {
   "cell_type": "code",
   "execution_count": 8,
   "id": "c673af6d-0830-4b18-a10a-4b6b1864afb4",
   "metadata": {},
   "outputs": [
    {
     "name": "stdout",
     "output_type": "stream",
     "text": [
      "Epoch 1/10 - Loss: 0.7389, Accuracy: 72.44%\n",
      "Epoch 2/10 - Loss: 0.6080, Accuracy: 76.76%\n",
      "Epoch 3/10 - Loss: 0.5271, Accuracy: 79.50%\n",
      "Epoch 4/10 - Loss: 0.4570, Accuracy: 82.03%\n",
      "Epoch 5/10 - Loss: 0.3989, Accuracy: 84.14%\n",
      "Epoch 6/10 - Loss: 0.3428, Accuracy: 86.25%\n",
      "Epoch 7/10 - Loss: 0.2995, Accuracy: 88.01%\n",
      "Epoch 8/10 - Loss: 0.2521, Accuracy: 89.85%\n",
      "Epoch 9/10 - Loss: 0.2157, Accuracy: 91.40%\n",
      "Epoch 10/10 - Loss: 0.1829, Accuracy: 92.75%\n",
      "Training complete.\n"
     ]
    }
   ],
   "source": [
    "# MNIST\n",
    "model_copycat = utils.create_resnet_model()\n",
    "model_copycat = utils.train(model_copycat, fake_dataloader_mnist, epochs=10, lr=0.001, outputname='./pths/10l/copycat_m')"
   ]
  },
  {
   "cell_type": "code",
   "execution_count": 9,
   "id": "d5ab2ec3-a141-4215-ab37-398dab1b4a76",
   "metadata": {},
   "outputs": [
    {
     "name": "stdout",
     "output_type": "stream",
     "text": [
      "Epoch 1/10 - Loss: 1.5272, Accuracy: 46.00%\n",
      "Epoch 2/10 - Loss: 1.1901, Accuracy: 56.84%\n",
      "Epoch 3/10 - Loss: 1.0592, Accuracy: 61.13%\n",
      "Epoch 4/10 - Loss: 0.9685, Accuracy: 64.12%\n",
      "Epoch 5/10 - Loss: 0.8808, Accuracy: 67.10%\n",
      "Epoch 6/10 - Loss: 0.8044, Accuracy: 69.70%\n",
      "Epoch 7/10 - Loss: 0.7175, Accuracy: 72.72%\n",
      "Epoch 8/10 - Loss: 0.6456, Accuracy: 75.40%\n",
      "Epoch 9/10 - Loss: 0.5661, Accuracy: 78.28%\n",
      "Epoch 10/10 - Loss: 0.4919, Accuracy: 81.16%\n",
      "Training complete.\n"
     ]
    }
   ],
   "source": [
    "# SVHN\n",
    "model_copycat = utils.create_resnet_model()\n",
    "model_copycat = utils.train(model_copycat, fake_dataloader_svhn, epochs=10, lr=0.001, outputname='./pths/10l/copycat_s')"
   ]
  },
  {
   "cell_type": "code",
   "execution_count": 6,
   "id": "9b963882-2191-460a-80a4-96d8c4dff7ad",
   "metadata": {},
   "outputs": [
    {
     "name": "stdout",
     "output_type": "stream",
     "text": [
      "Epoch 1/10 - Loss: 1.4903, Accuracy: 47.20%\n",
      "Epoch 2/10 - Loss: 1.3079, Accuracy: 50.28%\n",
      "Epoch 3/10 - Loss: 1.2376, Accuracy: 51.36%\n",
      "Epoch 4/10 - Loss: 1.1906, Accuracy: 52.17%\n",
      "Epoch 5/10 - Loss: 1.1520, Accuracy: 52.86%\n",
      "Epoch 6/10 - Loss: 1.1156, Accuracy: 53.53%\n",
      "Epoch 7/10 - Loss: 1.0841, Accuracy: 54.11%\n",
      "Epoch 8/10 - Loss: 1.0536, Accuracy: 54.81%\n",
      "Epoch 9/10 - Loss: 1.0247, Accuracy: 55.48%\n",
      "Epoch 10/10 - Loss: 0.9962, Accuracy: 56.23%\n",
      "Training complete.\n"
     ]
    }
   ],
   "source": [
    "#MS\n",
    "model_copycat = utils.create_resnet_model()\n",
    "model_copycat = utils.train(model_copycat, fake_dataloader_ms, epochs=10, lr=0.001, outputname='./pths/10l/copycat_ms')"
   ]
  },
  {
   "cell_type": "code",
   "execution_count": 7,
   "id": "7a417bf4-250b-4f86-b779-eef3e78873c9",
   "metadata": {},
   "outputs": [],
   "source": [
    "# torch.save(model_copycat.state_dict(), './pths/copycat_c10.pth')"
   ]
  },
  {
   "cell_type": "markdown",
   "id": "3a9aa24d-34c1-4a70-a6e1-ccd822b419fc",
   "metadata": {},
   "source": [
    "# 20 outfeatures"
   ]
  },
  {
   "cell_type": "code",
   "execution_count": 8,
   "id": "01989c02-b575-4a69-8cd3-5059afdab656",
   "metadata": {},
   "outputs": [],
   "source": [
    "fake_dataset_mnist = ImageList(\n",
    "    filename=\"txt_files/extracted_mnist_500k.txt\",\n",
    "    root=\".\",\n",
    "    color=True,\n",
    "    transform = transforms.Compose([transforms.Resize((32, 32)),\n",
    "                                    ToTensor(),\n",
    "                                    transforms.Normalize((0.5, 0.5, 0.5), (0.5, 0.5, 0.5))\n",
    "                                   ]),\n",
    "    return_filename=False\n",
    ")\n",
    "fake_dataset_svhn = ImageList(\n",
    "    filename=\"txt_files/extracted_svhn_500k_20l.txt\",\n",
    "    root=\".\",\n",
    "    color=True,\n",
    "    transform = transforms.Compose([transforms.Resize((32, 32)),\n",
    "                                    ToTensor(),\n",
    "                                    transforms.Normalize((0.5, 0.5, 0.5), (0.5, 0.5, 0.5))\n",
    "                                   ]),\n",
    "    return_filename=False\n",
    ")\n",
    "\n",
    "\n",
    "\n",
    "\n",
    "# fake_dataloader_mnist = DataLoader(fake_dataset_mnist, batch_size=64, shuffle=False)\n",
    "# fake_dataloader_svhn = DataLoader(fake_dat aset_svhn, batch_size=64, shuffle=False)\n",
    "\n",
    "\n",
    "## Creating a Concatened Dataset\n",
    "fake_dataset_ms = ConcatDataset([fake_dataset_mnist,fake_dataset_svhn])\n",
    "fake_dataloader_ms = DataLoader(fake_dataset_ms, batch_size=64, shuffle=True)"
   ]
  },
  {
   "cell_type": "code",
   "execution_count": null,
   "id": "b5ca5870-013d-4a80-aa80-694427577507",
   "metadata": {},
   "outputs": [
    {
     "name": "stdout",
     "output_type": "stream",
     "text": [
      "Epoch 1/10 - Loss: 1.7531, Accuracy: 38.80%\n"
     ]
    }
   ],
   "source": [
    "model_copycat = utils.create_resnet_model(None, 20)\n",
    "model_copycat = utils.train(model_copycat, fake_dataloader_ms, outputname='./pths/20l/copycat_ms')\n",
    "torch.save(model_copycat.state_dict(), './pths/20l/copycat_ms10.pth'"
   ]
  },
  {
   "cell_type": "code",
   "execution_count": 9,
   "id": "9fd91e62-715c-4eb4-8f04-4cd557c94a3d",
   "metadata": {},
   "outputs": [],
   "source": [
    "model_copycat = utils.create_resnet_model('./pths/20l/copycat_ms7.pth', 20)"
   ]
  },
  {
   "cell_type": "code",
   "execution_count": 10,
   "id": "e6957457-990a-40c2-a50d-59f953147119",
   "metadata": {},
   "outputs": [
    {
     "name": "stdout",
     "output_type": "stream",
     "text": [
      "Epoch 1/3 - Loss: 1.2467, Accuracy: 46.19%\n",
      "Epoch 2/3 - Loss: 1.2183, Accuracy: 46.79%\n",
      "Epoch 3/3 - Loss: 1.1861, Accuracy: 47.47%\n",
      "Training complete.\n"
     ]
    }
   ],
   "source": [
    "model_copycat = utils.train(model_copycat, fake_dataloader_ms, epochs=3, outputname='./pths/20l/copycat_ms7_ms')\n",
    "torch.save(model_copycat.state_dict(), './pths/20l/copycat_ms10.pth')"
   ]
  },
  {
   "cell_type": "code",
   "execution_count": null,
   "id": "4637a999-a36d-400e-8616-41932af58084",
   "metadata": {},
   "outputs": [],
   "source": []
  }
 ],
 "metadata": {
  "kernelspec": {
   "display_name": "Python 3 (ipykernel)",
   "language": "python",
   "name": "python3"
  },
  "language_info": {
   "codemirror_mode": {
    "name": "ipython",
    "version": 3
   },
   "file_extension": ".py",
   "mimetype": "text/x-python",
   "name": "python",
   "nbconvert_exporter": "python",
   "pygments_lexer": "ipython3",
   "version": "3.12.3"
  }
 },
 "nbformat": 4,
 "nbformat_minor": 5
}
