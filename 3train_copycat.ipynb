{
 "cells": [
  {
   "cell_type": "code",
   "execution_count": 1,
   "id": "73a41bfb-e36e-4689-9922-25461dc1239d",
   "metadata": {},
   "outputs": [],
   "source": [
    "import numpy as np\n",
    "import matplotlib.pyplot as plt\n",
    "import datetime\n",
    "import time\n",
    "import copy\n",
    "import scipy\n",
    "\n",
    "import torch\n",
    "import torch.nn as nn\n",
    "import torch.optim as optim\n",
    "from torch.utils.data import DataLoader, ConcatDataset, Dataset\n",
    "\n",
    "\n",
    "import torchvision\n",
    "import torchvision.transforms as transforms\n",
    "import torchvision.models as models\n",
    "import torchvision.datasets as datasets\n",
    "from torchvision.transforms import ToTensor\n",
    "\n",
    "from image_list import ImageList\n",
    "\n",
    "import utils"
   ]
  },
  {
   "cell_type": "markdown",
   "id": "0e84ffac-9f93-4570-895c-921f075c46d2",
   "metadata": {},
   "source": [
    "# Hard Labels"
   ]
  },
  {
   "cell_type": "code",
   "execution_count": 2,
   "id": "d1d22da6-4346-4e09-a604-8967872c359e",
   "metadata": {},
   "outputs": [],
   "source": [
    "fake_dataset_mnist = ImageList(\n",
    "    filename=\"pths/0_9/extracted_mnist.txt\",\n",
    "    root=\".\",\n",
    "    color=True,\n",
    "    transform = transforms.Compose([transforms.Resize((32, 32)),\n",
    "                                    ToTensor(),\n",
    "                                    transforms.Normalize((0.5, 0.5, 0.5), (0.5, 0.5, 0.5))\n",
    "                                   ]),\n",
    "    return_filename=False\n",
    ")\n",
    "fake_dataset_svhn = ImageList(\n",
    "    filename=\"pths/0_9/extracted_svhn.txt\",\n",
    "    root=\".\",\n",
    "    color=True,\n",
    "    transform = transforms.Compose([transforms.Resize((32, 32)),\n",
    "                                    ToTensor(),\n",
    "                                    transforms.Normalize((0.5, 0.5, 0.5), (0.5, 0.5, 0.5))\n",
    "                                   ]),\n",
    "    return_filename=False\n",
    ")\n",
    "\n",
    "\n",
    "\n",
    "\n",
    "fake_dataloader_mnist = DataLoader(fake_dataset_mnist, batch_size=64, shuffle=False)\n",
    "fake_dataloader_svhn = DataLoader(fake_dataset_svhn, batch_size=64, shuffle=False)\n",
    "\n",
    "\n",
    "## Creating a Concatened Dataset\n",
    "fake_dataset_ms = ConcatDataset([fake_dataset_mnist,fake_dataset_svhn])\n",
    "fake_dataloader_ms = DataLoader(fake_dataset_ms, batch_size=64, shuffle=True)"
   ]
  },
  {
   "cell_type": "code",
   "execution_count": 3,
   "id": "d7d5c212-66dd-443e-ad01-c08f4eeb60bf",
   "metadata": {},
   "outputs": [],
   "source": [
    "fake_dataset_combined = ImageList(\n",
    "    filename=\"pths/0_9/extracted_combined.txt\",\n",
    "\n",
    "    root=\".\",\n",
    "    color=True,\n",
    "    transform = transforms.Compose([transforms.Resize((32, 32)),\n",
    "                                    ToTensor(),\n",
    "                                    transforms.Normalize((0.5, 0.5, 0.5), (0.5, 0.5, 0.5))\n",
    "                                   ]),\n",
    "    return_filename=False\n",
    ")\n",
    "fake_dataloader_combined = DataLoader(fake_dataset_combined, batch_size=64, shuffle=False)"
   ]
  },
  {
   "cell_type": "code",
   "execution_count": 4,
   "id": "9b963882-2191-460a-80a4-96d8c4dff7ad",
   "metadata": {},
   "outputs": [
    {
     "name": "stdout",
     "output_type": "stream",
     "text": [
      "Epoch 1/10 - Loss: 1.3290, Accuracy: 52.32%\n",
      "Epoch 2/10 - Loss: 1.0350, Accuracy: 61.88%\n",
      "Epoch 3/10 - Loss: 0.9283, Accuracy: 65.44%\n",
      "Epoch 4/10 - Loss: 0.8533, Accuracy: 67.95%\n",
      "Epoch 5/10 - Loss: 0.7902, Accuracy: 70.11%\n",
      "Epoch 6/10 - Loss: 0.7357, Accuracy: 72.03%\n",
      "Epoch 7/10 - Loss: 0.6855, Accuracy: 73.78%\n",
      "Epoch 8/10 - Loss: 0.6382, Accuracy: 75.45%\n",
      "Epoch 9/10 - Loss: 0.5945, Accuracy: 77.08%\n",
      "Epoch 10/10 - Loss: 0.5552, Accuracy: 78.52%\n",
      "Training complete.\n"
     ]
    }
   ],
   "source": [
    "model_copycat = utils.create_resnet_model()\n",
    "model_copycat = utils.train(model_copycat, fake_dataloader_combined)"
   ]
  },
  {
   "cell_type": "code",
   "execution_count": 5,
   "id": "7a417bf4-250b-4f86-b779-eef3e78873c9",
   "metadata": {},
   "outputs": [
    {
     "ename": "AttributeError",
     "evalue": "'NoneType' object has no attribute 'state_dict'",
     "output_type": "error",
     "traceback": [
      "\u001b[31m---------------------------------------------------------------------------\u001b[39m",
      "\u001b[31mAttributeError\u001b[39m                            Traceback (most recent call last)",
      "\u001b[36mCell\u001b[39m\u001b[36m \u001b[39m\u001b[32mIn[5]\u001b[39m\u001b[32m, line 1\u001b[39m\n\u001b[32m----> \u001b[39m\u001b[32m1\u001b[39m torch.save(\u001b[43mmodel_copycat\u001b[49m\u001b[43m.\u001b[49m\u001b[43mstate_dict\u001b[49m(), \u001b[33m'\u001b[39m\u001b[33m./my_weights/copycat_c10.pth\u001b[39m\u001b[33m'\u001b[39m)\n",
      "\u001b[31mAttributeError\u001b[39m: 'NoneType' object has no attribute 'state_dict'"
     ]
    }
   ],
   "source": [
    "# torch.save(model_copycat.state_dict(), './pths/copycat_c10.pth')"
   ]
  },
  {
   "cell_type": "markdown",
   "id": "3a9aa24d-34c1-4a70-a6e1-ccd822b419fc",
   "metadata": {},
   "source": [
    "# 20 outfeatures"
   ]
  },
  {
   "cell_type": "code",
   "execution_count": 2,
   "id": "01989c02-b575-4a69-8cd3-5059afdab656",
   "metadata": {},
   "outputs": [],
   "source": [
    "fake_dataset_mnist = ImageList(\n",
    "    filename=\"pths/0_19/extracted_mnist.txt\",\n",
    "    root=\"data/IMAGENET/\",\n",
    "    color=True,\n",
    "    transform = transforms.Compose([transforms.Resize((32, 32)),\n",
    "                                    ToTensor(),\n",
    "                                    transforms.Normalize((0.5, 0.5, 0.5), (0.5, 0.5, 0.5))\n",
    "                                   ]),\n",
    "    return_filename=False\n",
    ")\n",
    "fake_dataset_svhn = ImageList(\n",
    "    filename=\"pths/0_19/extracted_svhn10_19.txt\",\n",
    "    root=\"data/IMAGENET/\",\n",
    "    color=True,\n",
    "    transform = transforms.Compose([transforms.Resize((32, 32)),\n",
    "                                    ToTensor(),\n",
    "                                    transforms.Normalize((0.5, 0.5, 0.5), (0.5, 0.5, 0.5))\n",
    "                                   ]),\n",
    "    return_filename=False\n",
    ")\n",
    "\n",
    "\n",
    "\n",
    "\n",
    "# fake_dataloader_mnist = DataLoader(fake_dataset_mnist, batch_size=64, shuffle=False)\n",
    "# fake_dataloader_svhn = DataLoader(fake_dat aset_svhn, batch_size=64, shuffle=False)\n",
    "\n",
    "\n",
    "## Creating a Concatened Dataset\n",
    "fake_dataset_ms = ConcatDataset([fake_dataset_mnist,fake_dataset_svhn])\n",
    "fake_dataloader_ms = DataLoader(fake_dataset_ms, batch_size=64, shuffle=True)"
   ]
  },
  {
   "cell_type": "code",
   "execution_count": null,
   "id": "b5ca5870-013d-4a80-aa80-694427577507",
   "metadata": {},
   "outputs": [
    {
     "name": "stdout",
     "output_type": "stream",
     "text": [
      "Epoch 1/10 - Loss: 1.4942, Accuracy: 48.20%\n"
     ]
    }
   ],
   "source": [
    "model_copycat = utils.create_resnet_model(None, 20)\n",
    "model_copycat = utils.train(model_copycat, fake_dataloader_ms, outputname='./pths/0_19/copycat_ms')\n",
    "torch.save(model_copycat.state_dict(), './pths/0_19/copycat_ms10.pth')"
   ]
  },
  {
   "cell_type": "code",
   "execution_count": 5,
   "id": "9fd91e62-715c-4eb4-8f04-4cd557c94a3d",
   "metadata": {},
   "outputs": [],
   "source": [
    "model_copycat = utils.create_resnet_model('./pths/0_19/copycat_ms7.pth', 20)"
   ]
  },
  {
   "cell_type": "code",
   "execution_count": null,
   "id": "e6957457-990a-40c2-a50d-59f953147119",
   "metadata": {},
   "outputs": [],
   "source": [
    "model_copycat = utils.train(model_copycat, fake_dataloader_ms, epochs=3, outputname='./pths/0_19/copycat_ms7_ms')\n",
    "torch.save(model_copycat.state_dict(), './pths/0_19/copycat_ms10.pth')"
   ]
  }
 ],
 "metadata": {
  "kernelspec": {
   "display_name": "Python 3 (ipykernel)",
   "language": "python",
   "name": "python3"
  },
  "language_info": {
   "codemirror_mode": {
    "name": "ipython",
    "version": 3
   },
   "file_extension": ".py",
   "mimetype": "text/x-python",
   "name": "python",
   "nbconvert_exporter": "python",
   "pygments_lexer": "ipython3",
   "version": "3.12.3"
  }
 },
 "nbformat": 4,
 "nbformat_minor": 5
}
