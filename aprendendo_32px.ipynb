{
 "cells": [
  {
   "cell_type": "markdown",
   "id": "e25c3147-5e90-45a3-b884-be27f10dd6a3",
   "metadata": {},
   "source": [
    "# Import torch, torchvision, numpy..."
   ]
  },
  {
   "cell_type": "code",
   "execution_count": 1,
   "id": "41bb4c51-8332-4fba-ba85-0c4517dcfd29",
   "metadata": {
    "scrolled": true
   },
   "outputs": [],
   "source": [
    "import numpy as np\n",
    "import matplotlib.pyplot as plt\n",
    "import datetime\n",
    "import time\n",
    "import copy\n",
    "import scipy\n",
    "\n",
    "import torch\n",
    "import torch.nn as nn\n",
    "import torch.optim as optim\n",
    "from torch.utils.data import DataLoader, ConcatDataset, Dataset\n",
    "\n",
    "\n",
    "import torchvision\n",
    "import torchvision.transforms as transforms\n",
    "import torchvision.models as models\n",
    "import torchvision.datasets as datasets\n",
    "from torchvision.transforms import ToTensor\n",
    "\n",
    "from image_list import ImageList\n",
    "\n",
    "\n",
    "import utils"
   ]
  },
  {
   "cell_type": "markdown",
   "id": "363e35fb-330b-4b3a-8a8b-f3f8a2e56f57",
   "metadata": {},
   "source": [
    "# Datasets"
   ]
  },
  {
   "cell_type": "markdown",
   "id": "faa89a5b-6e5c-4532-81fd-1e604dbfa42a",
   "metadata": {},
   "source": [
    "## Download (MNIST, SVHN, COMBINED )"
   ]
  },
  {
   "cell_type": "code",
   "execution_count": 2,
   "id": "9b026a76-1e87-4207-a04a-ee6ba299b8c0",
   "metadata": {},
   "outputs": [],
   "source": [
    "#Mean: tensor([0 1309, 0.1309, 0.1309])\n",
    "#Standard Deviation: tensor([0.2893, 0.2893, 0.2893])\n",
    "train_dataset_mnist = datasets.MNIST(\n",
    "    root = 'data',\n",
    "    train = True,                         \n",
    "    transform = transforms.Compose([transforms.Grayscale(3),\n",
    "                                    transforms.Resize((32, 32)),\n",
    "                                    transforms.ToTensor(),\n",
    "                                    transforms.Normalize((0.5, 0.5, 0.5), (0.5, 0.5, 0.5))\n",
    "                                   ]),\n",
    "    download = True,            \n",
    ")\n",
    "test_dataset_mnist = datasets.MNIST(\n",
    "    root = 'data', \n",
    "    train = False, \n",
    "    transform = transforms.Compose([transforms.Grayscale(3),\n",
    "                                    transforms.Resize((32, 32)),\n",
    "                                    transforms.ToTensor(),\n",
    "                                    transforms.Normalize((0.5, 0.5, 0.5), (0.5, 0.5, 0.5))\n",
    "                                   ]),\n",
    ")\n",
    "\n",
    "\n",
    "#Mean: tensor([0.4377, 0.4438, 0.4728])\n",
    "#Standard Deviation: tensor([0.1980, 0.2010, 0.1970])\n",
    "train_dataset_svhn = datasets.SVHN(\n",
    "    root = 'data/SVHN',\n",
    "    split = 'train',\n",
    "    transform = transforms.Compose([transforms.Resize((32, 32)),\n",
    "                                    ToTensor(),\n",
    "                                    transforms.Normalize((0.5, 0.5, 0.5), (0.5, 0.5, 0.5))\n",
    "                                   ]),\n",
    "    download = True,            \n",
    ")\n",
    "test_dataset_svhn = datasets.SVHN(\n",
    "    root = 'data/SVHN', \n",
    "    split = 'test', \n",
    "    transform = transforms.Compose([transforms.Resize((32, 32)),\n",
    "                                    ToTensor(),\n",
    "                                    transforms.Normalize((0.5, 0.5, 0.5), (0.5, 0.5, 0.5))\n",
    "                                   ]),\n",
    "    download = True,\n",
    ")\n",
    "\n",
    "## Creating a Concatened Dataset\n",
    "train_dataset_combined = ConcatDataset([train_dataset_mnist,train_dataset_svhn])\n",
    "test_dataset_combined = ConcatDataset([test_dataset_mnist,test_dataset_svhn])\n",
    "\n",
    "\n",
    "\n",
    "# dataloaders\n",
    "train_dataloader_mnist = torch.utils.data.DataLoader(train_dataset_mnist,batch_size=64, shuffle=False)\n",
    "test_dataloader_mnist = torch.utils.data.DataLoader(test_dataset_mnist,batch_size=64, shuffle=False)\n",
    "\n",
    "train_dataloader_svhn = torch.utils.data.DataLoader(train_dataset_svhn,batch_size=64, shuffle=False)\n",
    "test_dataloader_svhn = torch.utils.data.DataLoader(test_dataset_svhn,batch_size=64, shuffle=False)\n",
    "\n",
    "train_dataloader_combined = DataLoader(train_dataset_combined, batch_size=64, shuffle=False)\n",
    "test_dataloader_combined = DataLoader(test_dataset_combined, batch_size=64, shuffle=False)\n",
    "\n",
    "device = torch.device('cuda' if torch.cuda.is_available() else 'cpu')\n",
    "\n",
    "classes_20 = [\"0-mnist\", \"1-mnist\", \"2-mnist\", \"3-mnist\", \"4-mnist\", \"5-mnist\", \"6-mnist\", \"7-mnist\", \"8-mnist\", \"9-mnist\",\n",
    "           \"0-svhn\", \"1-svhn\", \"2-svhn\", \"3-svhn\", \"4-svhn\", \"5-svhn\", \"6-svhn\", \"7-svhn\", \"8-svhn\", \"9-svhn\"]"
   ]
  },
  {
   "cell_type": "code",
   "execution_count": 3,
   "id": "b7396e42-adad-4bc7-a0d1-47ffb397f042",
   "metadata": {
    "scrolled": true
   },
   "outputs": [
    {
     "data": {
      "image/png": "[encoded data removed]",
      "text/plain": [
       "<Figure size 640x480 with 1 Axes>"
      ]
     },
     "metadata": {},
     "output_type": "display_data"
    },
    {
     "data": {
      "image/png": "[encoded data removed]",
      "text/plain": [
       "<Figure size 640x480 with 1 Axes>"
      ]
     },
     "metadata": {},
     "output_type": "display_data"
    }
   ],
   "source": [
    "# utils.imshow(train_dataset_mnist[)\n",
    "\n",
    "\n",
    "\n",
    "utils.imshow(train_dataset_mnist[0][0])\n",
    "utils.imshow(test_dataset_svhn[9][0])\n",
    "\n",
    "\n",
    "\n",
    "#dando erro\n",
    "# utils.imshow(test_dataset_mnist.data[0], True, 'mnist')\n",
    "# plt.imshow(test_dataset_mnist[9][0], cmap='gray')\n",
    "# print(teste_dtset.data.)"
   ]
  },
  {
   "cell_type": "code",
   "execution_count": 3,
   "id": "e7e3120b-f560-4b87-bbbd-cc1f5c5f1211",
   "metadata": {},
   "outputs": [],
   "source": [
    "# Calculate mean and std\n",
    "#mean, std = get_mean_and_std(test_loader)\n",
    "#print(f'Mean: {mean}')\n",
    "#print(f'Standard Deviation: {std}')"
   ]
  },
  {
   "cell_type": "markdown",
   "id": "3014d1f0-bbfd-44a4-bfed-b270e728d767",
   "metadata": {
    "jp-MarkdownHeadingCollapsed": true
   },
   "source": [
    "## Print Datasets\n"
   ]
  },
  {
   "cell_type": "markdown",
   "id": "4e94d3df-0ae3-4619-b954-13b059a57376",
   "metadata": {},
   "source": [
    "### MNIST"
   ]
  },
  {
   "cell_type": "code",
   "execution_count": 53,
   "id": "e14c2b6f-5fe5-4981-bbaa-c17dc95cb698",
   "metadata": {},
   "outputs": [
    {
     "name": "stdout",
     "output_type": "stream",
     "text": [
      "torch.Size([28, 28])\n",
      "torch.Size([128, 128])\n"
     ]
    },
    {
     "data": {
      "image/png": "[encoded data removed]",
      "text/plain": [
       "<Figure size 640x480 with 1 Axes>"
      ]
     },
     "metadata": {},
     "output_type": "display_data"
    },
    {
     "name": "stdout",
     "output_type": "stream",
     "text": [
      "torch.Size([3, 128, 128])\n"
     ]
    }
   ],
   "source": [
    "print(train_dataset_mnist.data[0].shape)\n",
    "plt.imshow(train_dataset_mnist.data[0], cmap='gray')\n",
    "\n",
    "print(train_dataset_mnist[0][0][0].shape)\n",
    "plt.imshow(train_dataset_mnist[0][0][0], cmap='gray')\n",
    "\n",
    "# plt.title('%i' % train_dataset_mnist.targets[0])\n",
    "plt.show()\n",
    "\n",
    "# plt.figure()\n",
    "print(train_dataset_mnist[0][0].shape)\n",
    "\n",
    "# plt.title('%i' % train_dataset_mnist.targets[2])\n",
    "# utils.imshow(train_dataset_mnist[2][0])\n",
    "# plt.show()"
   ]
  },
  {
   "cell_type": "code",
   "execution_count": null,
   "id": "ad9e0dea-44cc-4739-933e-102f4888ee81",
   "metadata": {},
   "outputs": [],
   "source": [
    "figure = plt.figure(figsize=(10, 8))\n",
    "cols, rows = 5, 5\n",
    "for i in range(1, cols * rows + 1):\n",
    "    sample_idx = torch.randint(len(train_dataset_mnist), size=(1,)).item()\n",
    "    img = train_dataset_mnist.data[sample_idx]\n",
    "    label = train_dataset_mnist.targets[sample_idx].item()\n",
    "    figure.add_subplot(rows, cols, i)\n",
    "    plt.title(label)\n",
    "    plt.axis(\"off\")\n",
    "    plt.imshow(img, cmap=\"gray\")\n",
    "plt.show()"
   ]
  },
  {
   "cell_type": "markdown",
   "id": "a293ddd8-069a-4238-9582-4277a8ba3890",
   "metadata": {
    "jp-MarkdownHeadingCollapsed": true
   },
   "source": [
    "### SVHN"
   ]
  },
  {
   "cell_type": "code",
   "execution_count": 68,
   "id": "4c14fcfd-9f9d-4025-b276-e362dec7e3d9",
   "metadata": {},
   "outputs": [
    {
     "name": "stdout",
     "output_type": "stream",
     "text": [
      "torch.Size([3, 32, 32])\n"
     ]
    },
    {
     "data": {
      "image/png": "[encoded data removed]",
      "text/plain": [
       "<Figure size 640x480 with 1 Axes>"
      ]
     },
     "metadata": {},
     "output_type": "display_data"
    }
   ],
   "source": [
    "plt.figure()\n",
    "print(train_dataset_svhn[0][0].shape)\n",
    "imshow(train_dataset_svhn[9][0])"
   ]
  },
  {
   "cell_type": "code",
   "execution_count": null,
   "id": "94d78f30-75e6-45fb-9055-26913be03e24",
   "metadata": {},
   "outputs": [],
   "source": [
    "figure = plt.figure(figsize=(10, 8))\n",
    "cols, rows = 5, 5\n",
    "for i in range(1, cols * rows + 1):\n",
    "    sample_idx = torch.randint(len(train_dataset_svhn), size=(1,)).item()\n",
    "    img, label = train_dataset_svhn[sample_idx]\n",
    "    img = img / 2 + 0.5     # unnormalize\n",
    "    npimg = img.numpy()\n",
    "    figure.add_subplot(rows, cols, i)\n",
    "    plt.title(label)\n",
    "    plt.axis(\"off\")\n",
    "    # plt.imshow(np.transpose(npimg, (1, 2, 0)))\n",
    "    plt.imshow(np.transpose(npimg, (1, 2, 0)))\n",
    "plt.show()"
   ]
  },
  {
   "cell_type": "markdown",
   "id": "eb7efa11-0b82-4b28-9f8d-92a90ede0f1d",
   "metadata": {
    "jp-MarkdownHeadingCollapsed": true
   },
   "source": [
    "### Concatened"
   ]
  },
  {
   "cell_type": "code",
   "execution_count": 70,
   "id": "c1e58489-f1ae-4270-96a3-121ebba184cd",
   "metadata": {
    "scrolled": true
   },
   "outputs": [
    {
     "name": "stdout",
     "output_type": "stream",
     "text": [
      "6\n"
     ]
    },
    {
     "data": {
      "image/png": "[encoded data removed]",
      "text/plain": [
       "<Figure size 640x480 with 1 Axes>"
      ]
     },
     "metadata": {},
     "output_type": "display_data"
    },
    {
     "name": "stdout",
     "output_type": "stream",
     "text": [
      "6\n"
     ]
    },
    {
     "data": {
      "image/png": "[encoded data removed]",
      "text/plain": [
       "<Figure size 640x480 with 1 Axes>"
      ]
     },
     "metadata": {},
     "output_type": "display_data"
    },
    {
     "name": "stdout",
     "output_type": "stream",
     "text": [
      "5\n"
     ]
    },
    {
     "data": {
      "image/png": "[encoded data removed]",
      "text/plain": [
       "<Figure size 640x480 with 1 Axes>"
      ]
     },
     "metadata": {},
     "output_type": "display_data"
    },
    {
     "name": "stdout",
     "output_type": "stream",
     "text": [
      "7\n"
     ]
    },
    {
     "data": {
      "image/png": "[encoded data removed]",
      "text/plain": [
       "<Figure size 640x480 with 1 Axes>"
      ]
     },
     "metadata": {},
     "output_type": "display_data"
    }
   ],
   "source": [
    "# Inicio\n",
    "print(test_dataset_combined[100][1])\n",
    "imshow(test_dataset_combined[100][0])\n",
    "#mnist 0 - 9999\n",
    "print(test_dataset_combined[9999][1])\n",
    "imshow(test_dataset_combined[9999][0])\n",
    "# Fim\n",
    "\n",
    "\n",
    "# svhn 10000 - 36031\n",
    "print(test_dataset_combined[10000][1])\n",
    "imshow(test_dataset_combined[10000][0])\n",
    "print(test_dataset_combined[36031][1])\n",
    "imshow(test_dataset_combined[36031][0])\n",
    "# Fim\n"
   ]
  },
  {
   "cell_type": "markdown",
   "id": "6a7ac199-be52-4813-a09f-2497bbbfe51e",
   "metadata": {},
   "source": [
    "# Models"
   ]
  },
  {
   "cell_type": "markdown",
   "id": "a0285d7e-f4ec-433d-9150-0a546c673e60",
   "metadata": {},
   "source": [
    "## Create or Load"
   ]
  },
  {
   "cell_type": "code",
   "execution_count": 8,
   "id": "398d611f-2dfa-469e-934d-d737b889a885",
   "metadata": {},
   "outputs": [],
   "source": [
    "model_mnist = utils.create_resnet_model()\n",
    "model_svhn = utils.create_resnet_model()\n",
    "model_combined = utils.create_resnet_model()"
   ]
  },
  {
   "cell_type": "code",
   "execution_count": 4,
   "id": "01c2bc09-7370-4b3d-bb3c-a1e51294cd92",
   "metadata": {},
   "outputs": [],
   "source": [
    "model_mnist = utils.create_resnet_model('./my_weights/mnist_32.pth')\n",
    "model_svhn = utils.create_resnet_model('./my_weights/svhn_32.pth')\n",
    "model_combined = utils.create_resnet_model('./my_weights/combined_32.pth')"
   ]
  },
  {
   "cell_type": "markdown",
   "id": "3c31fa25-2feb-4f90-bffd-d5dfb05d6d72",
   "metadata": {},
   "source": [
    "## Train and Save"
   ]
  },
  {
   "cell_type": "code",
   "execution_count": 11,
   "id": "9fd9ff78-d996-4b1c-b4c5-87c402711149",
   "metadata": {},
   "outputs": [
    {
     "name": "stdout",
     "output_type": "stream",
     "text": [
      "Epoch 1/10 - Loss: 0.3548, Accuracy: 89.29%\n",
      "Epoch 2/10 - Loss: 0.2136, Accuracy: 93.96%\n",
      "Epoch 3/10 - Loss: 0.1688, Accuracy: 95.21%\n",
      "Epoch 4/10 - Loss: 0.1350, Accuracy: 96.21%\n",
      "Epoch 5/10 - Loss: 0.1055, Accuracy: 96.97%\n",
      "Epoch 6/10 - Loss: 0.0817, Accuracy: 97.52%\n",
      "Epoch 7/10 - Loss: 0.0636, Accuracy: 98.06%\n",
      "Epoch 8/10 - Loss: 0.0516, Accuracy: 98.35%\n",
      "Epoch 9/10 - Loss: 0.0418, Accuracy: 98.64%\n",
      "Epoch 10/10 - Loss: 0.0366, Accuracy: 98.82%\n",
      "Training complete.\n",
      "Epoch 1/10 - Loss: 0.2310, Accuracy: 93.19%\n",
      "Epoch 2/10 - Loss: 0.1481, Accuracy: 95.77%\n",
      "Epoch 3/10 - Loss: 0.1131, Accuracy: 96.83%\n",
      "Epoch 4/10 - Loss: 0.0861, Accuracy: 97.54%\n",
      "Epoch 5/10 - Loss: 0.0641, Accuracy: 98.11%\n",
      "Epoch 6/10 - Loss: 0.0494, Accuracy: 98.50%\n",
      "Epoch 7/10 - Loss: 0.0372, Accuracy: 98.82%\n",
      "Epoch 8/10 - Loss: 0.0297, Accuracy: 99.04%\n",
      "Epoch 9/10 - Loss: 0.0244, Accuracy: 99.23%\n",
      "Epoch 10/10 - Loss: 0.0215, Accuracy: 99.32%\n",
      "Training complete.\n"
     ]
    }
   ],
   "source": [
    "# utils.train(model_mnist, train_dataloader_mnist,  epochs=10, lr=0.001)\n",
    "# torch.save(model_mnist.state_dict(), './my_weights/mnist_32.pth')\n",
    "\n",
    "\n",
    "# utils.train(model_svhn, train_dataloader_svhn, epochs=10, lr=0.001)\n",
    "# torch.save(model_svhn.state_dict(), './my_weights/svhn_32.pth')\n",
    "\n",
    "\n",
    "# utils.train(model_combined, train_dataloader_combined, epochs=10, lr=0.001)\n",
    "# torch.save(model_combined.state_dict(), './my_weights/combined_32.pth')"
   ]
  },
  {
   "cell_type": "markdown",
   "id": "58221a00-34ac-4e78-bdf1-f72d5a282889",
   "metadata": {},
   "source": [
    "## Evaluate"
   ]
  },
  {
   "cell_type": "code",
   "execution_count": 5,
   "id": "bbb35ab3-8af2-4f25-bb4d-15eed080bced",
   "metadata": {},
   "outputs": [
    {
     "name": "stdout",
     "output_type": "stream",
     "text": [
      "model_mnist - Test Loss: 0.0295, Accuracy: 99.29\n",
      "model_svhn - Test Loss: 0.2867, Accuracy: 93.10\n",
      "model_combined - Test Loss: 0.2748, Accuracy: 93.42\n"
     ]
    }
   ],
   "source": [
    "# Test each model in itself dataset\n",
    "test_loss, accuracy = utils.evaluate(model_mnist, test_dataloader_mnist)\n",
    "print(f\"model_mnist - Test Loss: {test_loss:.4f}, Accuracy: {accuracy:.2f}\")\n",
    "\n",
    "test_loss, accuracy = utils.evaluate(model_svhn, test_dataloader_svhn)\n",
    "print(f\"model_svhn - Test Loss: {test_loss:.4f}, Accuracy: {accuracy:.2f}\")\n",
    "\n",
    "test_loss, accuracy = utils.evaluate(model_combined, test_dataloader_combined)\n",
    "print(f\"model_combined - Test Loss: {test_loss:.4f}, Accuracy: {accuracy:.2f}\")"
   ]
  },
  {
   "cell_type": "code",
   "execution_count": 6,
   "id": "4b5e8327-bd98-4872-9be2-030c72fb1699",
   "metadata": {},
   "outputs": [
    {
     "name": "stdout",
     "output_type": "stream",
     "text": [
      "model_mnist - Test Loss: 4.0137, Accuracy: 43.71\n"
     ]
    }
   ],
   "source": [
    "# Test each model in combined dataset\n",
    "test_loss, accuracy = utils.evaluate(model_mnist, test_dataloader_combined)\n",
    "print(f\"model_mnist - Test Loss: {test_loss:.4f}, Accuracy: {accuracy:.2f}\")\n",
    "\n",
    "# test_loss, accuracy = utils.evaluate(model_svhn, test_dataloader_combined)\n",
    "# print(f\"model_svhn - Test Loss: {test_loss:.4f}, Accuracy: {accuracy:.2f}\")\n",
    "\n",
    "# test_loss, accuracy = utils.evaluate(model_combined, test_dataloader_combined)\n",
    "# print(f\"model_combined - Test Loss: {test_loss:.4f}, Accuracy: {accuracy:.2f}\")"
   ]
  },
  {
   "cell_type": "markdown",
   "id": "18c1acb8-8201-48f4-bcfa-5f7bef60a42d",
   "metadata": {},
   "source": [
    "# Copycat"
   ]
  },
  {
   "cell_type": "markdown",
   "id": "3306d543-47e0-4291-9431-586a0f892d05",
   "metadata": {},
   "source": [
    "## Attack Dataset"
   ]
  },
  {
   "cell_type": "code",
   "execution_count": 9,
   "id": "a8747727-8b7f-40ec-8905-2b4323526e5e",
   "metadata": {},
   "outputs": [
    {
     "ename": "FileNotFoundError",
     "evalue": "[Errno 2] No such file or directory: 'data/npd.txt'",
     "output_type": "error",
     "traceback": [
      "\u001b[31m---------------------------------------------------------------------------\u001b[39m",
      "\u001b[31mFileNotFoundError\u001b[39m                         Traceback (most recent call last)",
      "\u001b[36mCell\u001b[39m\u001b[36m \u001b[39m\u001b[32mIn[9]\u001b[39m\u001b[32m, line 2\u001b[39m\n\u001b[32m      1\u001b[39m \u001b[38;5;66;03m# Define dataset\u001b[39;00m\n\u001b[32m----> \u001b[39m\u001b[32m2\u001b[39m attack_dataset = \u001b[43mImageList\u001b[49m\u001b[43m(\u001b[49m\n\u001b[32m      3\u001b[39m \u001b[43m    \u001b[49m\u001b[43mfilename\u001b[49m\u001b[43m=\u001b[49m\u001b[33;43m\"\u001b[39;49m\u001b[33;43mdata/npd.txt\u001b[39;49m\u001b[33;43m\"\u001b[39;49m\u001b[43m,\u001b[49m\n\u001b[32m      4\u001b[39m \u001b[43m    \u001b[49m\u001b[43mroot\u001b[49m\u001b[43m=\u001b[49m\u001b[33;43m\"\u001b[39;49m\u001b[33;43m.\u001b[39;49m\u001b[33;43m\"\u001b[39;49m\u001b[43m,\u001b[49m\n\u001b[32m      5\u001b[39m \u001b[43m    \u001b[49m\u001b[43mcolor\u001b[49m\u001b[43m=\u001b[49m\u001b[38;5;28;43;01mTrue\u001b[39;49;00m\u001b[43m,\u001b[49m\n\u001b[32m      6\u001b[39m \u001b[43m    \u001b[49m\u001b[38;5;66;43;03m# transform=transforms.ToTensor(),\u001b[39;49;00m\n\u001b[32m      7\u001b[39m \u001b[43m    \u001b[49m\u001b[43mtransform\u001b[49m\u001b[43m \u001b[49m\u001b[43m=\u001b[49m\u001b[43m \u001b[49m\u001b[43mtransforms\u001b[49m\u001b[43m.\u001b[49m\u001b[43mCompose\u001b[49m\u001b[43m(\u001b[49m\u001b[43m[\u001b[49m\u001b[43mtransforms\u001b[49m\u001b[43m.\u001b[49m\u001b[43mResize\u001b[49m\u001b[43m(\u001b[49m\u001b[43m(\u001b[49m\u001b[32;43m32\u001b[39;49m\u001b[43m,\u001b[49m\u001b[43m \u001b[49m\u001b[32;43m32\u001b[39;49m\u001b[43m)\u001b[49m\u001b[43m)\u001b[49m\u001b[43m,\u001b[49m\n\u001b[32m      8\u001b[39m \u001b[43m                                    \u001b[49m\u001b[43mToTensor\u001b[49m\u001b[43m(\u001b[49m\u001b[43m)\u001b[49m\u001b[43m,\u001b[49m\n\u001b[32m      9\u001b[39m \u001b[43m                                    \u001b[49m\u001b[43mtransforms\u001b[49m\u001b[43m.\u001b[49m\u001b[43mNormalize\u001b[49m\u001b[43m(\u001b[49m\u001b[43m(\u001b[49m\u001b[32;43m0.5\u001b[39;49m\u001b[43m,\u001b[49m\u001b[43m \u001b[49m\u001b[32;43m0.5\u001b[39;49m\u001b[43m,\u001b[49m\u001b[43m \u001b[49m\u001b[32;43m0.5\u001b[39;49m\u001b[43m)\u001b[49m\u001b[43m,\u001b[49m\u001b[43m \u001b[49m\u001b[43m(\u001b[49m\u001b[32;43m0.5\u001b[39;49m\u001b[43m,\u001b[49m\u001b[43m \u001b[49m\u001b[32;43m0.5\u001b[39;49m\u001b[43m,\u001b[49m\u001b[43m \u001b[49m\u001b[32;43m0.5\u001b[39;49m\u001b[43m)\u001b[49m\u001b[43m)\u001b[49m\n\u001b[32m     10\u001b[39m \u001b[43m                                   \u001b[49m\u001b[43m]\u001b[49m\u001b[43m)\u001b[49m\u001b[43m,\u001b[49m\n\u001b[32m     11\u001b[39m \u001b[43m    \u001b[49m\u001b[43mreturn_filename\u001b[49m\u001b[43m=\u001b[49m\u001b[38;5;28;43;01mTrue\u001b[39;49;00m\n\u001b[32m     12\u001b[39m \u001b[43m)\u001b[49m\n\u001b[32m     14\u001b[39m \u001b[38;5;66;03m# Create DataLoader\u001b[39;00m\n\u001b[32m     15\u001b[39m attack_dataloader = DataLoader(attack_dataset, batch_size=\u001b[32m64\u001b[39m, shuffle=\u001b[38;5;28;01mFalse\u001b[39;00m)\n",
      "\u001b[36mFile \u001b[39m\u001b[32m~/copycat-merge-tcc/image_list.py:107\u001b[39m, in \u001b[36mImageList.__init__\u001b[39m\u001b[34m(self, filename, root, color, channels, transform, target_transform, return_filename, balance_dataset)\u001b[39m\n\u001b[32m    105\u001b[39m \u001b[38;5;28mself\u001b[39m.target_transform = target_transform\n\u001b[32m    106\u001b[39m \u001b[38;5;28mself\u001b[39m.ret_fn(return_filename)\n\u001b[32m--> \u001b[39m\u001b[32m107\u001b[39m \u001b[38;5;28mself\u001b[39m.data, \u001b[38;5;28mself\u001b[39m.targets, \u001b[38;5;28mself\u001b[39m.logits, \u001b[38;5;28mself\u001b[39m.void_labels = \u001b[38;5;28;43mself\u001b[39;49m\u001b[43m.\u001b[49m\u001b[43m__process_data\u001b[49m\u001b[43m(\u001b[49m\u001b[43m)\u001b[49m\n\u001b[32m    108\u001b[39m \u001b[38;5;28mself\u001b[39m.categories = np.unique(\u001b[38;5;28mself\u001b[39m.targets).astype(np.uint8)\n\u001b[32m    109\u001b[39m \u001b[38;5;28mself\u001b[39m.balanced_indexes = \u001b[38;5;28;01mNone\u001b[39;00m\n",
      "\u001b[36mFile \u001b[39m\u001b[32m~/copycat-merge-tcc/image_list.py:135\u001b[39m, in \u001b[36mImageList.__process_data\u001b[39m\u001b[34m(self)\u001b[39m\n\u001b[32m    134\u001b[39m \u001b[38;5;28;01mdef\u001b[39;00m\u001b[38;5;250m \u001b[39m\u001b[34m__process_data\u001b[39m(\u001b[38;5;28mself\u001b[39m):\n\u001b[32m--> \u001b[39m\u001b[32m135\u001b[39m     file_contents = \u001b[38;5;28;43mself\u001b[39;49m\u001b[43m.\u001b[49m\u001b[43m__open\u001b[49m\u001b[43m(\u001b[49m\u001b[43m)\u001b[49m\n\u001b[32m    136\u001b[39m     logits = \u001b[38;5;28;01mFalse\u001b[39;00m\n\u001b[32m    137\u001b[39m     void_labels = \u001b[38;5;28;01mFalse\u001b[39;00m\n",
      "\u001b[36mFile \u001b[39m\u001b[32m~/copycat-merge-tcc/image_list.py:131\u001b[39m, in \u001b[36mImageList.__open\u001b[39m\u001b[34m(self)\u001b[39m\n\u001b[32m    129\u001b[39m     file_contents = StringIO(file_bz2.read())\n\u001b[32m    130\u001b[39m \u001b[38;5;28;01melse\u001b[39;00m:\n\u001b[32m--> \u001b[39m\u001b[32m131\u001b[39m     file_contents = StringIO(\u001b[38;5;28;43mopen\u001b[39;49m\u001b[43m(\u001b[49m\u001b[38;5;28;43mself\u001b[39;49m\u001b[43m.\u001b[49m\u001b[43mfilename\u001b[49m\u001b[43m)\u001b[49m.read())\n\u001b[32m    132\u001b[39m \u001b[38;5;28;01mreturn\u001b[39;00m file_contents\n",
      "\u001b[31mFileNotFoundError\u001b[39m: [Errno 2] No such file or directory: 'data/npd.txt'"
     ]
    }
   ],
   "source": [
    "# Define dataset\n",
    "attack_dataset = ImageList(\n",
    "    filename=\"data/npd.txt\",\n",
    "    root=\".\",\n",
    "    color=True,\n",
    "    # transform=transforms.ToTensor(),\n",
    "    transform = transforms.Compose([transforms.Resize((32, 32)),\n",
    "                                    ToTensor(),\n",
    "                                    transforms.Normalize((0.5, 0.5, 0.5), (0.5, 0.5, 0.5))\n",
    "                                   ]),\n",
    "    return_filename=True\n",
    ")\n",
    "\n",
    "# Create DataLoader\n",
    "attack_dataloader = DataLoader(attack_dataset, batch_size=64, shuffle=False)"
   ]
  },
  {
   "cell_type": "code",
   "execution_count": 11,
   "id": "7321b081-540d-43ce-85b1-649606febf25",
   "metadata": {},
   "outputs": [
    {
     "name": "stdout",
     "output_type": "stream",
     "text": [
      "Image path: /home/jeiks/Christian/data/imagenet32_images/train/993/0.png\n",
      "Image shape: torch.Size([3, 32, 32])\n",
      "Label: 1\n"
     ]
    }
   ],
   "source": [
    "# Iterate through the DataLoader\n",
    "for img, label, path in attack_dataloader:\n",
    "    print(f\"Image path: {path[0]}\")\n",
    "    print(f\"Image shape: {img[0].shape}\")\n",
    "    print(f\"Label: {label[0]}\")\n",
    "    # for i in range(4):\n",
    "        # print(f\"{path[i]} {label[i]}\")\n",
    "    # plt.imshow(img[2])\n",
    "    break"
   ]
  },
  {
   "cell_type": "code",
   "execution_count": 19,
   "id": "94e9f278-6ad7-4a24-86a8-3ce39fd6c8b1",
   "metadata": {},
   "outputs": [
    {
     "name": "stdout",
     "output_type": "stream",
     "text": [
      "/home/jeiks/Christian/data/imagenet32_images/train/993/0.png 1\n",
      "torch.Size([3, 32, 32])\n"
     ]
    },
    {
     "data": {
      "image/png": "[encoded data removed]",
      "text/plain": [
       "<Figure size 640x480 with 1 Axes>"
      ]
     },
     "metadata": {},
     "output_type": "display_data"
    }
   ],
   "source": [
    "print(attack_dataset.data[0], attack_dataset.targets[0])\n",
    "for x, y, z in attack_dataloader:\n",
    "    print(x[0].shape)\n",
    "    utils.imshow(x[0])\n",
    "    break"
   ]
  },
  {
   "cell_type": "code",
   "execution_count": 12,
   "id": "4d64ce7e-ce74-4018-82cc-dc43e3e4ae39",
   "metadata": {
    "scrolled": true
   },
   "outputs": [
    {
     "name": "stdout",
     "output_type": "stream",
     "text": [
      "1-n02119789/n02119789_11756.jpeg 1\n",
      "1-n02119789/n02119789_11309.jpeg 1\n",
      "1-n02119789/n02119789_11131.jpeg 1\n",
      "1-n02119789/n02119789_14615.jpeg 1\n",
      "1-n02119789/n02119789_2159.jpeg 1\n",
      "1-n02119789/n02119789_13095.jpeg 1\n",
      "1-n02119789/n02119789_8146.jpeg 1\n",
      "1-n02119789/n02119789_2212.jpeg 1\n",
      "1-n02119789/n02119789_10572.jpeg 1\n",
      "1-n02119789/n02119789_5975.jpeg 1\n",
      "Dataset ImageList:\n",
      "    Number of datapoints: 1281167\n",
      "     * Class 0:  35881 samples\n",
      "     * Class 1: 405353 samples\n",
      "     * Class 2: 152131 samples\n",
      "     * Class 3: 119401 samples\n",
      "     * Class 4: 286891 samples\n",
      "     * Class 5:  16659 samples\n",
      "     * Class 6: 101608 samples\n",
      "     * Class 7:  30597 samples\n",
      "     * Class 8: 107467 samples\n",
      "     * Class 9:  25179 samples\n",
      "    Transforms (if any): Compose(\n",
      "                             Resize(size=(32, 32), interpolation=bilinear, max_size=None, antialias=True)\n",
      "                             ToTensor()\n",
      "                             Normalize(mean=(0.5, 0.5, 0.5), std=(0.5, 0.5, 0.5))\n",
      "                         )\n",
      "    Target Transforms (if any): None\n"
     ]
    }
   ],
   "source": [
    "!head -n 10 data/attack_dataset.txt\n",
    "print(attack_dataset)"
   ]
  },
  {
   "cell_type": "markdown",
   "id": "19d98d7e-30e7-44d7-a493-5b2e1df31002",
   "metadata": {},
   "source": [
    "## Extract Models"
   ]
  },
  {
   "cell_type": "code",
   "execution_count": 7,
   "id": "4997d639-25a7-4ed2-8442-e33a8eccd707",
   "metadata": {},
   "outputs": [],
   "source": [
    "def extract_model(model, dataloader, output_file, save_softlabels=False, device=\"cuda\" if torch.cuda.is_available() else \"cpu\", n_bacthes=None):\n",
    "    \"\"\"\n",
    "    Faz inferência com um modelo PyTorch e salva o caminho da imagem e a classe inferida em um arquivo de saída.\n",
    "\n",
    "    Args:\n",
    "        model (torch.nn.Module): Modelo PyTorch treinado.\n",
    "        dataloader (torch.utils.data.DataLoader): DataLoader com imagens e seus caminhos.\n",
    "        output_file (str): Caminho do arquivo de saída.\n",
    "        save_softlabels (bool, optional): Se True, salva as probabilidades para todas as classes. Default: False.\n",
    "        device (str, optional): Dispositivo para inferência (\"cuda\" ou \"cpu\"). Default: \"cuda\" se disponível.\n",
    "    \"\"\"\n",
    "    model.to(device)\n",
    "    model.eval()  # Modo de inferência\n",
    "    total = 0\n",
    "    with open(output_file, \"w\") as f:\n",
    "        with torch.no_grad():\n",
    "            for images, _labels, paths in dataloader:  # Assumindo que o dataset retorna (imagem, caminho)\n",
    "                if(n_bacthes != None and total == n_bacthes):\n",
    "                    break\n",
    "                total+=1\n",
    "                images = images.to(device)\n",
    "                outputs = model(images)\n",
    "\n",
    "                if save_softlabels:\n",
    "                    softlabels = torch.nn.functional.softmax(outputs, dim=1).cpu().numpy()\n",
    "                    for path, probs in zip(paths, softlabels):\n",
    "                        probs_str = \" \".join(map(str, probs))  # Converte lista de probabilidades para string\n",
    "                        f.write(f\"{path} {probs_str}\\n\")\n",
    "                else:\n",
    "                    _, preds = torch.max(outputs, 1)  # Obtém a classe com maior probabilidade\n",
    "                    for path, pred in zip(paths, preds.cpu().numpy()):\n",
    "                        f.write(f\"{path} {pred}\\n\")  # Salva caminho da imagem e classe inferida\n",
    "\n",
    "    print(f\"Inferência concluída. Resultados salvos em {output_file}\")"
   ]
  },
  {
   "cell_type": "code",
   "execution_count": 8,
   "id": "36252e5e-0b03-43d3-817b-2a5c405c5aa8",
   "metadata": {},
   "outputs": [
    {
     "ename": "NameError",
     "evalue": "name 'attack_dataloader' is not defined",
     "output_type": "error",
     "traceback": [
      "\u001b[31m---------------------------------------------------------------------------\u001b[39m",
      "\u001b[31mNameError\u001b[39m                                 Traceback (most recent call last)",
      "\u001b[36mCell\u001b[39m\u001b[36m \u001b[39m\u001b[32mIn[8]\u001b[39m\u001b[32m, line 5\u001b[39m\n\u001b[32m      1\u001b[39m \u001b[38;5;66;03m# extract_model(model_mnist, attack_dataloader, \"extracted_mnist.txt\")\u001b[39;00m\n\u001b[32m      2\u001b[39m \u001b[38;5;66;03m# extract_model(model_svhn, attack_dataloader, \"extracted_svhn.txt\")\u001b[39;00m\n\u001b[32m      3\u001b[39m \n\u001b[32m      4\u001b[39m \u001b[38;5;66;03m# softlabels\u001b[39;00m\n\u001b[32m----> \u001b[39m\u001b[32m5\u001b[39m extract_model(model_mnist, \u001b[43mattack_dataloader\u001b[49m, \u001b[33m\"\u001b[39m\u001b[33mdata/extracted_soft_mnist.txt\u001b[39m\u001b[33m\"\u001b[39m, save_softlabels=\u001b[38;5;28;01mTrue\u001b[39;00m)\n\u001b[32m      6\u001b[39m extract_model(model_svhn, attack_dataloader, \u001b[33m\"\u001b[39m\u001b[33mdata/extracted_soft_svhn.txt\u001b[39m\u001b[33m\"\u001b[39m, save_softlabels=\u001b[38;5;28;01mTrue\u001b[39;00m)\n\u001b[32m      8\u001b[39m \u001b[38;5;66;03m# extract_model(model_svhn, attack_dataloader, \"teste.txt\", save_softlabels=True, n_batchs=1)\u001b[39;00m\n",
      "\u001b[31mNameError\u001b[39m: name 'attack_dataloader' is not defined"
     ]
    }
   ],
   "source": [
    "# extract_model(model_mnist, attack_dataloader, \"extracted_mnist.txt\")\n",
    "# extract_model(model_svhn, attack_dataloader, \"extracted_svhn.txt\")\n",
    "\n",
    "# softlabels\n",
    "extract_model(model_mnist, attack_dataloader, \"data/extracted_soft_mnist.txt\", save_softlabels=True)\n",
    "extract_model(model_svhn, attack_dataloader, \"data/extracted_soft_svhn.txt\", save_softlabels=True)\n",
    "\n",
    "# extract_model(model_svhn, attack_dataloader, \"teste.txt\", save_softlabels=True, n_batchs=1)"
   ]
  },
  {
   "cell_type": "code",
   "execution_count": 17,
   "id": "1695ebec-af48-4f91-8d3b-ef7565f05425",
   "metadata": {},
   "outputs": [
    {
     "name": "stdout",
     "output_type": "stream",
     "text": [
      "/home/jeiks/Christian/data/imagenet32_images/train/993/0.png 4\n",
      "/home/jeiks/Christian/data/imagenet32_images/train/550/1.png 4\n",
      "/home/jeiks/Christian/data/imagenet32_images/train/352/2.png 4\n",
      "/home/jeiks/Christian/data/imagenet32_images/train/401/3.png 1\n",
      "/home/jeiks/Christian/data/imagenet32_images/train/38/4.png 1\n",
      "/home/jeiks/Christian/data/imagenet32_images/train/964/5.png 1\n",
      "/home/jeiks/Christian/data/imagenet32_images/train/57/6.png 1\n",
      "/home/jeiks/Christian/data/imagenet32_images/train/879/7.png 1\n",
      "/home/jeiks/Christian/data/imagenet32_images/train/623/8.png 4\n",
      "/home/jeiks/Christian/data/imagenet32_images/train/599/9.png 1\n",
      "===========\n",
      "/home/jeiks/Christian/data/imagenet32_images/train/993/0.png 3\n",
      "/home/jeiks/Christian/data/imagenet32_images/train/550/1.png 2\n",
      "/home/jeiks/Christian/data/imagenet32_images/train/352/2.png 9\n",
      "/home/jeiks/Christian/data/imagenet32_images/train/401/3.png 7\n",
      "/home/jeiks/Christian/data/imagenet32_images/train/38/4.png 6\n",
      "/home/jeiks/Christian/data/imagenet32_images/train/964/5.png 4\n",
      "/home/jeiks/Christian/data/imagenet32_images/train/57/6.png 4\n",
      "/home/jeiks/Christian/data/imagenet32_images/train/879/7.png 0\n",
      "/home/jeiks/Christian/data/imagenet32_images/train/623/8.png 5\n",
      "/home/jeiks/Christian/data/imagenet32_images/train/599/9.png 9\n"
     ]
    }
   ],
   "source": [
    "#verificando o fake dataset\n",
    "!head ./extracted_mnist.txt \n",
    "print(\"===========\")\n",
    "# !head ./extracted_svhn.txt "
   ]
  },
  {
   "cell_type": "markdown",
   "id": "f67dc191-9511-4881-9a4f-0df78e11062b",
   "metadata": {},
   "source": [
    "## Train Copycat"
   ]
  },
  {
   "cell_type": "code",
   "execution_count": 31,
   "id": "a802100b-7a4e-4907-959f-4c310ebe46b5",
   "metadata": {},
   "outputs": [],
   "source": [
    "def process_file(input_path, output_path):\n",
    "    with open(input_path, 'r') as infile, open(output_path, 'w') as outfile:\n",
    "        for line in infile:\n",
    "            processed_line = line.replace(\"data/IMAGENET/\", \"\", 1)  # Remove apenas a primeira ocorrência\n",
    "            outfile.write(processed_line)\n",
    "\n",
    "\n",
    "# process_file(\"extracted_mnist.txt\", \"data/extracted_mnist.txt\")\n",
    "# process_file(\"extracted_svhn.txt\", \"data/extracted_svhn.txt\")\n",
    "# process_file(\"extracted_soft_mnist.txt\", \"data/extracted_soft_mnist.txt\")\n",
    "# process_file(\"extracted_soft_svhn.txt\", \"data/extracted_soft_svhn.txt\")"
   ]
  },
  {
   "cell_type": "code",
   "execution_count": 32,
   "id": "f425ebac-0ea7-4ec8-99f3-e03e0565b031",
   "metadata": {},
   "outputs": [],
   "source": [
    "fake_dataset_mnist = ImageList(\n",
    "    filename=\"extracted_soft_mnist.txt\",\n",
    "    root=\"data/imagenet32_images/train\",\n",
    "    color=True,\n",
    "    transform=transforms.ToTensor(),\n",
    "    return_filename=False\n",
    ")\n",
    "fake_dataset_svhn = ImageList(\n",
    "    filename=\"extracted_soft_svhn.txt\",\n",
    "    root=\"data/imagenet32_images/train\",\n",
    "    color=True,\n",
    "    transform=transforms.ToTensor(),\n",
    "    return_filename=False\n",
    ")\n",
    "\n",
    "## Creating a Concatened Dataset\n",
    "fake_dataset_combined = ConcatDataset([fake_dataset_mnist,fake_dataset_svhn])\n",
    "\n",
    "\n",
    "fake_dataloader_mnist = DataLoader(fake_dataset_mnist, batch_size=32, shuffle=False)\n",
    "fake_dataloader_svhn = DataLoader(fake_dataset_svhn, batch_size=32, shuffle=False)\n",
    "fake_dataloader_combined = DataLoader(fake_dataset_combined, batch_size=64, shuffle=True)"
   ]
  },
  {
   "cell_type": "code",
   "execution_count": 21,
   "id": "efc4c008-fa9a-40e4-a0b1-936d9584b4eb",
   "metadata": {},
   "outputs": [],
   "source": [
    "model_copycat = utils.create_resnet_model()"
   ]
  },
  {
   "cell_type": "code",
   "execution_count": 24,
   "id": "3d9891c9-4393-4b17-bbd6-2d8632b3588e",
   "metadata": {},
   "outputs": [],
   "source": [
    "# utils.train(model_copycat, fake_dataloader_combined, epochs=10, lr=0.001)\n",
    "# torch.save(model_copycat.state_dict(), './my_weights/copycat.pth')"
   ]
  },
  {
   "cell_type": "code",
   "execution_count": 23,
   "id": "051a6b51-41dd-4cf6-a5a6-63176de6b2df",
   "metadata": {},
   "outputs": [
    {
     "name": "stdout",
     "output_type": "stream",
     "text": [
      "Epoch 1/1 - Loss: 1.2868, Accuracy: 50.72%\n",
      "Training complete.\n",
      "new acc=43.686167850799286% | old acc8.817162522202487\n",
      "Epoch 1/1 - Loss: 1.1375, Accuracy: 52.00%\n",
      "Training complete.\n",
      "new acc=65.49178507992895% | old acc43.686167850799286\n",
      "Epoch 1/1 - Loss: 1.0876, Accuracy: 52.43%\n",
      "Training complete.\n",
      "new acc=67.59269538188278% | old acc65.49178507992895\n",
      "Epoch 1/1 - Loss: 1.0567, Accuracy: 52.63%\n",
      "Training complete.\n",
      "new acc=56.68849911190053% | old acc67.59269538188278\n"
     ]
    }
   ],
   "source": [
    "model_copycat = utils.create_resnet_model()\n",
    "acc1 = 0\n",
    "acc2 = 1\n",
    "count = 0\n",
    "model_copycat2 = copy.deepcopy(model_copycat)\n",
    "\n",
    "while acc2 > acc1:\n",
    "    count +=1\n",
    "    model_copycat = copy.deepcopy(model_copycat2)\n",
    "    _, acc1= utils.evaluate(model_copycat, test_dataloader_combined)\n",
    "    utils.train(model_copycat2, fake_dataloader_combined, epochs=1, lr=0.001)\n",
    "    _, acc2 = utils.evaluate(model_copycat2, test_dataloader_combined)\n",
    "    print(f'new acc={acc2}% | old acc{acc1}')\n",
    "    \n",
    "\n",
    "torch.save(model_copycat.state_dict(), f'./my_weights/copycat_32_{count}c.pth')"
   ]
  },
  {
   "cell_type": "markdown",
   "id": "e561d5c9-fbcd-4b79-8707-b6eab9b7f05e",
   "metadata": {},
   "source": [
    "## Evaluate"
   ]
  },
  {
   "cell_type": "code",
   "execution_count": 19,
   "id": "79c77e41-bebf-43c7-88ba-48948e6b4d7b",
   "metadata": {},
   "outputs": [
    {
     "name": "stdout",
     "output_type": "stream",
     "text": [
      "model_copycat in mnist dataset- Test Loss: 2.9810, Accuracy: 73.60\n",
      "model_copycat in svhn dataset- Test Loss: 18.0022, Accuracy: 58.35\n",
      "model_copycat in combined dataset- Test Loss: 13.8334, Accuracy: 62.58\n",
      "model_copycat in mnist dataset- Test Loss: 4.5535, Accuracy: 60.36\n",
      "model_copycat in svhn dataset- Test Loss: 28.1409, Accuracy: 80.52\n",
      "model_copycat in combined dataset- Test Loss: 21.5946, Accuracy: 74.93\n"
     ]
    }
   ],
   "source": [
    "def test_model_all_datasets(model):\n",
    "    test_loss, accuracy = utils.evaluate(model, test_dataloader_mnist)\n",
    "    print(f\"model_copycat in mnist dataset- Test Loss: {test_loss:.4f}, Accuracy: {accuracy:.2f}\")\n",
    "    \n",
    "    test_loss, accuracy = utils.evaluate(model, test_dataloader_svhn)\n",
    "    print(f\"model_copycat in svhn dataset- Test Loss: {test_loss:.4f}, Accuracy: {accuracy:.2f}\")\n",
    "    \n",
    "    test_loss, accuracy = utils.evaluate(model, test_dataloader_combined)\n",
    "    print(f\"model_copycat in combined dataset- Test Loss: {test_loss:.4f}, Accuracy: {accuracy:.2f}\")\n",
    "model_copycat1 = utils.create_resnet_model('./my_weights/copycat.pth')\n",
    "model_copycat2 = utils.create_resnet_model('./my_weights/copycat_32_10c;2s.pth')    \n",
    "test_model_all_datasets(model_copycat1)\n",
    "test_model_all_datasets(model_copycat2)"
   ]
  },
  {
   "cell_type": "code",
   "execution_count": null,
   "id": "1f5db661-f30a-43e5-9915-f8b2d90ec801",
   "metadata": {},
   "outputs": [],
   "source": []
  },
  {
   "cell_type": "code",
   "execution_count": 20,
   "id": "d9f37990-9b98-48cf-84aa-b452a39a55a4",
   "metadata": {},
   "outputs": [
    {
     "name": "stdout",
     "output_type": "stream",
     "text": [
      "model_copycat in mnist dataset- Test Loss: 1.5105, Accuracy: 65.01\n",
      "model_copycat in svhn dataset- Test Loss: 0.2867, Accuracy: 93.10\n",
      "model_copycat in combined dataset- Test Loss: 0.6263, Accuracy: 85.31\n"
     ]
    }
   ],
   "source": [
    "test_model_all_datasets(model_svhn)"
   ]
  },
  {
   "cell_type": "code",
   "execution_count": 15,
   "id": "c0bcfc54-5870-4d16-a3c8-66e461cf24c0",
   "metadata": {},
   "outputs": [],
   "source": [
    "def create_copycat_model(string):\n",
    "    # string = 'm-5_s-5_m-10'\n",
    "    model = utils.create_resnet_model()\n",
    "    training = string.split(';')\n",
    "    for treino in training:\n",
    "        dataset, epochs = treino.split('_')\n",
    "        epochs = int(epochs)\n",
    "        if(dataset == 'm'):\n",
    "            print(f'treinando {epochs}x no fakedataset do mnist ')\n",
    "            utils.train(model, fake_dataloader_mnist, epochs=epochs, lr=0.001)\n",
    "        else:\n",
    "            print(f'treinando {epochs}x no fakedataset do svhn ')\n",
    "            utils.train(model, fake_dataloader_svhn, epochs=epochs, lr=0.001)\n",
    "\n",
    "    torch.save(model.state_dict(), f'./my_weights/copycat_{string}')\n",
    "    return model"
   ]
  },
  {
   "cell_type": "code",
   "execution_count": 16,
   "id": "46789cce-99c6-44fc-b04a-830c73437aa0",
   "metadata": {},
   "outputs": [
    {
     "name": "stdout",
     "output_type": "stream",
     "text": [
      "treinando 10x no fakedataset do mnist \n",
      "Epoch 1/10 - Loss: 0.2377, Accuracy: 90.60%\n",
      "Epoch 2/10 - Loss: 0.1714, Accuracy: 92.96%\n",
      "Epoch 3/10 - Loss: 0.1440, Accuracy: 94.04%\n",
      "Epoch 4/10 - Loss: 0.1250, Accuracy: 94.80%\n",
      "Epoch 5/10 - Loss: 0.1114, Accuracy: 95.36%\n",
      "Epoch 6/10 - Loss: 0.1003, Accuracy: 95.83%\n",
      "Epoch 7/10 - Loss: 0.0903, Accuracy: 96.26%\n",
      "Epoch 8/10 - Loss: 0.0814, Accuracy: 96.64%\n",
      "Epoch 9/10 - Loss: 0.0739, Accuracy: 96.96%\n",
      "Epoch 10/10 - Loss: 0.0673, Accuracy: 97.24%\n",
      "Training complete.\n",
      "treinando 10x no fakedataset do svhn \n",
      "Epoch 1/10 - Loss: 2.1227, Accuracy: 42.34%\n",
      "Epoch 2/10 - Loss: 1.3176, Accuracy: 54.83%\n",
      "Epoch 3/10 - Loss: 1.1705, Accuracy: 58.81%\n",
      "Epoch 4/10 - Loss: 1.0792, Accuracy: 61.35%\n",
      "Epoch 5/10 - Loss: 1.0094, Accuracy: 63.34%\n",
      "Epoch 6/10 - Loss: 0.9512, Accuracy: 65.03%\n",
      "Epoch 7/10 - Loss: 0.9027, Accuracy: 66.58%\n",
      "Epoch 8/10 - Loss: 0.8618, Accuracy: 67.87%\n",
      "Epoch 9/10 - Loss: 0.8265, Accuracy: 69.05%\n",
      "Epoch 10/10 - Loss: 0.7960, Accuracy: 70.10%\n",
      "Training complete.\n",
      "treinando 10x no fakedataset do svhn \n",
      "Epoch 1/10 - Loss: 1.2078, Accuracy: 56.20%\n",
      "Epoch 2/10 - Loss: 0.9211, Accuracy: 65.66%\n",
      "Epoch 3/10 - Loss: 0.8170, Accuracy: 69.18%\n",
      "Epoch 4/10 - Loss: 0.7506, Accuracy: 71.44%\n",
      "Epoch 5/10 - Loss: 0.6964, Accuracy: 73.35%\n",
      "Epoch 6/10 - Loss: 0.6464, Accuracy: 75.10%\n",
      "Epoch 7/10 - Loss: 0.6030, Accuracy: 76.62%\n",
      "Epoch 8/10 - Loss: 0.5651, Accuracy: 77.99%\n",
      "Epoch 9/10 - Loss: 0.5286, Accuracy: 79.34%\n",
      "Epoch 10/10 - Loss: 0.5012, Accuracy: 80.36%\n",
      "Training complete.\n",
      "treinando 10x no fakedataset do mnist \n",
      "Epoch 1/10 - Loss: 0.2532, Accuracy: 90.20%\n",
      "Epoch 2/10 - Loss: 0.1662, Accuracy: 93.15%\n",
      "Epoch 3/10 - Loss: 0.1410, Accuracy: 94.16%\n",
      "Epoch 4/10 - Loss: 0.1217, Accuracy: 94.96%\n",
      "Epoch 5/10 - Loss: 0.1058, Accuracy: 95.62%\n",
      "Epoch 6/10 - Loss: 0.0918, Accuracy: 96.23%\n",
      "Epoch 7/10 - Loss: 0.0800, Accuracy: 96.73%\n",
      "Epoch 8/10 - Loss: 0.0682, Accuracy: 97.23%\n",
      "Epoch 9/10 - Loss: 0.0597, Accuracy: 97.60%\n",
      "Epoch 10/10 - Loss: 0.0530, Accuracy: 97.88%\n",
      "Training complete.\n"
     ]
    }
   ],
   "source": [
    "#alternando        \n",
    "# modelo_alternado20 = create_copycat_model('d1_1;d2_1;d1_1;d2_1;d1_1;d2_1;d1_1;d2_1;d1_1;d2_1;d1_1;d2_1;d1_1;d2_1;d1_1;d2_1;d1_1;d2_1;d1_1;d2_1')\n",
    "# modelo_alternado40 = create_copycat_model('d1_1;d2_1;d1_1;d2_1;d1_1;d2_1;d1_1;d2_1;d1_1;d2_1;d1_1;d2_1;d1_1;d2_1;d1_1;d2_1;d1_1;d2_1;d1_1;d2_1;d1_1;d2_1;d1_1;d2_1;d1_1;d2_1;d1_1;d2_1;d1_1;d2_1;d1_1;d2_1;d1_1;d2_1;d1_1;d2_1;d1_1;d2_1;d1_1;d2_1')\n",
    "\n",
    "#20 epocas\n",
    "# modelo_mnist10_svhn10 = create_copycat_model('m_10;s_10') \n",
    "# modelo_svhn10_mnist10 = create_copycat_model('s_10;m_10')"
   ]
  },
  {
   "cell_type": "code",
   "execution_count": 19,
   "id": "ebc65f50-1114-40bb-abb7-4d9399b15817",
   "metadata": {},
   "outputs": [
    {
     "name": "stdout",
     "output_type": "stream",
     "text": [
      "modelo_mnist10_svhn10 in combined dataset - Test Loss: 21.0537, Accuracy: 71.75\n",
      "modelo_svhn10_mnist10 in combined dataset - Test Loss: 56.5233, Accuracy: 21.40\n"
     ]
    }
   ],
   "source": [
    "test_loss, accuracy = utils.evaluate(modelo_mnist10_svhn10, test_dataloader_svhn)\n",
    "print(f\"modelo_mnist10_svhn10 in combined dataset - Test Loss: {test_loss:.4f}, Accuracy: {accuracy:.2f}\")\n",
    "\n",
    "test_loss, accuracy = utils.evaluate(modelo_svhn10_mnist10, test_dataloader_svhn)\n",
    "print(f\"modelo_svhn10_mnist10 in combined dataset - Test Loss: {test_loss:.4f}, Accuracy: {accuracy:.2f}\")"
   ]
  },
  {
   "cell_type": "code",
   "execution_count": null,
   "id": "f78eecfe-8b6c-4ad3-b0e0-b29fb6ef1d69",
   "metadata": {},
   "outputs": [],
   "source": [
    "#40 epocas\n",
    "modelo_mnist20_svhn20 = create_copycat_model('m_20;s_20')\n",
    "# modelo_svhn20_mnist20 = create_copycat_model('d2_20;d1_20')"
   ]
  }
 ],
 "metadata": {
  "kernelspec": {
   "display_name": "Python 3 (ipykernel)",
   "language": "python",
   "name": "python3"
  },
  "language_info": {
   "codemirror_mode": {
    "name": "ipython",
    "version": 3
   },
   "file_extension": ".py",
   "mimetype": "text/x-python",
   "name": "python",
   "nbconvert_exporter": "python",
   "pygments_lexer": "ipython3",
   "version": "3.12.3"
  }
 },
 "nbformat": 4,
 "nbformat_minor": 5
}
